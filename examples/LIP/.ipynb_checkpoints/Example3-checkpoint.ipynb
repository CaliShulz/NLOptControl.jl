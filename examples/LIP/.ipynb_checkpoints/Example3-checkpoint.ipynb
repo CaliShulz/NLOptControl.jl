{
 "cells": [
  {
   "cell_type": "markdown",
   "metadata": {},
   "source": [
    "## Using Lagrange Basis Polynomial Functionality"
   ]
  },
  {
   "cell_type": "markdown",
   "metadata": {},
   "source": [
    "Now that we have pused the functionlity to utils.jl, we can use it from the package!"
   ]
  },
  {
   "cell_type": "code",
   "execution_count": 1,
   "metadata": {
    "collapsed": false
   },
   "outputs": [],
   "source": [
    "using NLOptControl\n",
    "using Plots\n",
    "pyplot()\n",
    "default(guidefont = font(17), tickfont = font(15), legendfont = font(12), titlefont = font(20))"
   ]
  },
  {
   "cell_type": "code",
   "execution_count": 26,
   "metadata": {
    "collapsed": false
   },
   "outputs": [
    {
     "name": "stderr",
     "output_type": "stream",
     "text": [
      "WARNING: Method definition y(AbstractArray{#T<:Number, N<:Any}) in module Main at In[24]:6 overwritten at In[26]:6.\n"
     ]
    },
    {
     "ename": "LoadError",
     "evalue": "LoadError: Maximum N value = length(x_data)-1\nwhile loading In[26], in expression starting on line 12",
     "output_type": "error",
     "traceback": [
      "LoadError: Maximum N value = length(x_data)-1\nwhile loading In[26], in expression starting on line 12",
      "",
      " in interpolate_lagrange(::Array{Float64,1}, ::LinSpace{Float64}, ::Array{Float64,1}, ::Int64) at /home/febbo/.julia/v0.5/NLOptControl/src/utils.jl:72"
     ]
    }
   ],
   "source": [
    "# example\n",
    "x0 = -1; xf = 1;\n",
    "ns = 100; \n",
    "x = Array(linspace(x0,xf,ns));\n",
    "function y{T<:Number}(x::AbstractArray{T})\n",
    "    1./(1+25*x.^2)\n",
    "end\n",
    "plot(x,y(x),label= \"actual polynomial\",w=8)\n",
    "\n",
    "N = 2; # order of Lagrange Polynomial\n",
    "x_data = linspace(x0,xf,N+1); y_data = y(x_data);\n",
    "P = interpolate_lagrange(x,x_data,y_data,N)\n",
    "plot!(x,P',w=4,label=\"N=2\",background_color=RGB(0.2,0.2,0.2))\n",
    "\n",
    "N = 5; # order of Lagrange Polynomial\n",
    "x_data = linspace(x0,xf,N+1); y_data = y(x_data);\n",
    "P = interpolate_lagrange(x,x_data,y_data,N)\n",
    "plot!(x,P',w=4,label=\"N=5\",background_color=RGB(0.2,0.2,0.2))\n",
    "\n",
    "N = 9; # order of Lagrange Polynomial\n",
    "x_data = linspace(x0,xf,N+1); y_data = y(x_data);\n",
    "P = interpolate_lagrange(x,x_data,y_data,N)\n",
    "plot!(x,P',w=4,label=\"N=9\",background_color=RGB(0.2,0.2,0.2))\n",
    "\n",
    "N = 15; # order of Lagrange Polynomial\n",
    "x_data = linspace(x0,xf,N+1); y_data = y(x_data);\n",
    "P = interpolate_lagrange(x,x_data,y_data,N)\n",
    "plot!(x,P',w=4,label=\"N=15\",background_color=RGB(0.2,0.2,0.2))\n",
    "\n",
    "\n",
    "ylims!(-.4,1.2)"
   ]
  },
  {
   "cell_type": "code",
   "execution_count": 5,
   "metadata": {
    "collapsed": true
   },
   "outputs": [],
   "source": [
    "savefig(\"test3a.png\")"
   ]
  },
  {
   "cell_type": "code",
   "execution_count": 25,
   "metadata": {
    "collapsed": false
   },
   "outputs": [
    {
     "data": {
      "text/plain": [
       "2-element LinSpace{Float64}:\n",
       " -1.0,1.0"
      ]
     },
     "execution_count": 25,
     "metadata": {},
     "output_type": "execute_result"
    }
   ],
   "source": [
    "x_data"
   ]
  },
  {
   "cell_type": "code",
   "execution_count": null,
   "metadata": {
    "collapsed": true
   },
   "outputs": [],
   "source": []
  }
 ],
 "metadata": {
  "anaconda-cloud": {},
  "kernelspec": {
   "display_name": "Julia 0.5.0",
   "language": "julia",
   "name": "julia-0.5"
  },
  "language_info": {
   "file_extension": ".jl",
   "mimetype": "application/julia",
   "name": "julia",
   "version": "0.5.0"
  }
 },
 "nbformat": 4,
 "nbformat_minor": 1
}
