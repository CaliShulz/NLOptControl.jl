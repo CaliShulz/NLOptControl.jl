{
 "cells": [
  {
   "cell_type": "markdown",
   "metadata": {},
   "source": [
    "# In this example we will calculate each basis polynomial"
   ]
  },
  {
   "cell_type": "code",
   "execution_count": 1,
   "metadata": {
    "collapsed": false
   },
   "outputs": [],
   "source": [
    "using NLOptControl\n",
    "using Plots\n",
    "pyplot()\n",
    "default(guidefont = font(17), tickfont = font(15), legendfont = font(12), titlefont = font(20))"
   ]
  },
  {
   "cell_type": "code",
   "execution_count": 4,
   "metadata": {
    "collapsed": false
   },
   "outputs": [
    {
     "ename": "LoadError",
     "evalue": "LoadError: UndefVarError: L not defined\nwhile loading In[4], in expression starting on line 14",
     "output_type": "error",
     "traceback": [
      "LoadError: UndefVarError: L not defined\nwhile loading In[4], in expression starting on line 14",
      "",
      " in macro expansion; at ./In[4]:16 [inlined]",
      " in anonymous at ./<missing>:?"
     ]
    }
   ],
   "source": [
    "# example, interpolate f(x) = x^3 over 1<=x<=3 given\n",
    "x_data = [1,1.5,2,3];\n",
    "y_data = [1,1.5^3,8,27];\n",
    "x0 = 1; xf = 3;\n",
    "ns = 100; \n",
    "x = Array(linspace(x0,xf,ns));\n",
    "y = x.^3;\n",
    "N = 3; # order of Lagrange Polynomial\n",
    "\n",
    "# use the higher level functionality\n",
    "L = lagrange_basis_poly(x,x_data,N)\n",
    "\n",
    "P = zeros(Float64,N+1,ns)\n",
    "for idx in 1:N+1  \n",
    "    if idx==1\n",
    "        P[idx,:] = y_data[idx]*L[idx,:]\n",
    "    else\n",
    "        P[idx,:] = y_data[idx]*L[idx,:] + P[idx-1,:]\n",
    "    end\n",
    "end\n",
    "\n",
    "plot(x,y,label= \"actual polynomial\",w=15)\n",
    "plot!(x,P[1,:],w=8,label=\"P0\")\n",
    "plot!(x,P[2,:],w=8,label=\"P1\")\n",
    "plot!(x,P[3,:],line=(8,:dash,:white),label=\"P2\",background_color=RGB(0.2,0.2,0.2))\n",
    "\n",
    "\n",
    "\n"
   ]
  },
  {
   "cell_type": "code",
   "execution_count": 5,
   "metadata": {
    "collapsed": true
   },
   "outputs": [],
   "source": [
    "savefig(\"test2a.png\")"
   ]
  },
  {
   "cell_type": "code",
   "execution_count": null,
   "metadata": {
    "collapsed": true
   },
   "outputs": [],
   "source": []
  },
  {
   "cell_type": "code",
   "execution_count": null,
   "metadata": {
    "collapsed": true
   },
   "outputs": [],
   "source": []
  }
 ],
 "metadata": {
  "anaconda-cloud": {},
  "kernelspec": {
   "display_name": "Julia 0.5.0",
   "language": "julia",
   "name": "julia-0.5"
  },
  "language_info": {
   "file_extension": ".jl",
   "mimetype": "application/julia",
   "name": "julia",
   "version": "0.5.0"
  }
 },
 "nbformat": 4,
 "nbformat_minor": 1
}
