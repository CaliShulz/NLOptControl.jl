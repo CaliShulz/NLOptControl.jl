{
 "cells": [
  {
   "cell_type": "markdown",
   "metadata": {},
   "source": [
    "# Runge phenomina"
   ]
  },
  {
   "cell_type": "markdown",
   "metadata": {},
   "source": [
    "This is NOT yet complete, was supposed to be a quick demonstration, but the current polynomial functionality in use does not support polynomial division when p^E/P^M  with M>E. So, for now we are leaving this alone."
   ]
  },
  {
   "cell_type": "code",
   "execution_count": 2,
   "metadata": {
    "collapsed": false
   },
   "outputs": [
    {
     "data": {
      "text/plain": [
       "Plots.PyPlotBackend()"
      ]
     },
     "execution_count": 2,
     "metadata": {},
     "output_type": "execute_result"
    }
   ],
   "source": [
    "using NLOptControl\n",
    "using Polynomials\n",
    "using Plots\n",
    "using FastGaussQuadrature\n",
    "pyplot()\n",
    "#default(guidefont = font(17), tickfont = font(15), legendfont = font(12), titlefont = font(20))"
   ]
  },
  {
   "cell_type": "code",
   "execution_count": 10,
   "metadata": {
    "collapsed": false
   },
   "outputs": [
    {
     "ename": "LoadError",
     "evalue": "LoadError: MethodError: no method matching /(::Int64, ::Polynomials.Poly{Int64})\nClosest candidates are:\n  /(::Integer, !Matched::Integer) at int.jl:35\n  /(::Real, !Matched::Complex{T<:Real}) at complex.jl:182\n  /(::Union{Int16,Int32,Int64,Int8}, !Matched::BigFloat) at mpfr.jl:272\n  ...\nwhile loading In[10], in expression starting on line 13",
     "output_type": "error",
     "traceback": [
      "LoadError: MethodError: no method matching /(::Int64, ::Polynomials.Poly{Int64})\nClosest candidates are:\n  /(::Integer, !Matched::Integer) at int.jl:35\n  /(::Real, !Matched::Complex{T<:Real}) at complex.jl:182\n  /(::Union{Int16,Int32,Int64,Int8}, !Matched::BigFloat) at mpfr.jl:272\n  ...\nwhile loading In[10], in expression starting on line 13",
      ""
     ]
    }
   ],
   "source": [
    "# define problem\n",
    "x₀= Float64(-1); xₙ= Float64(1);  # TODO change x to t and y to x\n",
    "x = Array(linspace(x₀,xₙ,100));\n",
    "α₁ =  1; α₂ = 0; α₃ = 25; α₄ =  7;\n",
    "N = Int64(5); # TODO eventually make it multiple-interval\n",
    "\n",
    "####################################\n",
    "# perform analytical calcualtions\n",
    "####################################\n",
    "A = Poly([1]);\n",
    "B = Poly([α₁,α₂,α₃])\n",
    "γ = div(A,B); \n",
    "y = polyval(γ,x)\n",
    "\n",
    "# evaluate the integral\n",
    "∫γ = polyint(γ);\n",
    "Y = polyval(∫γ,x[end]) - polyval(∫γ,x[1]);\n",
    "C = Y - polyval(∫γ,x[end]); # constant of integration\n",
    "∫y = polyval(∫γ,x) + C;\n",
    "\n",
    "# evaluate the derivative\n",
    "dγ = polyder(γ);\n",
    "dy = polyval(dγ,x);\n",
    "\n",
    "####################################\n",
    "# construct polynomial approximation\n",
    "####################################\n",
    "τ, ω = gaussradau(N);\n",
    "\n",
    "# scale the problem to the interval\n",
    "xs = scale_tau(τ,x₀,xₙ) # scale the interval\n",
    "ωₛ = scale_w(ω,x₀,xₙ)   # scale the weights\n",
    "#TODO check integral matrix\n",
    "#TODO figure out how to get the last part of the integral!\n",
    "\n",
    "# approximate the integral\n",
    "fτ = polyval(γ,xs);\n",
    "ζ =  cumsum(ωₛ.*fτ,1)\n",
    "\n",
    "# approximate the derivative --> needed in defect constraints\n",
    "D = poldif(xs, 1)\n",
    "dζ = D*fτ\n",
    "\n",
    "#################\n",
    "# post processing\n",
    "#################\n",
    "fp=plot(0,leg=:false)\n",
    "plot!(x,y,label=string(γ),w=6)\n",
    "scatter!(xs,fτ,label=string(\"ftau with N = \",N),markershape = :hexagon, markersize=10)\n",
    "\n",
    "dp=plot(0,leg=:false)\n",
    "plot!(x,dy,label=\"derivative\",w=6)\n",
    "plot!(xs,dζ,label=\"approx. derivative\",line=(4,:dash))\n",
    "\n",
    "ip=plot(0,leg=:false)\n",
    "plot!(x,∫y,label=@sprintf(\"integral = %0.3f\",∫y[end]),w=6)\n",
    "plot!(xs,ζ,label=@sprintf(\"approx. integral = %0.3f\",ζ[end]),line=(4,:dash))\n",
    "\n",
    "plot(fp,ip,dp,layout=(3,1))\n"
   ]
  },
  {
   "cell_type": "code",
   "execution_count": 3,
   "metadata": {
    "collapsed": true
   },
   "outputs": [],
   "source": [
    "savefig(\"test2a.png\")"
   ]
  },
  {
   "cell_type": "markdown",
   "metadata": {},
   "source": [
    "# "
   ]
  },
  {
   "cell_type": "code",
   "execution_count": 7,
   "metadata": {
    "collapsed": false
   },
   "outputs": [
    {
     "data": {
      "text/html": [
       "1"
      ],
      "text/plain": [
       "Poly(1)"
      ]
     },
     "execution_count": 7,
     "metadata": {},
     "output_type": "execute_result"
    }
   ],
   "source": [
    "A\n"
   ]
  },
  {
   "cell_type": "code",
   "execution_count": 7,
   "metadata": {
    "collapsed": true
   },
   "outputs": [],
   "source": [
    "savefig(\"test2b.png\")"
   ]
  },
  {
   "cell_type": "markdown",
   "metadata": {},
   "source": [
    "# "
   ]
  },
  {
   "cell_type": "code",
   "execution_count": 8,
   "metadata": {
    "collapsed": false
   },
   "outputs": [
    {
     "data": {
      "text/html": [
       "1 &#43; 25&#8729;x"
      ],
      "text/plain": [
       "Poly(1 + 25⋅x)"
      ]
     },
     "execution_count": 8,
     "metadata": {},
     "output_type": "execute_result"
    }
   ],
   "source": [
    "B"
   ]
  },
  {
   "cell_type": "code",
   "execution_count": 9,
   "metadata": {
    "collapsed": true
   },
   "outputs": [],
   "source": [
    "savefig(\"test2c.png\")"
   ]
  },
  {
   "cell_type": "markdown",
   "metadata": {},
   "source": [
    "# "
   ]
  },
  {
   "cell_type": "code",
   "execution_count": null,
   "metadata": {
    "collapsed": false
   },
   "outputs": [],
   "source": []
  },
  {
   "cell_type": "code",
   "execution_count": null,
   "metadata": {
    "collapsed": false
   },
   "outputs": [],
   "source": []
  },
  {
   "cell_type": "code",
   "execution_count": 11,
   "metadata": {
    "collapsed": true
   },
   "outputs": [],
   "source": [
    "savefig(\"test2d.png\")"
   ]
  },
  {
   "cell_type": "code",
   "execution_count": null,
   "metadata": {
    "collapsed": false
   },
   "outputs": [],
   "source": []
  },
  {
   "cell_type": "code",
   "execution_count": 17,
   "metadata": {
    "collapsed": true
   },
   "outputs": [],
   "source": [
    "savefig(\"test2e.png\")"
   ]
  },
  {
   "cell_type": "code",
   "execution_count": null,
   "metadata": {
    "collapsed": false
   },
   "outputs": [],
   "source": []
  },
  {
   "cell_type": "code",
   "execution_count": null,
   "metadata": {
    "collapsed": true
   },
   "outputs": [],
   "source": []
  }
 ],
 "metadata": {
  "anaconda-cloud": {},
  "kernelspec": {
   "display_name": "Julia 0.5.0",
   "language": "julia",
   "name": "julia-0.5"
  },
  "language_info": {
   "file_extension": ".jl",
   "mimetype": "application/julia",
   "name": "julia",
   "version": "0.5.0"
  }
 },
 "nbformat": 4,
 "nbformat_minor": 1
}
