{
 "cells": [
  {
   "cell_type": "code",
   "execution_count": 1,
   "metadata": {
    "collapsed": false
   },
   "outputs": [
    {
     "ename": "LoadError",
     "evalue": "MethodError: no method matching MoonLander(::JuMP.Model, ::NLOptControl.NLOpt, ::NLOptControl.Result, ::Array{Any,2}, ::Array{Any,2})\u001b[0m\nClosest candidates are:\n  MoonLander{T}(::JuMP.Model, ::NLOptControl.NLOpt, \u001b[1m\u001b[31m::Array{T,2}\u001b[0m, ::Array{T,2}) at In[1]:11\u001b[0m",
     "output_type": "error",
     "traceback": [
      "MethodError: no method matching MoonLander(::JuMP.Model, ::NLOptControl.NLOpt, ::NLOptControl.Result, ::Array{Any,2}, ::Array{Any,2})\u001b[0m\nClosest candidates are:\n  MoonLander{T}(::JuMP.Model, ::NLOptControl.NLOpt, \u001b[1m\u001b[31m::Array{T,2}\u001b[0m, ::Array{T,2}) at In[1]:11\u001b[0m",
      "",
      " in OCPdef(::JuMP.Model, ::NLOptControl.NLOpt) at /home/febbo/.julia/v0.5/NLOptControl/src/ocp.jl:91"
     ]
    }
   ],
   "source": [
    "using NLOptControl, JuMP, Ipopt, Parameters, Plots\n",
    "pyplot()\n",
    "\n",
    "##################################\n",
    "# Define NLOptControl problem\n",
    "##################################\n",
    "n = NLOpt();\n",
    "# Moon Lander Problem @ http://www.gpops2.com/Examples/MoonLander.html\n",
    "const g = 1.62519; # m/s^2\n",
    "function MoonLander{T<:Any}(mdl::JuMP.Model,n::NLOpt,x::Array{T,2},u::Array{T,2}) # dynamic constraint equations\n",
    "  if n.integrationMethod==:tm; L=size(x)[1]; else L=size(x)[1]-1; end\n",
    "  dx = Array(Any,L,n.numStates)\n",
    "  dx[:,1] =  @NLexpression(mdl, [j=1:L], x[j,2] );\n",
    "  dx[:,2] =  @NLexpression(mdl, [j=1:L], u[j,1] - g);\n",
    "  return dx\n",
    "end\n",
    "\n",
    "n = define(n,stateEquations=MoonLander,numStates=2,numControls=1,X0=[10.,-2],XF=[0.,0.],XL=[-Inf,-Inf],XU=[Inf,Inf],CL=[0.],CU=[3.])\n",
    "#n = configure(n,Ni=2,Nck=[15,10];(:integrationMethod => :ps),(:integrationScheme => :lgrExplicit),(:finalTimeDV => false),(:tf => 4.0))\n",
    "#n = configure(n,N=10;(:integrationMethod => :tm),(:integrationScheme => :bkwEuler),(:finalTimeDV => false),(:tf => 4.0))\n",
    "#n = configure(n,N=10;(:integrationMethod => :tm),(:integrationScheme => :trapezoidal),(:finalTimeDV => false),(:tf => 4.0))\n",
    "\n",
    "# with time\n",
    "n = configure(n,Ni=1,Nck=[30];(:integrationMethod => :ps),(:integrationScheme => :lgrExplicit),(:finalTimeDV =>true))\n",
    "#n = configure(n,N=30;(:integrationMethod => :tm),(:integrationScheme => :bkwEuler),(:finalTimeDV => true))\n",
    "#n = configure(n,N=30;(:integrationMethod => :tm),(:integrationScheme => :trapezoidal),(:finalTimeDV => true))\n",
    "\n",
    "##################################\n",
    "# Define JuMP problem\n",
    "##################################\n",
    "mdl = Model(solver = IpoptSolver(print_level=1,max_iter=500));\n",
    "n,r = OCPdef(mdl,n) \n",
    "obj = integrate(mdl,n,r.u[:,1];C=1.0,(:variable=>:control),(:integrand=>:default))\n",
    "@NLobjective(mdl, Min, obj)\n",
    "result = solve(mdl)\n",
    "##################################\n",
    "# Post Processing\n",
    "##################################\n",
    "r=postProcess(n,r); s=Settings();\n",
    "\n",
    "p1=plot(r.t_st,r.X[:,1], label = \"x interp.\",w=s.lw2)\n",
    "scatter!(r.t_st,r.X[:,1], label = \"x optimal\",marker = (:star8, 15, 0.9, :green))\n",
    "ylabel!(\"h(t)\")\n",
    "xlabel!(\"time (s)\")\n",
    "\n",
    "p2=plot(r.t_st,r.X[:,2], label = \"v interp.\",w=s.lw2)\n",
    "scatter!(r.t_st,r.X[:,2], label = \"v optimal\",marker = (:star8, 15, 0.9, :green))\n",
    "ylabel!(\"v(t)\")\n",
    "xlabel!(\"time (s)\")\n",
    "\n",
    "p3=plot(r.t_ctr,r.U[:,1], label = \"u interp.\",w=s.lw2)\n",
    "scatter!(r.t_ctr,r.U[:,1], label = \"u optimal\",marker = (:star8, 15, 0.9, :green))\n",
    "ylabel!(\"u(t)\")\n",
    "xlabel!(\"time (s)\")\n",
    "\n",
    "plot(p1,p2,p3,layout=(1,3),background_color_subplot=RGB(0.2,0.2,0.2), background_color_legend=RGB(1,1,1))\n",
    "plot!(foreground_color_grid=RGB(1,1,1))\n"
   ]
  },
  {
   "cell_type": "code",
   "execution_count": 2,
   "metadata": {
    "collapsed": true
   },
   "outputs": [],
   "source": [
    "# resize to save\n",
    "plot!(titlefont=font(14),guidefont=font(14),tickfont=font(12),legendfont=font(12))\n",
    "plot!(leg=:best)\n",
    "plot!(size=(700,850))\n",
    "savefig(\"ex1_p.png\")"
   ]
  },
  {
   "cell_type": "code",
   "execution_count": null,
   "metadata": {
    "collapsed": true
   },
   "outputs": [],
   "source": []
  }
 ],
 "metadata": {
  "anaconda-cloud": {},
  "kernelspec": {
   "display_name": "Julia 0.5.0",
   "language": "julia",
   "name": "julia-0.5"
  },
  "language_info": {
   "file_extension": ".jl",
   "mimetype": "application/julia",
   "name": "julia",
   "version": "0.5.0"
  }
 },
 "nbformat": 4,
 "nbformat_minor": 1
}
