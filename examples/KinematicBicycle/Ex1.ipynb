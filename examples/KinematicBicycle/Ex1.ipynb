{
 "cells": [
  {
   "cell_type": "code",
   "execution_count": 13,
   "metadata": {
    "collapsed": false
   },
   "outputs": [
    {
     "name": "stdout",
     "output_type": "stream",
     "text": [
      "\n",
      "=======================================\n",
      "             Trial License\n",
      "       (NOT FOR COMMERCIAL USE)\n",
      "         Artelys Knitro 10.1.2\n",
      "=======================================\n",
      "\n",
      "Knitro presolve eliminated 0 variables and 0 constraints.\n",
      "\n",
      "Knitro changing algorithm from AUTO to 1.\n",
      "Knitro changing bar_initpt from AUTO to 3.\n",
      "Knitro changing bar_murule from AUTO to 4.\n",
      "Knitro changing bar_penaltycons from AUTO to 1.\n",
      "Knitro changing bar_penaltyrule from AUTO to 2.\n",
      "Knitro changing bar_switchrule from AUTO to 2.\n",
      "Knitro changing linsolver from AUTO to 2.\n",
      "Knitro shifted start point to satisfy presolved bounds (78 variables).\n",
      "\n",
      "Problem Characteristics                    ( Presolved)\n",
      "-----------------------\n",
      "Objective goal:  Minimize\n",
      "Number of variables:                   154 (       154)\n",
      "    bounded below:                       0 (         0)\n",
      "    bounded above:                       0 (         0)\n",
      "    bounded below and above:           154 (       154)\n",
      "    fixed:                               0 (         0)\n",
      "    free:                                0 (         0)\n",
      "Number of constraints:                 104 (       104)\n",
      "    linear equalities:                   0 (         0)\n",
      "    nonlinear equalities:              104 (       104)\n",
      "    linear inequalities:                 0 (         0)\n",
      "    nonlinear inequalities:              0 (         0)\n",
      "    range:                               0 (         0)\n",
      "Number of nonzeros in Jacobian:       1629 (      1629)\n",
      "Number of nonzeros in Hessian:         152 (       152)\n",
      "\n",
      "  Iter      Objective      FeasError   OptError    ||Step||    CGits \n",
      "--------  --------------  ----------  ----------  ----------  -------\n",
      "       0    9.884160e+03   1.198e+01\n",
      "      10    4.321187e+03   4.497e+00   5.208e+01   1.764e+01        0\n",
      "      20    1.062462e+03   1.548e-01   8.091e+00   1.144e+00        0\n",
      "      24    1.056169e+03   2.726e-06   1.656e-05   2.050e-03        0\n",
      "\n",
      "EXIT: Locally optimal solution found.\n",
      "\n",
      "Final Statistics\n",
      "----------------\n",
      "Final objective value               =   1.05616916784236e+03\n",
      "Final feasibility error (abs / rel) =   2.73e-06 / 2.28e-07\n",
      "Final optimality error  (abs / rel) =   1.66e-05 / 5.07e-07\n",
      "# of iterations                     =         24 \n",
      "# of CG iterations                  =         10 \n",
      "# of function evaluations           =         26\n",
      "# of gradient evaluations           =         26\n",
      "# of Hessian evaluations            =         24\n",
      "Total program time (secs)           =       0.09897 (     0.100 CPU time)\n",
      "Time spent in evaluations (secs)    =       0.07660\n",
      "\n",
      "===============================================================================\n",
      "\n"
     ]
    },
    {
     "data": {
      "text/html": [
       "<img src=\"data:image/png;base64,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\" />"
      ]
     },
     "execution_count": 13,
     "metadata": {},
     "output_type": "execute_result"
    }
   ],
   "source": [
    "using NLOptControl, JuMP, Parameters, Plots, VehicleModels\n",
    "pa = VparaKB(x0_=0.);  @unpack_VparaKB pa # vehicle parameters\n",
    "n = NLOpt();\n",
    "X0 = [x0_,y0_,psi0_,u0_];\n",
    "XF = [NaN,NaN,NaN,NaN];\n",
    "XL = [x_min,y_min,psi_min,u_min];\n",
    "XU = [x_max,y_max,psi_max,u_max];\n",
    "CL = [sa_min,ax_min];\n",
    "CU = [sa_max,ax_max];\n",
    "n = define(n,stateEquations=KinematicBicycle,numStates=4,numControls=2,X0=X0,XF=XF,XL=XL,XU=XU,CL=CL,CU=CU)\n",
    "n = configure(n,Ni=2,Nck=[15,10];(:integrationMethod => :ps),(:integrationScheme => :lgrExplicit),(:finalTimeDV => false),(:tf => 4.0))\n",
    "defineSolver(n,solver=:KNITRO)\n",
    "mdl = build(n);\n",
    "names = [:x,:y,:psi,:ux];\n",
    "descriptions = [\"X (m)\",\"Y (m)\",\"Yaw Angle (rad)\",\"Longitudinal Velocity (m/s)\"];\n",
    "stateNames(n,names,descriptions)\n",
    "names = [:sr,:jx];\n",
    "descriptions = [\"Steering Angle (rad)\",\"Longitudinal Acceleration (m/s^2)\"];\n",
    "controlNames(n,names,descriptions)\n",
    "params = [pa];   # vehicle parameters\n",
    "n,r = OCPdef(mdl,n,params);\n",
    "\n",
    "# define target\n",
    "x_ref = 10; y_ref = 100;\n",
    "@NLobjective(mdl, Min, (r.x[end,1]-x_ref)^2 + (r.x[end,2]-y_ref)^2);\n",
    "\n",
    "# solve model\n",
    "solve(mdl)\n",
    "\n",
    "# post processing\n",
    "postProcess(n,r);\n",
    "s = 700; w1 = 7; w2 = 4; ms = 5; ms2 = 1;# plotting options\n",
    "pp=plot(0,leg=:false)\n",
    "plot!(r.X[:,1],r.X[:,2],line = (w2))\n",
    "scatter!((x_ref, y_ref), markershape = :hexagon, markersize = ms, label=\"Goal\",leg=true)\n",
    "xlims!((-20,80));ylims!((0,100));xaxis!(\"X (m)\");yaxis!(\"Y (m)\")\n"
   ]
  },
  {
   "cell_type": "code",
   "execution_count": 14,
   "metadata": {
    "collapsed": false
   },
   "outputs": [
    {
     "name": "stdout",
     "output_type": "stream",
     "text": [
      "\n",
      "=======================================\n",
      "             Trial License\n",
      "       (NOT FOR COMMERCIAL USE)\n",
      "         Artelys Knitro 10.1.2\n",
      "=======================================\n",
      "\n",
      "Knitro presolve eliminated 0 variables and 0 constraints.\n",
      "\n",
      "Knitro changing algorithm from AUTO to 1.\n",
      "Knitro changing bar_initpt from AUTO to 3.\n",
      "Knitro changing bar_murule from AUTO to 4.\n",
      "Knitro changing bar_penaltycons from AUTO to 1.\n",
      "Knitro changing bar_penaltyrule from AUTO to 2.\n",
      "Knitro changing bar_switchrule from AUTO to 2.\n",
      "Knitro changing linsolver from AUTO to 2.\n",
      "Knitro shifted start point to satisfy presolved bounds (27 variables).\n",
      "\n",
      "Problem Characteristics                    ( Presolved)\n",
      "-----------------------\n",
      "Objective goal:  Minimize\n",
      "Number of variables:                   154 (       154)\n",
      "    bounded below:                       0 (         0)\n",
      "    bounded above:                       0 (         0)\n",
      "    bounded below and above:           154 (       154)\n",
      "    fixed:                               0 (         0)\n",
      "    free:                                0 (         0)\n",
      "Number of constraints:                 104 (       104)\n",
      "    linear equalities:                   0 (         0)\n",
      "    nonlinear equalities:              104 (       104)\n",
      "    linear inequalities:                 0 (         0)\n",
      "    nonlinear inequalities:              0 (         0)\n",
      "    range:                               0 (         0)\n",
      "Number of nonzeros in Jacobian:       1629 (      1629)\n",
      "Number of nonzeros in Hessian:         152 (       152)\n",
      "\n",
      "  Iter      Objective      FeasError   OptError    ||Step||    CGits \n",
      "--------  --------------  ----------  ----------  ----------  -------\n",
      "       0    1.056169e+03   1.119e+02\n",
      "       8    1.056169e+03   6.313e-06   1.514e-06   1.087e-03        0\n",
      "\n",
      "EXIT: Locally optimal solution found.\n",
      "\n",
      "Final Statistics\n",
      "----------------\n",
      "Final objective value               =   1.05616914850820e+03\n",
      "Final feasibility error (abs / rel) =   6.31e-06 / 5.64e-08\n",
      "Final optimality error  (abs / rel) =   1.51e-06 / 2.34e-08\n",
      "# of iterations                     =          8 \n",
      "# of CG iterations                  =          0 \n",
      "# of function evaluations           =         11\n",
      "# of gradient evaluations           =         10\n",
      "# of Hessian evaluations            =          8\n",
      "Total program time (secs)           =       0.03533 (     0.036 CPU time)\n",
      "Time spent in evaluations (secs)    =       0.02707\n",
      "\n",
      "===============================================================================\n",
      "\n"
     ]
    },
    {
     "data": {
      "text/plain": [
       ":Optimal"
      ]
     },
     "execution_count": 14,
     "metadata": {},
     "output_type": "execute_result"
    }
   ],
   "source": [
    "solve(mdl)"
   ]
  },
  {
   "cell_type": "code",
   "execution_count": null,
   "metadata": {
    "collapsed": false
   },
   "outputs": [],
   "source": []
  },
  {
   "cell_type": "code",
   "execution_count": null,
   "metadata": {
    "collapsed": true
   },
   "outputs": [],
   "source": []
  }
 ],
 "metadata": {
  "anaconda-cloud": {},
  "kernelspec": {
   "display_name": "Julia 0.5.0",
   "language": "julia",
   "name": "julia-0.5"
  },
  "language_info": {
   "file_extension": ".jl",
   "mimetype": "application/julia",
   "name": "julia",
   "version": "0.5.0"
  }
 },
 "nbformat": 4,
 "nbformat_minor": 1
}
