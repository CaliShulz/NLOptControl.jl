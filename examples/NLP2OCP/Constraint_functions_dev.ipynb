{
 "cells": [
  {
   "cell_type": "code",
   "execution_count": 1,
   "metadata": {
    "collapsed": false
   },
   "outputs": [
    {
     "data": {
      "text/plain": [
       "5-element Array{Array{Float64,2},1}:\n",
       " [0.999976 0.996405 0.972225 0.934286; 5.32907e-15 0.0850383 0.23841 0.37264]\n",
       " [0.921042 0.884732 0.804437 0.721962; 0.410667 0.503943 0.679133 0.839054]  \n",
       " [0.697042 0.634006 0.511163 0.398536; 0.885333 1.00044 1.22165 1.4278]      \n",
       " [0.366376 0.288062 0.145921 0.0257404; 1.488 1.63852 1.92996 2.20287]       \n",
       " [-0.00695771 -0.0836632 -0.21217 -0.309093; 2.28267 2.48219 2.86807 3.22828]"
      ]
     },
     "execution_count": 1,
     "metadata": {},
     "output_type": "execute_result"
    }
   ],
   "source": [
    "using NLOptControl\n",
    "using Polynomials\n",
    "using Plots\n",
    "using Parameters\n",
    "pyplot()\n",
    "############\n",
    "# TEST DATA\n",
    "############\n",
    "t0 = Float64(0); tf = Float64(2);\n",
    "t = Array(linspace(t0,tf,100));\n",
    "\n",
    "# sin and cos taylor series approximation at x = 0\n",
    "s0 =  0; s1 = 1; s2 = 0;       s3 = -1/(3*2*1); s4 = 0;           s5 = 1/(5*4*3*2*1); \n",
    "c0 = 1;  c1 = 0; c2 = 1/(2*1); c3 = 0;          c4 = 1/(4*3*2*1); c5 = 0; \n",
    "γ1 = Poly([s0,s1,s2,s3,s4,s5]);  # state 1\n",
    "γ2 = Poly([c0,c1,c2,c3,c4,c5]);  # state 2\n",
    "γ = [γ1; γ2]; numStates=length(γ);\n",
    "y = [polyval(γ[st],t) for st in 1:numStates];\n",
    "\n",
    "# evaluate the integrals\n",
    "∫γ = [polyint(γ[st]) for st in 1:numStates];\n",
    "Y  = [polyval(∫γ[st],t[end]) - polyval(∫γ[st],t[1]) for st in 1:numStates];\n",
    "C  = [Y[st] - polyval(∫γ[st],t[end]) for st in 1:numStates]; # constant of integration\n",
    "∫y = [polyval(∫γ[st],t) + C[st] for st in 1:numStates];\n",
    "\n",
    "# evaluate the derivatives\n",
    "dγ = [polyder(γ[st]) for st in 1:numStates];\n",
    "dy = [polyval(dγ[st],t) for st in 1:numStates];\n",
    "############\n",
    "# TEST DATA\n",
    "############\n",
    "dx1(t) = 1.0 - 0.5⋅t^2 + 0.0416667⋅t^4;   \n",
    "dx2(t) = 1.0⋅t + 0.166667⋅t^3;\n",
    "dx = [dx1, dx2];\n",
    "X0= [y[1][1];y[2][1]];\n",
    "XF= [y[1][end];y[2][end]];\n",
    "XL=[0,-Inf];     XU=[1/9,Inf]; # TODO allow for functions of these so we can calculate them on the fly!\n",
    "CL=[-Inf];  CU=[Inf]; \n",
    "\n",
    "ps, nlp = initialize_NLP(numStates=2,numControls=1,Ni=5,Nck=[4,4,4,4,4],stateEquations=dx,X0=X0,XF=XF,XL=XL,XU=XU,CL=CL,CU=CU);\n",
    "\n",
    "@pack ps = t0, tf;  # given in problem def.\n",
    "@unpack Nck, Ni, t0, tf, τ, ω = ps;\n",
    "di, tm, ts, ωₛ = create_intervals(t0,tf,Ni,Nck,τ,ω);\n",
    "@pack ps = τ, ω, ωₛ, ts;\n",
    "generate_Fake_data(nlp,ps,γ);\n",
    "nlp2ocp(nlp,ps);\n",
    "\n",
    "@unpack stateMatrix = ps;\n",
    "@unpack numStates = nlp;\n",
    "\n",
    "# interpolate function using Lagrange Polynomial\n",
    "P = [zeros(Float64,Nck[int]+1,numStates) for int in 1:Ni];\n",
    "for st in 1:numStates\n",
    "    for int in 1:Ni\n",
    "        P[int][:,st] = interpolate_lagrange(ts[int],ts[int],stateMatrix[int][1:end,st],Nck[int])\n",
    "    end\n",
    "end\n",
    "\n",
    "# approximate integral using quadrature\n",
    "ζ, approx_int_st = integrate_state(ps,nlp)\n",
    "\n",
    "# calculate LGR matrices - > IMatrix and DMatrix\n",
    "LGR_matrices(ps,nlp)\n",
    "\n",
    "# approximate integral using LGRIM\n",
    "ζ2, approx_int_st2 = integrate_state(ps,nlp;(:mode=>:LGRIM))\n",
    "\n",
    "# approximate derivative using LGRDM\n",
    "dζ = differentiate_state(ps,nlp);\n",
    "#################"
   ]
  },
  {
   "cell_type": "code",
   "execution_count": 5,
   "metadata": {
    "collapsed": false
   },
   "outputs": [],
   "source": [
    "c, ceq = constraints(nlp,ps);"
   ]
  },
  {
   "cell_type": "code",
   "execution_count": 6,
   "metadata": {
    "collapsed": false
   },
   "outputs": [
    {
     "data": {
      "text/plain": [
       "140-element Array{Float64,1}:\n",
       "    0.0      \n",
       "   -0.0848341\n",
       "   -0.234023 \n",
       "   -0.356543 \n",
       "   -0.389419 \n",
       "   -0.389419 \n",
       "   -0.466153 \n",
       "   -0.594162 \n",
       "   -0.692253 \n",
       "   -0.717397 \n",
       "   -0.717397 \n",
       "   -0.773958 \n",
       "   -0.860732 \n",
       "    ⋮        \n",
       " -Inf        \n",
       " -Inf        \n",
       " -Inf        \n",
       " -Inf        \n",
       " -Inf        \n",
       " -Inf        \n",
       " -Inf        \n",
       " -Inf        \n",
       " -Inf        \n",
       " -Inf        \n",
       " -Inf        \n",
       " -Inf        "
      ]
     },
     "execution_count": 6,
     "metadata": {},
     "output_type": "execute_result"
    }
   ],
   "source": [
    "c"
   ]
  },
  {
   "cell_type": "code",
   "execution_count": 7,
   "metadata": {
    "collapsed": false
   },
   "outputs": [
    {
     "data": {
      "text/plain": [
       "56-element Array{Float64,1}:\n",
       " -2.4381e-5  \n",
       "  9.43332e-6 \n",
       " -6.26013e-6 \n",
       "  3.86318e-6 \n",
       "  5.47307e-15\n",
       " -2.0425e-10 \n",
       " -4.3933e-9  \n",
       " -1.61511e-8 \n",
       " -2.43818e-5 \n",
       "  9.43148e-6 \n",
       " -6.26548e-6 \n",
       "  3.85238e-6 \n",
       " -2.13333e-8 \n",
       "  ⋮          \n",
       "  0.0        \n",
       "  0.0        \n",
       "  0.0        \n",
       "  0.0        \n",
       "  0.0        \n",
       "  0.0        \n",
       "  0.0        \n",
       "  0.0        \n",
       "  0.0        \n",
       "  0.0        \n",
       "  0.0        \n",
       "  0.0        "
      ]
     },
     "execution_count": 7,
     "metadata": {},
     "output_type": "execute_result"
    }
   ],
   "source": [
    "ceq"
   ]
  },
  {
   "cell_type": "code",
   "execution_count": 3,
   "metadata": {
    "collapsed": false
   },
   "outputs": [],
   "source": [
    "# can do these in parallel -> they do not depend on each other\n",
    "ode_constraint(nlp,ps);\n",
    "continuity_constraint(nlp,ps);\n",
    "boundary_constraint(nlp,ps);\n",
    "inequality_constraint(nlp,ps);\n",
    "\n",
    "@unpack odeConstraint, continuityConstraint, boundaryConstraint, stateConstraint, controlConstraint = ps\n",
    "\n",
    "ceq1 = [idx for tempM in odeConstraint for idx = tempM];\n",
    "ceq2 = [idx for tempM in continuityConstraint for idx = tempM];\n",
    "ceq3 = [idx for tempM in boundaryConstraint for idx = tempM];\n",
    "ceq = [ceq1; ceq2; ceq3];\n",
    "\n",
    "c1 = [idx for tempM in stateConstraint for idx = tempM];\n",
    "c2 = [idx for tempM in controlConstraint for idx = tempM];\n",
    "c = [c1; c2];"
   ]
  },
  {
   "cell_type": "code",
   "execution_count": null,
   "metadata": {
    "collapsed": false
   },
   "outputs": [],
   "source": []
  },
  {
   "cell_type": "code",
   "execution_count": 1,
   "metadata": {
    "collapsed": false
   },
   "outputs": [
    {
     "ename": "LoadError",
     "evalue": "UndefVarError: @unpack not defined",
     "output_type": "error",
     "traceback": [
      "UndefVarError: @unpack not defined",
      ""
     ]
    }
   ],
   "source": [
    "function constraint_vector(nlp::NLP_data,ps::PS_data)\n",
    "    @unpack c, cineq = nlp\n",
    "end"
   ]
  },
  {
   "cell_type": "code",
   "execution_count": null,
   "metadata": {
    "collapsed": true
   },
   "outputs": [],
   "source": []
  }
 ],
 "metadata": {
  "anaconda-cloud": {},
  "kernelspec": {
   "display_name": "Julia 0.5.0",
   "language": "julia",
   "name": "julia-0.5"
  },
  "language_info": {
   "file_extension": ".jl",
   "mimetype": "application/julia",
   "name": "julia",
   "version": "0.5.0"
  }
 },
 "nbformat": 4,
 "nbformat_minor": 1
}
