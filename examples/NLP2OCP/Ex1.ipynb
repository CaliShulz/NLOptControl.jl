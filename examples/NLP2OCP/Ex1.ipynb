{
 "cells": [
  {
   "cell_type": "markdown",
   "metadata": {},
   "source": [
    "start to use functionality to setup and organize problem"
   ]
  },
  {
   "cell_type": "code",
   "execution_count": 6,
   "metadata": {
    "collapsed": true
   },
   "outputs": [],
   "source": [
    "using NLOptControl\n",
    "ps, nlp = initialize_NLP(numStates=1,numControls=1,Ni=2,Nck=[2,3]);"
   ]
  },
  {
   "cell_type": "code",
   "execution_count": 7,
   "metadata": {
    "collapsed": false
   },
   "outputs": [
    {
     "data": {
      "text/plain": [
       "NLOptControl.PS_data\n",
       "  Nck: [2,3]\n",
       "  Ni: 2\n",
       "  τ: Array{Float64,1}[[-1.0,0.333333],[-1.0,-0.289898,0.689898]]\n",
       "  ts: Array{Float64,1}[[-0.0,0.0],[-0.0,-0.0,0.0]]\n",
       "  ω: Array{Float64,1}[[0.5,1.5],[0.222222,1.02497,0.752806]]\n",
       "  ωₛ: Array{Float64,1}[[0.0,0.0],[0.0,0.0,0.0]]\n",
       "  t0: 0.0\n",
       "  tf: 0.0\n",
       "  DMatrix: Array{Float64,2}[\n",
       "[0.0 0.0 0.0; 0.0 0.0 0.0],\n",
       "\n",
       "[0.0 0.0 0.0 0.0; 0.0 0.0 0.0 0.0; 0.0 0.0 0.0 0.0]]\n",
       "  IMatrix: Array{Float64,2}[\n",
       "[0.0 0.0; 0.0 0.0],\n",
       "\n",
       "[0.0 0.0 0.0; 0.0 0.0 0.0; 0.0 0.0 0.0]]\n",
       "  stateMatrix: Array{Float64,2}[\n",
       "[0.0; 0.0; 0.0],\n",
       "\n",
       "[0.0; 0.0; 0.0; 0.0]]\n",
       "  controlMatrix: Array{Float64,2}[\n",
       "[0.0; 0.0],\n",
       "\n",
       "[0.0; 0.0; 0.0]]"
      ]
     },
     "execution_count": 7,
     "metadata": {},
     "output_type": "execute_result"
    }
   ],
   "source": [
    "ps"
   ]
  },
  {
   "cell_type": "code",
   "execution_count": 8,
   "metadata": {
    "collapsed": false
   },
   "outputs": [
    {
     "data": {
      "text/plain": [
       "NLOptControl.NLP_data\n",
       "  numStates: 1\n",
       "  numControls: 1\n",
       "  numStatePoints: [3,4]\n",
       "  numControlPoints: [2,3]\n",
       "  lengthStateVector: 7\n",
       "  lengthControlVector: 5\n",
       "  lengthDecVector: 14\n",
       "  timeStartIdx: 13\n",
       "  timeStopIdx: 14\n",
       "  stateIdx: Tuple{Int64,Int64}[(1,3),(4,7)]\n",
       "  controlIdx: Tuple{Int64,Int64}[(8,9),(10,12)]\n",
       "  stateIdx_all: Tuple{Int64,Int64}[(-99,-99)]\n",
       "  controlIdx_all: Tuple{Int64,Int64}[(-99,-99)]\n",
       "  stateIdx_st: Tuple{Int64,Int64}[(-99,-99)]\n",
       "  controlIdx_ctr: Tuple{Int64,Int64}[(-99,-99)]\n",
       "  decisionVector: [0.0,0.0,0.0,0.0,0.0,0.0,0.0,0.0,0.0,0.0,0.0,0.0,0.0,0.0]"
      ]
     },
     "execution_count": 8,
     "metadata": {},
     "output_type": "execute_result"
    }
   ],
   "source": [
    "nlp"
   ]
  },
  {
   "cell_type": "code",
   "execution_count": null,
   "metadata": {
    "collapsed": true
   },
   "outputs": [],
   "source": []
  }
 ],
 "metadata": {
  "kernelspec": {
   "display_name": "Julia 0.5.0",
   "language": "julia",
   "name": "julia-0.5"
  },
  "language_info": {
   "file_extension": ".jl",
   "mimetype": "application/julia",
   "name": "julia",
   "version": "0.5.0"
  }
 },
 "nbformat": 4,
 "nbformat_minor": 1
}
