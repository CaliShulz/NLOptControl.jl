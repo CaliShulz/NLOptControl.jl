{
 "cells": [
  {
   "cell_type": "code",
   "execution_count": 1,
   "metadata": {
    "collapsed": false
   },
   "outputs": [],
   "source": [
    "using SymPy, NLOptControl, JuMP, Ipopt, FastGaussQuadrature"
   ]
  },
  {
   "cell_type": "code",
   "execution_count": 2,
   "metadata": {
    "collapsed": false
   },
   "outputs": [],
   "source": [
    "n = NLOpt();\n",
    "const g = 1.62519; # m/s^2\n",
    "function MoonLander{T<:Any}(n::NLOpt,x::Array{T,2},u::Array{T,2}) # dynamic constraint equations\n",
    "  if n.integrationMethod==:tm\n",
    "    L = size(x)[1];\n",
    "  else\n",
    "    L = size(x)[1]-1;\n",
    "  end\n",
    "  dx = Array(Any,L,n.numStates)\n",
    "  dx[:,1] =  @NLexpression(mdl, [j=1:L], x[j,2] );\n",
    "  dx[:,2] =  @NLexpression(mdl, [j=1:L], u[j,1] - g);\n",
    "  return dx\n",
    "end\n",
    "\n",
    "n = define(n,stateEquations=MoonLander,numStates=2,numControls=1,X0=[10.,-2],XF=[0.,0.],XL=[-Inf,-Inf],XU=[Inf,Inf],CL=[0.],CU=[3.])\n",
    "n = configure(n,Ni=4,Nck=[4,4,4,4];(:integrationMethod => :ps),(:integrationScheme => :lgrExplicit),(:finalTimeDV => false),(:tf => 4.0))\n",
    "mdl = Model(solver = IpoptSolver()); "
   ]
  },
  {
   "cell_type": "code",
   "execution_count": 3,
   "metadata": {
    "collapsed": false
   },
   "outputs": [
    {
     "data": {
      "text/plain": [
       "4×5 Array{Any,2}:\n",
       " -17.0       24.3435   -13.1905    13.847    -8.0    \n",
       "  -3.64428   -1.26958    7.96904   -6.98493   3.92976\n",
       "   0.869583  -3.50936   -2.4422    10.0984   -5.01645\n",
       "  -0.347757   1.1718    -3.84701  -11.2882   14.3112 "
      ]
     },
     "execution_count": 3,
     "metadata": {},
     "output_type": "execute_result"
    }
   ],
   "source": [
    "tic()\n",
    "D_matrix(n);\n",
    "n.DMatrix[2]\n",
    "toc()"
   ]
  },
  {
   "cell_type": "code",
   "execution_count": 4,
   "metadata": {
    "collapsed": false
   },
   "outputs": [
    {
     "data": {
      "text/plain": [
       "4×5 Array{Any,2}:\n",
       "  -17.0000000000000   24.3434988263654  …  -8.00000000000000\n",
       "  -3.64427519686850  -1.26958419031044      3.92975591286483\n",
       "  0.869582922425162  -3.50936197752167     -5.01645016389692\n",
       " -0.347756705148491   1.17180296420763      14.3111840469505"
      ]
     },
     "execution_count": 4,
     "metadata": {},
     "output_type": "execute_result"
    }
   ],
   "source": [
    "tic()\n",
    "D_matrix(n,(:mode=>:symbolic));\n",
    "n.DMatrix[2]\n",
    "toc()"
   ]
  },
  {
   "cell_type": "markdown",
   "metadata": {},
   "source": [
    "# Check new functionality"
   ]
  },
  {
   "cell_type": "code",
   "execution_count": 5,
   "metadata": {
    "collapsed": false
   },
   "outputs": [
    {
     "data": {
      "text/plain": [
       "5×5 Array{Float64,2}:\n",
       " -17.0       24.3435   -13.1905    13.847    -8.0    \n",
       "  -3.64428   -1.26958    7.96904   -6.98493   3.92976\n",
       "   0.869583  -3.50936   -2.4422    10.0984   -5.01645\n",
       "  -0.347757   1.1718    -3.84701  -11.2882   14.3112 \n",
       "   0.5       -1.64066    4.75583  -35.6152   32.0    "
      ]
     },
     "execution_count": 5,
     "metadata": {},
     "output_type": "execute_result"
    }
   ],
   "source": [
    "D_matrix"
   ]
  },
  {
   "cell_type": "markdown",
   "metadata": {},
   "source": [
    "# Development"
   ]
  },
  {
   "cell_type": "code",
   "execution_count": 36,
   "metadata": {
    "collapsed": false
   },
   "outputs": [
    {
     "name": "stderr",
     "output_type": "stream",
     "text": [
      "WARNING: Method definition interval(Any, Int64, Array{Int64, 1}, Array{Array{Float64, 1}, 1}, Array{Array{Float64, 1}, 1}) in module Main at In[29]:2 overwritten at In[36]:2.\n"
     ]
    },
    {
     "data": {
      "text/plain": [
       "interval (generic function with 1 method)"
      ]
     },
     "execution_count": 36,
     "metadata": {},
     "output_type": "execute_result"
    }
   ],
   "source": [
    "function interval(tf,Ni::Int64,Nck::Array{Int64,1},τ::Array{Vector{Float64},1},ω::Array{Vector{Float64},1})\n",
    "  di = (tf)/Ni; # interval size\n",
    "  # create mesh points\n",
    "    tm = Array(Any,Ni+1); tm[1] = 0;\n",
    "  for idx in 1:Ni\n",
    "    tm[idx+1] = tm[idx] + di;\n",
    "  end\n",
    "    # go through each mesh interval creating time intervals; [t(i-1),t(i)] --> [-1,1]\n",
    "    ts=[[scale_tau(τ[int],tm[int],tm[int+1]);di*int] for int in 1:Ni];\n",
    "    ωₛ=[scale_w(ω[int],tm[int],tm[int+1]) for int in 1:Ni];\n",
    "    return ts, ωₛ\n",
    "end"
   ]
  },
  {
   "cell_type": "code",
   "execution_count": 8,
   "metadata": {
    "collapsed": false
   },
   "outputs": [
    {
     "data": {
      "text/html": [
       "tf/4 + 1/4"
      ],
      "text/plain": [
       "tf   1\n",
       "-- + -\n",
       "4    4"
      ]
     },
     "execution_count": 8,
     "metadata": {},
     "output_type": "execute_result"
    }
   ],
   "source": [
    "di = (tf+1)/n.Ni"
   ]
  },
  {
   "cell_type": "code",
   "execution_count": 38,
   "metadata": {
    "collapsed": false
   },
   "outputs": [
    {
     "data": {
      "text/plain": [
       "1-element Array{Array{SymPy.Sym,1},1}:\n",
       " \n",
       "[         0          ]\n",
       "[                    ]\n",
       "[0.212340538239153*tf]\n",
       "[                    ]\n",
       "[0.590533135559265*tf]\n",
       "[                    ]\n",
       "[0.911412040487296*tf]\n",
       "[                    ]\n",
       "[         tf         ]"
      ]
     },
     "execution_count": 38,
     "metadata": {},
     "output_type": "execute_result"
    }
   ],
   "source": [
    "ts"
   ]
  },
  {
   "cell_type": "code",
   "execution_count": 41,
   "metadata": {
    "collapsed": false
   },
   "outputs": [],
   "source": [
    "test = [Array(Any,n.Nck[int]+1) for int in 1:n.Ni];\n",
    "val = 4; # if this is how it works, would have to change every time..or scale to -1 to 1\n",
    "for int in 1:n.Ni\n",
    "    for i in 1:n.Nck[int]+1\n",
    "        test[int][i] =  ts[int][i](tf=>val)\n",
    "    end\n",
    "end"
   ]
  },
  {
   "cell_type": "code",
   "execution_count": 54,
   "metadata": {
    "collapsed": false
   },
   "outputs": [
    {
     "name": "stdout",
     "output_type": "stream",
     "text": [
      "elapsed time: 0.161841099 seconds\n"
     ]
    },
    {
     "data": {
      "text/html": [
       "0.161841099"
      ],
      "text/plain": [
       "0.161841099"
      ]
     },
     "execution_count": 54,
     "metadata": {},
     "output_type": "execute_result"
    }
   ],
   "source": [
    "tic()\n",
    "Dsym = [Array(Any,n.Nck[int],n.Nck[int]+1) for int in 1:n.Ni];\n",
    "Deval = [Array(Any,n.Nck[int],n.Nck[int]+1) for int in 1:n.Ni]\n",
    "val=4\n",
    "for int in 1:n.Ni\n",
    "    for idx in 1:n.Nck[int]+1\n",
    "        for j in 1:n.Nck[int]\n",
    "            f = lagrange_basis_poly(tf, test[int], n.Nck[int], idx)\n",
    "            Dsym[int][j,idx] = diff(f,tf) # symbolic differentiation --> slow but useful\n",
    "            Deval[int][j,idx] = D[int][j,idx](tf=>test[int][j])\n",
    "        end\n",
    "    end\n",
    "end\n",
    "toc()"
   ]
  },
  {
   "cell_type": "code",
   "execution_count": 49,
   "metadata": {
    "collapsed": false
   },
   "outputs": [
    {
     "data": {
      "text/latex": [
       "\\begin{bmatrix}-2.125&3.04293735329567&-1.64880941740704&1.73087206411136&-1.0\\\\-0.455534399608564&-0.158698023788805&0.996129473945624&-0.87311653965636&0.491219489108104\\\\0.108697865303145&-0.438670247190209&-0.305275007223673&1.26230365959785&-0.627056270487116\\\\-0.0434695881435614&0.146475370525954&-0.480876819263678&-1.41102696898752&1.78889800586881\\\\0.0625&-0.2050819506384&0.594478259267027&-4.45189630862863&4.0\\end{bmatrix}"
      ],
      "text/plain": [
       "5×5 Array{SymPy.Sym,2}\n",
       "[      -2.125          3.04293735329567   -1.64880941740704   1.73087206411136\n",
       "[                                                                             \n",
       "[-0.455534399608564   -0.158698023788805  0.996129473945624   -0.8731165396563\n",
       "[                                                                             \n",
       "[ 0.108697865303145   -0.438670247190209  -0.305275007223673  1.26230365959785\n",
       "[                                                                             \n",
       "[-0.0434695881435614  0.146475370525954   -0.480876819263678  -1.4110269689875\n",
       "[                                                                             \n",
       "[      0.0625          -0.2050819506384   0.594478259267027   -4.4518963086286\n",
       "\n",
       "          -1.0       ]\n",
       "                     ]\n",
       "6  0.491219489108104 ]\n",
       "                     ]\n",
       "   -0.627056270487116]\n",
       "                     ]\n",
       "2   1.78889800586881 ]\n",
       "                     ]\n",
       "3         4.0        ]"
      ]
     },
     "execution_count": 49,
     "metadata": {},
     "output_type": "execute_result"
    }
   ],
   "source": [
    "polyDiff(test[int])"
   ]
  },
  {
   "cell_type": "code",
   "execution_count": 55,
   "metadata": {
    "collapsed": false
   },
   "outputs": [
    {
     "data": {
      "text/plain": [
       "4×5 Array{Any,2}:\n",
       "   -2.12500000000000    3.04293735329567  …   -1.00000000000000\n",
       "  -0.455534399608563  -0.158698023788805      0.491219489108104\n",
       "   0.108697865303145  -0.438670247190209     -0.627056270487116\n",
       " -0.0434695881435614   0.146475370525954       1.78889800586881"
      ]
     },
     "execution_count": 55,
     "metadata": {},
     "output_type": "execute_result"
    }
   ],
   "source": [
    "De[1]"
   ]
  },
  {
   "cell_type": "code",
   "execution_count": 58,
   "metadata": {
    "collapsed": false
   },
   "outputs": [
    {
     "data": {
      "text/html": [
       "-0.0290309329623842*(-1.17735408449626*tf + 1.0)*(tf - 4)*(tf - 3.64564816194918) - 0.0290309329623842*(-1.17735408449626*tf + 1.0)*(tf - 4)*(tf - 2.36213254223706) - 0.0290309329623842*(-1.17735408449626*tf + 1.0)*(tf - 3.64564816194918)*(tf - 2.36213254223706) + 0.0341796875*(tf - 4)*(tf - 3.64564816194918)*(tf - 2.36213254223706)"
      ],
      "text/plain": [
       "-0.0290309329623842*(-1.17735408449626*tf + 1.0)*(tf - 4)*(tf - 3.645648161949\n",
       "18) - 0.0290309329623842*(-1.17735408449626*tf + 1.0)*(tf - 4)*(tf - 2.3621325\n",
       "4223706) - 0.0290309329623842*(-1.17735408449626*tf + 1.0)*(tf - 3.64564816194\n",
       "918)*(tf - 2.36213254223706) + 0.0341796875*(tf - 4)*(tf - 3.64564816194918)*(\n",
       "tf - 2.36213254223706)"
      ]
     },
     "execution_count": 58,
     "metadata": {},
     "output_type": "execute_result"
    }
   ],
   "source": [
    "D[1][1,1]"
   ]
  },
  {
   "cell_type": "code",
   "execution_count": 82,
   "metadata": {
    "collapsed": false
   },
   "outputs": [],
   "source": [
    "# divide the interval to [-1,1]\n",
    "taus_and_weights = [gaussradau(n.Nck[int]) for int in 1:n.Ni];\n",
    "n.τ = [taus_and_weights[int][1] for int in 1:n.Ni];\n",
    "n.ω = [taus_and_weights[int][2] for int in 1:n.Ni];"
   ]
  },
  {
   "cell_type": "code",
   "execution_count": 60,
   "metadata": {
    "collapsed": false
   },
   "outputs": [
    {
     "name": "stderr",
     "output_type": "stream",
     "text": [
      "WARNING: Method definition create(JuMP.Model, NLOptControl.NLOpt) in module Main at In[7]:2 overwritten at In[60]:2.\n"
     ]
    },
    {
     "data": {
      "text/plain": [
       "create (generic function with 1 method)"
      ]
     },
     "execution_count": 60,
     "metadata": {},
     "output_type": "execute_result"
    }
   ],
   "source": [
    "function create(mdl::JuMP.Model,n::NLOpt)\n",
    "    tm = linspace(-1,1,n.Ni+1)     # create mesh points\n",
    "    di = 2/n.Ni;                   # interval size   \n",
    "    # go through each mesh interval creating time intervals; map [tm[i-1],tm[i]] --> [-1,1]\n",
    "    ts=[[scale_tau(n.τ[int],tm[int],tm[int+1]);di*int-1] for int in 1:n.Ni];\n",
    "    ωₛ=[scale_w(n.ω[int],tm[int],tm[int+1]) for int in 1:n.Ni];\n",
    "    return ts, ωₛ\n",
    "end\n"
   ]
  },
  {
   "cell_type": "code",
   "execution_count": 61,
   "metadata": {
    "collapsed": false
   },
   "outputs": [],
   "source": []
  },
  {
   "cell_type": "code",
   "execution_count": 62,
   "metadata": {
    "collapsed": false
   },
   "outputs": [
    {
     "data": {
      "text/plain": [
       "4-element Array{Array{Float64,1},1}:\n",
       " [-1.0,-0.89383,-0.704733,-0.544294,-0.5]\n",
       " [-0.5,-0.39383,-0.204733,-0.044294,0.0] \n",
       " [0.0,0.10617,0.295267,0.455706,0.5]     \n",
       " [0.5,0.60617,0.795267,0.955706,1.0]     "
      ]
     },
     "execution_count": 62,
     "metadata": {},
     "output_type": "execute_result"
    }
   ],
   "source": []
  },
  {
   "cell_type": "code",
   "execution_count": null,
   "metadata": {
    "collapsed": false
   },
   "outputs": [],
   "source": []
  },
  {
   "cell_type": "code",
   "execution_count": 25,
   "metadata": {
    "collapsed": false
   },
   "outputs": [
    {
     "data": {
      "text/plain": [
       "6-element Array{Float64,1}:\n",
       " -1.0      \n",
       " -0.86024  \n",
       " -0.58359  \n",
       " -0.276843 \n",
       " -0.0571042\n",
       "  0.0      "
      ]
     },
     "execution_count": 25,
     "metadata": {},
     "output_type": "execute_result"
    }
   ],
   "source": [
    "ts[1]"
   ]
  },
  {
   "cell_type": "code",
   "execution_count": 26,
   "metadata": {
    "collapsed": false
   },
   "outputs": [
    {
     "data": {
      "text/plain": [
       "7-element Array{Float64,1}:\n",
       " 0.0      \n",
       " 0.0985351\n",
       " 0.304536 \n",
       " 0.562025 \n",
       " 0.801987 \n",
       " 0.96019  \n",
       " 1.0      "
      ]
     },
     "execution_count": 26,
     "metadata": {},
     "output_type": "execute_result"
    }
   ],
   "source": [
    "ts[2]"
   ]
  },
  {
   "cell_type": "code",
   "execution_count": 27,
   "metadata": {
    "collapsed": false
   },
   "outputs": [
    {
     "data": {
      "text/plain": [
       "6×6 Array{Float64,2}:\n",
       " -13.0       18.2193    -8.77711    6.97026   -8.41242   5.0    \n",
       "  -2.80998   -0.581233   5.18834   -3.39315    3.87866  -2.28264\n",
       "   0.657063  -2.51832   -0.856765   4.49602   -4.12217   2.34417\n",
       "  -0.274338   0.865901  -2.3638    -1.80608    7.16138  -3.58307\n",
       "   0.133706  -0.399705   0.875186  -2.89194   -8.75592  11.0387 \n",
       "  -0.2        0.592003  -1.25255    3.64148  -27.7809   25.0    "
      ]
     },
     "execution_count": 27,
     "metadata": {},
     "output_type": "execute_result"
    }
   ],
   "source": [
    "polyDiff(ts[1])"
   ]
  },
  {
   "cell_type": "code",
   "execution_count": 50,
   "metadata": {
    "collapsed": false
   },
   "outputs": [],
   "source": [
    "int=1\n",
    "j=5\n",
    "x=ts[int][j]\n",
    "x_data = test;# ts[int]\n",
    "Nc = n.Nck[int]\n",
    "L=Array(Any,Nc+1)\n",
    "L_previous=1;\n",
    "for idx in 1:Nc+1 # use all of the data\n",
    "  if idx!=j # would be /0 error\n",
    "    L[idx] =  L_previous*(x - x_data[idx])/(x_data[j]-x_data[idx]);\n",
    "    L_previous = L[idx];\n",
    "  end\n",
    "end"
   ]
  }
 ],
 "metadata": {
  "anaconda-cloud": {},
  "kernelspec": {
   "display_name": "Julia 0.5.0",
   "language": "julia",
   "name": "julia-0.5"
  },
  "language_info": {
   "file_extension": ".jl",
   "mimetype": "application/julia",
   "name": "julia",
   "version": "0.5.0"
  }
 },
 "nbformat": 4,
 "nbformat_minor": 1
}
