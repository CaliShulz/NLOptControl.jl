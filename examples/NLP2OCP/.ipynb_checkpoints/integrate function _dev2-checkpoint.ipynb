{
 "cells": [
  {
   "cell_type": "code",
   "execution_count": 1,
   "metadata": {
    "collapsed": false
   },
   "outputs": [
    {
     "data": {
      "text/plain": [
       "Plots.PyPlotBackend()"
      ]
     },
     "execution_count": 1,
     "metadata": {},
     "output_type": "execute_result"
    }
   ],
   "source": [
    "using NLOptControl\n",
    "using Polynomials\n",
    "using Plots\n",
    "using Parameters\n",
    "pyplot()"
   ]
  },
  {
   "cell_type": "code",
   "execution_count": 2,
   "metadata": {
    "collapsed": false
   },
   "outputs": [],
   "source": [
    "############\n",
    "# TEST DATA\n",
    "############\n",
    "t0 = Float64(0); tf = Float64(2);\n",
    "t = Array(linspace(t0,tf,100));\n",
    "\n",
    "# sin and cos taylor series approximation at x = 0\n",
    "s0 =  0; s1 = 1; s2 = 0;       s3 = -1/(3*2*1); s4 = 0;           s5 = 1/(5*4*3*2*1); \n",
    "c0 = 1;  c1 = 0; c2 = 1/(2*1); c3 = 0;          c4 = 1/(4*3*2*1); c5 = 0; \n",
    "γ1 = Poly([s0,s1,s2,s3,s4,s5]);  # state 1\n",
    "γ2 = Poly([c0,c1,c2,c3,c4,c5]);  # state 2\n",
    "γ = [γ1; γ2]; numStates=length(γ);\n",
    "y = [polyval(γ[st],t) for st in 1:numStates];\n",
    "\n",
    "# evaluate the integrals\n",
    "∫γ = [polyint(γ[st]) for st in 1:numStates];\n",
    "Y  = [polyval(∫γ[st],t[end]) - polyval(∫γ[st],t[1]) for st in 1:numStates];\n",
    "C  = [Y[st] - polyval(∫γ[st],t[end]) for st in 1:numStates]; # constant of integration\n",
    "∫y = [polyval(∫γ[st],t) + C[st] for st in 1:numStates];\n",
    "\n",
    "# evaluate the derivatives\n",
    "dγ = [polyder(γ[st]) for st in 1:numStates];\n",
    "dy = [polyval(dγ[st],t) for st in 1:numStates];\n",
    "############\n",
    "# TEST DATA\n",
    "############\n",
    "dx1(t) = 1.0 - 0.5⋅t^2 + 0.0416667⋅t^4;   \n",
    "dx2(t) = 1.0⋅t + 0.166667⋅t^3;\n",
    "dx = [dx1, dx2];\n",
    "X0= [y[1][1];y[2][1]];\n",
    "XF= [y[1][end];y[2][end]];\n",
    "XL=[0,-Inf];     XU=[1/9,Inf]; # TODO allow for functions of these so we can calculate them on the fly!\n",
    "CL=[-Inf];  CU=[Inf]; \n",
    "\n",
    "ps, nlp = initialize_NLP(numStates=2,numControls=1,Ni=5,Nck=[4,4,4,4,4],stateEquations=dx,X0=X0,XF=XF,XL=XL,XU=XU,CL=CL,CU=CU);\n",
    "\n",
    "@pack ps = t0, tf;  # given in problem def.\n",
    "@unpack Nck, Ni, t0, tf, τ, ω = ps;\n",
    "di, tm, ts, ωₛ = create_intervals(t0,tf,Ni,Nck,τ,ω);\n",
    "@pack ps = τ, ω, ωₛ, ts;\n",
    "generate_Fake_data(nlp,ps,γ);\n",
    "nlp2ocp(nlp,ps);\n",
    "\n",
    "@unpack stateMatrix = ps;\n",
    "@unpack numStates = nlp;\n"
   ]
  },
  {
   "cell_type": "code",
   "execution_count": 6,
   "metadata": {
    "collapsed": false
   },
   "outputs": [
    {
     "ename": "LoadError",
     "evalue": "DimensionMismatch(\"arrays could not be broadcast to a common size\")",
     "output_type": "error",
     "traceback": [
      "DimensionMismatch(\"arrays could not be broadcast to a common size\")",
      "",
      " in _bcs1(::Base.OneTo{Int64}, ::Base.OneTo{Int64}) at ./broadcast.jl:47",
      " in _bcs at ./broadcast.jl:40 [inlined]",
      " in broadcast_shape at ./broadcast.jl:34 [inlined] (repeats 2 times)",
      " in broadcast_shape at ./broadcast.jl:31 [inlined]",
      " in broadcast_t at ./broadcast.jl:228 [inlined]",
      " in broadcast at ./broadcast.jl:230 [inlined]",
      " in broadcast_zpreserving at ./sparse/sparsematrix.jl:1681 [inlined]",
      " in .*(::Array{Float64,1}, ::Array{Float64,1}) at ./sparse/sparsematrix.jl:1718",
      " in macro expansion; at ./In[6]:10 [inlined]",
      " in anonymous at ./<missing>:?"
     ]
    }
   ],
   "source": [
    "@unpack numControls = nlp;\n",
    "@unpack controlMatrix = ps;\n",
    "\n",
    "    # control integral\n",
    "    ctrInt = [zeros(Float64, numControls, Nck[int],)for int in 1:Ni]; idx = 1;\n",
    "    ctrTemp = zeros(Float64, numControls, Ni);\n",
    "    for ctr in 1:numControls\n",
    "        for int in 1:Ni\n",
    "          #  if mode == :default\n",
    "        ctrInt[int][ctr,1:Nck[int]] =  cumsum(ωₛ[int].*controlMatrix[int][1:end,ctr]);\n",
    "            #elseif mode == :LGRIM     # Legendre-Gauss-Radau integration matrix (LGRIM)\n",
    "          #      ctrInt[int][ctr,1:Nck[int]] =  IMatrix[int]*controlMatrix[int][1:end-1,ctr];\n",
    "          #  else\n",
    "          #      error(\"Pick a mode or leave argument blank and it will use Gaussian quadrature\")\n",
    "          #  end\n",
    "            # for the entire integral value; only add up what was accumulated in this interval\n",
    "            ctrTemp[ctr,int] = ctrInt[int][ctr,end];\n",
    "\n",
    "            # for the actual points on the graph, we need to offset by the initial value\n",
    "            if int > 1 # add on intitial value\n",
    "              ctrInt[int][ctr,1:Nck[int]] = ctrInt[int][ctr,1:Nck[int]] + ctrInt[int-1][ctr,end];\n",
    "            end\n",
    "            idx=idx+1;\n",
    "        end\n",
    "    end"
   ]
  },
  {
   "cell_type": "code",
   "execution_count": 8,
   "metadata": {
    "collapsed": false
   },
   "outputs": [
    {
     "data": {
      "text/plain": [
       "3-element Array{Float64,1}:\n",
       " 0.0\n",
       " 0.0\n",
       " 0.0"
      ]
     },
     "execution_count": 8,
     "metadata": {},
     "output_type": "execute_result"
    }
   ],
   "source": [
    "ctr=1\n",
    "int = 1\n",
    "controlMatrix[int][1:end-1,ctr]"
   ]
  },
  {
   "cell_type": "code",
   "execution_count": 9,
   "metadata": {
    "collapsed": false
   },
   "outputs": [
    {
     "data": {
      "text/plain": [
       "4-element Array{Float64,1}:\n",
       " 0.025    \n",
       " 0.131538 \n",
       " 0.155277 \n",
       " 0.0881849"
      ]
     },
     "execution_count": 9,
     "metadata": {},
     "output_type": "execute_result"
    }
   ],
   "source": [
    "ωₛ[int]"
   ]
  },
  {
   "cell_type": "code",
   "execution_count": 10,
   "metadata": {
    "collapsed": false
   },
   "outputs": [
    {
     "data": {
      "text/html": [
       "4"
      ],
      "text/plain": [
       "4"
      ]
     },
     "execution_count": 10,
     "metadata": {},
     "output_type": "execute_result"
    }
   ],
   "source": [
    "Nck[1]"
   ]
  },
  {
   "cell_type": "code",
   "execution_count": null,
   "metadata": {
    "collapsed": true
   },
   "outputs": [],
   "source": []
  }
 ],
 "metadata": {
  "anaconda-cloud": {},
  "kernelspec": {
   "display_name": "Julia 0.5.0",
   "language": "julia",
   "name": "julia-0.5"
  },
  "language_info": {
   "file_extension": ".jl",
   "mimetype": "application/julia",
   "name": "julia",
   "version": "0.5.0"
  }
 },
 "nbformat": 4,
 "nbformat_minor": 1
}
