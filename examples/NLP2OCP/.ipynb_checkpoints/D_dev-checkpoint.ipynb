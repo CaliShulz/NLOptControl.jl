{
 "cells": [
  {
   "cell_type": "code",
   "execution_count": 5,
   "metadata": {
    "collapsed": false
   },
   "outputs": [],
   "source": [
    "using NLOptControl, JuMP, Ipopt\n",
    "#FastGaussQuadrature"
   ]
  },
  {
   "cell_type": "code",
   "execution_count": 9,
   "metadata": {
    "collapsed": false
   },
   "outputs": [
    {
     "name": "stderr",
     "output_type": "stream",
     "text": [
      "WARNING: Method definition MoonLander(NLOptControl.NLOpt, Array{#T<:Any, 2}, Array{#T<:Any, 2}) in module Main at In[8]:4 overwritten at In[9]:4.\n"
     ]
    }
   ],
   "source": [
    "n = NLOpt();\n",
    "const g = 1.62519; # m/s^2\n",
    "function MoonLander{T<:Any}(n::NLOpt,x::Array{T,2},u::Array{T,2}) # dynamic constraint equations\n",
    "  if n.integrationMethod==:tm\n",
    "    L = size(x)[1];\n",
    "  else\n",
    "    L = size(x)[1]-1;\n",
    "  end\n",
    "  dx = Array(Any,L,n.numStates)\n",
    "  dx[:,1] =  @NLexpression(mdl, [j=1:L], x[j,2] );\n",
    "  dx[:,2] =  @NLexpression(mdl, [j=1:L], u[j,1] - g);\n",
    "  return dx\n",
    "end\n",
    "\n",
    "n = define(n,stateEquations=MoonLander,numStates=2,numControls=1,X0=[10.,-2],XF=[0.,0.],XL=[-Inf,-Inf],XU=[Inf,Inf],CL=[0.],CU=[3.])\n",
    "n = configure(n,Ni=1,Nck=[15];(:integrationMethod => :ps),(:integrationScheme => :lgrExplicit),(:finalTimeDV => false),(:tf => 4.0))\n",
    "mdl = Model(solver = IpoptSolver()); "
   ]
  },
  {
   "cell_type": "markdown",
   "metadata": {},
   "source": [
    "# Fixed time function testing"
   ]
  },
  {
   "cell_type": "code",
   "execution_count": 13,
   "metadata": {
    "collapsed": false
   },
   "outputs": [
    {
     "data": {
      "text/plain": [
       "15×16 Array{Any,2}:\n",
       " -28.25       38.3619     -15.6569     …   4.10797   -6.03972   3.75    \n",
       "  -6.18903    -0.127062     9.0117        -1.67819    2.4662   -1.53107 \n",
       "   1.38442    -4.93909     -0.132093       1.2934    -1.89857   1.17837 \n",
       "  -0.553142    1.61374     -3.61382       -1.13583    1.66408  -1.03238 \n",
       "   0.285687   -0.779796     1.35482        1.07125   -1.56493   0.970225\n",
       "  -0.170867    0.45235     -0.715748   …  -1.06454    1.54858  -0.959171\n",
       "   0.1124     -0.292672     0.442172       1.10708   -1.60061   0.990035\n",
       "  -0.0790146   0.203702    -0.299729      -1.20405    1.72512  -1.06489 \n",
       "   0.0582781  -0.149285     0.216069       1.37525   -1.94324   1.19588 \n",
       "  -0.0445018   0.113508    -0.162514      -1.66693    2.30274  -1.41024 \n",
       "   0.0347853  -0.0884627    0.125727   …   2.19154   -2.90766   1.76588 \n",
       "  -0.0274974   0.0697861   -0.0986828     -3.28841    4.01135  -2.39712 \n",
       "   0.0216041  -0.0547533    0.0771616      6.64046   -6.39119   3.67741 \n",
       "  -0.0162873   0.0412422   -0.0579954     -3.73119   13.9511   -7.04822 \n",
       "   0.0104823  -0.0265304    0.0372651     -6.10696  -19.4802   24.3464  "
      ]
     },
     "execution_count": 13,
     "metadata": {},
     "output_type": "execute_result"
    }
   ],
   "source": [
    "n = LGR_matrices(n);\n",
    "n.DMatrix[1]"
   ]
  },
  {
   "cell_type": "code",
   "execution_count": 16,
   "metadata": {
    "collapsed": false
   },
   "outputs": [
    {
     "data": {
      "text/plain": [
       "15×16 Array{Float64,2}:\n",
       " -28.25       38.3619     -15.6569     …   4.10797   -6.03972   3.75    \n",
       "  -6.18903    -0.127062     9.0117        -1.67819    2.4662   -1.53107 \n",
       "   1.38442    -4.93909     -0.132093       1.2934    -1.89857   1.17837 \n",
       "  -0.553142    1.61374     -3.61382       -1.13583    1.66408  -1.03238 \n",
       "   0.285687   -0.779796     1.35482        1.07125   -1.56493   0.970225\n",
       "  -0.170867    0.45235     -0.715748   …  -1.06454    1.54858  -0.959171\n",
       "   0.1124     -0.292672     0.442172       1.10708   -1.60061   0.990035\n",
       "  -0.0790146   0.203702    -0.299729      -1.20405    1.72512  -1.06489 \n",
       "   0.0582781  -0.149285     0.216069       1.37525   -1.94324   1.19588 \n",
       "  -0.0445018   0.113508    -0.162514      -1.66693    2.30274  -1.41024 \n",
       "   0.0347853  -0.0884627    0.125727   …   2.19154   -2.90766   1.76588 \n",
       "  -0.0274974   0.0697861   -0.0986828     -3.28841    4.01135  -2.39712 \n",
       "   0.0216041  -0.0547533    0.0771616      6.64046   -6.39119   3.67741 \n",
       "  -0.0162873   0.0412422   -0.0579954     -3.73119   13.9511   -7.04822 \n",
       "   0.0104823  -0.0265304    0.0372651     -6.10696  -19.4802   24.3464  "
      ]
     },
     "execution_count": 16,
     "metadata": {},
     "output_type": "execute_result"
    }
   ],
   "source": [
    "poldif(n.ts[1],1)[1:end-1,:]"
   ]
  },
  {
   "cell_type": "markdown",
   "metadata": {
    "collapsed": false
   },
   "source": [
    "# OLD code"
   ]
  },
  {
   "cell_type": "code",
   "execution_count": 2,
   "metadata": {
    "collapsed": false
   },
   "outputs": [],
   "source": [
    "Ni=2;Nck=[10,5]; t0=0.0; tf = 4.0;\n",
    "# initialize node data TODO  make different PS methods available\n",
    "taus_and_weights = [gaussradau(Nck[int]) for int in 1:Ni];\n",
    "τ = [taus_and_weights[int][1] for int in 1:Ni];\n",
    "ω = [taus_and_weights[int][2] for int in 1:Ni];\n",
    "ts, ωₛ = create_intervals(t0,tf,Ni,Nck,τ,ω);\n"
   ]
  },
  {
   "cell_type": "code",
   "execution_count": null,
   "metadata": {
    "collapsed": false
   },
   "outputs": [],
   "source": []
  },
  {
   "cell_type": "code",
   "execution_count": 3,
   "metadata": {
    "collapsed": false
   },
   "outputs": [
    {
     "data": {
      "text/plain": [
       "lepoly (generic function with 1 method)"
      ]
     },
     "execution_count": 3,
     "metadata": {},
     "output_type": "execute_result"
    }
   ],
   "source": [
    "function lepoly(n::Int64,x,derivative_option::Bool)\n",
    "# lepoly  Legendre polynomial of degree n\n",
    "    # y=lepoly(n,x) is the Legendre polynomial\n",
    "    # The degree should be a nonnegative integer\n",
    "    # The argument x should be on the closed interval [-1,1];\n",
    "    # [dy,y]=lepoly(n,x) also returns the values of 1st-order\n",
    "    #  derivative of the Legendre polynomial stored in dy\n",
    "# Last modified on August 30, 2011\n",
    "# Verified with the chart in http://keisan.casio.com/has10/SpecExec.cgi\n",
    "  if !derivative_option\n",
    "       if n==0 y=ones(size(x));  return y end\n",
    "       if n==1 y=x; return y end\n",
    "       polylst=ones(size(x)); poly=x;   # L_0(x)=1, L_1(x)=x\n",
    "       polyn=0;\n",
    "       for k=2:n                      # Three-term recurrence relation:\n",
    "  \t     polyn=((2*k-1)*x.*poly-(k-1)*polylst)/k; # kL_k(x)=(2k-1)xL_{k-1}(x)-(k-1)L_{k-2}(x)\n",
    "         polylst=poly; poly=polyn;\n",
    "       end\n",
    "       y=polyn;\n",
    "  else\n",
    "     if n==0 y=ones(size(x)); dy=zeros(size(x)); return dy,y end\n",
    "     if n==1 y=x; dy=ones(size(x)); return dy, y end\n",
    "\n",
    "     # TODO MAKE SURE THIS IS CALCULATING SIZE correctly!! i.e. N=4 and size(N+1,N+1) = 1\n",
    "      polylst=ones(size(x)); pderlst=zeros(size(x));poly=x; pder=ones(size(x));\n",
    "       # L_0=1, L_0'=0, L_1=x, L_1'=1\n",
    "      polyn=0;\n",
    "      pdern=0;\n",
    "      for k=2:n                          # Three-term recurrence relation:\n",
    "        polyn=((2*k-1)*x.*poly-(k-1)*polylst)/k; # kL_k(x)=(2k-1)xL_{k-1}(x)-(k-1)L_{k-2}(x)\n",
    "        pdern=pderlst+(2*k-1)*poly; # L_k'(x)=L_{k-2}'(x)+(2k-1)L_{k-1}(x)\n",
    "     \t  polylst=poly; poly=polyn;\n",
    "    \t  pderlst=pder; pder=pdern;\n",
    "      end\n",
    "      y=polyn; dy=pdern;\n",
    "      return dy, y\n",
    "  end\n",
    "\n",
    "end\n",
    "\n",
    "\n",
    "# the following code use"
   ]
  },
  {
   "cell_type": "code",
   "execution_count": 4,
   "metadata": {
    "collapsed": false
   },
   "outputs": [
    {
     "ename": "LoadError",
     "evalue": "syntax: extra token \"IS\" after end of expression",
     "output_type": "error",
     "traceback": [
      "syntax: extra token \"IS\" after end of expression",
      ""
     ]
    }
   ],
   "source": [
    "#--------------------------------------------------------------------------\n",
    "# Author: Huckleberry Febbo, Graduate Student, University of Michigan\n",
    "# Date: 12/23/2015\n",
    "# Last modifed on December 23, 2016 by Huckleberry Febbo\n",
    "#--------------------------------------------------------------------------\n",
    "# From a modified version of what is described in the paper (*) titled:\n",
    "# \"Legendre–Gauss–Lobatto Pseudo–spectral Method for One–Dimensional Advection–Diffusion Equation\"\n",
    "function MYD(τ::Vector{Float64},N::Int64)\n",
    "  D = zeros(N+1,N+1)\n",
    "  for i in 1:N+1\n",
    "    for j in 1:N+1\n",
    "      if i!=j\n",
    "        D[i,j] = lepoly(N,τ[i],false)[1]/(lepoly(N,τ[j],false)[1]*(τ[i]-τ[j]));\n",
    "      elseif (i==j && j==1)\n",
    "        D[i,j] = -N*(N+1)/4;\n",
    "      elseif (i==j && j==(N+1)) #TODO added the N+1 --> check this (what I modified from the paper(*))\n",
    "        D[i,j] = N*(N+1)/4;\n",
    "      else\n",
    "        D[i,j] = 0;\n",
    "      end\n",
    "    end\n",
    "  end\n",
    "  return D\n",
    "end\n",
    "\n",
    "\n",
    "THIS IS THE WRONG D! -- > not the same;/"
   ]
  },
  {
   "cell_type": "code",
   "execution_count": 5,
   "metadata": {
    "collapsed": false
   },
   "outputs": [
    {
     "data": {
      "text/plain": [
       "11×11 Array{Float64,2}:\n",
       "    -27.5           -19.0536     …   1.53533e-6     1.28093e-6 \n",
       "      9.98069         0.0            1.15365e-6     9.6196e-7  \n",
       "     -3.45714        -6.89338       -1.42411e-6    -1.18581e-6 \n",
       "      1.04415         1.70303        1.00144e-6     8.31702e-7 \n",
       "     -1.56271        -2.38567       -2.99165e-6    -2.47339e-6 \n",
       "    -44.8299        -66.4165     …  -0.000163099   -0.000133757\n",
       "  -2754.3         -4016.52          -0.0194894     -0.01573    \n",
       " -23711.8        -34270.4           -0.365626      -0.284175   \n",
       " -85997.7            -1.23666e5     -4.01674       -2.7414     \n",
       "     -1.67628e5      -2.40455e5      0.0          -29.3671     \n",
       "     -1.95171e5      -2.79809e5  …  40.9831        27.5        "
      ]
     },
     "execution_count": 5,
     "metadata": {},
     "output_type": "execute_result"
    }
   ],
   "source": [
    "MYD(ts[1],10)"
   ]
  },
  {
   "cell_type": "code",
   "execution_count": null,
   "metadata": {
    "collapsed": false
   },
   "outputs": [],
   "source": []
  },
  {
   "cell_type": "code",
   "execution_count": 6,
   "metadata": {
    "collapsed": false
   },
   "outputs": [],
   "source": [
    "using JuMP\n",
    "mdl = Model()\n",
    "@variable(mdl, tf_var)\n",
    "ts_JuMP, ωₛ_JuMP = create_intervals_JuMP(mdl,tf_var,Nck,Ni,τ,ω)\n",
    "DJ=poldif_JuMP(mdl,ts_JuMP,Ni,Nck);\n",
    "setvalue(tf_var, tf)"
   ]
  },
  {
   "cell_type": "code",
   "execution_count": 7,
   "metadata": {
    "collapsed": false
   },
   "outputs": [
    {
     "data": {
      "text/plain": [
       "6-element Array{Any,1}:\n",
       " 2.0    \n",
       " 2.27952\n",
       " 2.83282\n",
       " 3.44631\n",
       " 3.88579\n",
       " 4.0    "
      ]
     },
     "execution_count": 7,
     "metadata": {},
     "output_type": "execute_result"
    }
   ],
   "source": [
    "getvalue(ts_JuMP[2])"
   ]
  },
  {
   "cell_type": "code",
   "execution_count": 8,
   "metadata": {
    "collapsed": false
   },
   "outputs": [
    {
     "data": {
      "text/plain": [
       "3-element Array{Float64,1}:\n",
       " 0.0\n",
       " 2.0\n",
       " 4.0"
      ]
     },
     "execution_count": 8,
     "metadata": {},
     "output_type": "execute_result"
    }
   ],
   "source": [
    "tm"
   ]
  },
  {
   "cell_type": "code",
   "execution_count": 9,
   "metadata": {
    "collapsed": false
   },
   "outputs": [
    {
     "data": {
      "text/plain": [
       "3-element Array{Float64,1}:\n",
       " 0.0\n",
       " 2.0\n",
       " 4.0"
      ]
     },
     "execution_count": 9,
     "metadata": {},
     "output_type": "execute_result"
    }
   ],
   "source": [
    "tm = @NLexpression(mdl, [idx=1:Ni+1], (idx-1)*tf_var/Ni);\n",
    "getvalue(tm)"
   ]
  },
  {
   "cell_type": "code",
   "execution_count": 10,
   "metadata": {
    "collapsed": false
   },
   "outputs": [
    {
     "data": {
      "text/plain": [
       "6-element Array{Float64,1}:\n",
       " 2.0    \n",
       " 2.27952\n",
       " 2.83282\n",
       " 3.44631\n",
       " 3.88579\n",
       " 4.0    "
      ]
     },
     "execution_count": 10,
     "metadata": {},
     "output_type": "execute_result"
    }
   ],
   "source": [
    "ts[2]"
   ]
  },
  {
   "cell_type": "code",
   "execution_count": 14,
   "metadata": {
    "collapsed": false
   },
   "outputs": [
    {
     "data": {
      "text/plain": [
       "11×11 Array{Float64,2}:\n",
       " -25.25       34.4508     -14.4102    …  -5.678      8.10738  -5.0    \n",
       "  -5.51997    -0.259405     8.32426       2.36547   -3.3692    2.07672\n",
       "   1.2443     -4.48604     -0.283472     -1.91246    2.70663  -1.66597\n",
       "  -0.502804    1.4828      -3.40753       1.8208    -2.54646   1.56332\n",
       "   0.263226   -0.726584     1.29673      -1.94326    2.66097  -1.62626\n",
       "  -0.159518    0.427308    -0.695489  …   2.32759   -3.06459   1.85781\n",
       "   0.105735   -0.278793     0.434072     -3.26097    3.95081  -2.35712\n",
       "  -0.0736453   0.192452    -0.292549      6.2693    -5.99646   3.44517\n",
       "   0.0513909  -0.13362      0.20046      -3.36078   12.6751   -6.39464\n",
       "  -0.0317445   0.0823339   -0.122733     -5.48338  -17.3462   21.7084 \n",
       "   0.05       -0.129611     0.192936  …   7.06521  -55.442    50.0    "
      ]
     },
     "execution_count": 14,
     "metadata": {},
     "output_type": "execute_result"
    }
   ],
   "source": [
    "getvalue(DJ[1])"
   ]
  },
  {
   "cell_type": "code",
   "execution_count": 15,
   "metadata": {
    "collapsed": false
   },
   "outputs": [
    {
     "data": {
      "text/plain": [
       "11×11 Array{Float64,2}:\n",
       " -25.25       34.4508     -14.4102    …  -5.678      8.10738  -5.0    \n",
       "  -5.51997    -0.259405     8.32426       2.36547   -3.3692    2.07672\n",
       "   1.2443     -4.48604     -0.283472     -1.91246    2.70663  -1.66597\n",
       "  -0.502804    1.4828      -3.40753       1.8208    -2.54646   1.56332\n",
       "   0.263226   -0.726584     1.29673      -1.94326    2.66097  -1.62626\n",
       "  -0.159518    0.427308    -0.695489  …   2.32759   -3.06459   1.85781\n",
       "   0.105735   -0.278793     0.434072     -3.26097    3.95081  -2.35712\n",
       "  -0.0736453   0.192452    -0.292549      6.2693    -5.99646   3.44517\n",
       "   0.0513909  -0.13362      0.20046      -3.36078   12.6751   -6.39464\n",
       "  -0.0317445   0.0823339   -0.122733     -5.48338  -17.3462   21.7084 \n",
       "   0.05       -0.129611     0.192936  …   7.06521  -55.442    50.0    "
      ]
     },
     "execution_count": 15,
     "metadata": {},
     "output_type": "execute_result"
    }
   ],
   "source": [
    "poldif(ts[1],1)"
   ]
  },
  {
   "cell_type": "code",
   "execution_count": 13,
   "metadata": {
    "collapsed": false
   },
   "outputs": [
    {
     "ename": "LoadError",
     "evalue": "syntax: extra token \"first\" after end of expression",
     "output_type": "error",
     "traceback": [
      "syntax: extra token \"first\" after end of expression",
      ""
     ]
    }
   ],
   "source": [
    "GOOD!!"
   ]
  },
  {
   "cell_type": "code",
   "execution_count": 20,
   "metadata": {
    "collapsed": false
   },
   "outputs": [
    {
     "data": {
      "text/plain": [
       "5-element Array{Any,1}:\n",
       " 0.08    \n",
       " 0.446208\n",
       " 0.623653\n",
       " 0.562712\n",
       " 0.287427"
      ]
     },
     "execution_count": 20,
     "metadata": {},
     "output_type": "execute_result"
    }
   ],
   "source": [
    "getvalue(ωₛ_JuMP[2])"
   ]
  },
  {
   "cell_type": "code",
   "execution_count": 19,
   "metadata": {
    "collapsed": false
   },
   "outputs": [
    {
     "data": {
      "text/plain": [
       "5-element Array{Float64,1}:\n",
       " 0.08    \n",
       " 0.446208\n",
       " 0.623653\n",
       " 0.562712\n",
       " 0.287427"
      ]
     },
     "execution_count": 19,
     "metadata": {},
     "output_type": "execute_result"
    }
   ],
   "source": [
    "ωₛ[2]"
   ]
  },
  {
   "cell_type": "code",
   "execution_count": null,
   "metadata": {
    "collapsed": true
   },
   "outputs": [],
   "source": [
    "GOOD!!!"
   ]
  }
 ],
 "metadata": {
  "anaconda-cloud": {},
  "kernelspec": {
   "display_name": "Julia 0.5.0",
   "language": "julia",
   "name": "julia-0.5"
  },
  "language_info": {
   "file_extension": ".jl",
   "mimetype": "application/julia",
   "name": "julia",
   "version": "0.5.0"
  }
 },
 "nbformat": 4,
 "nbformat_minor": 1
}
