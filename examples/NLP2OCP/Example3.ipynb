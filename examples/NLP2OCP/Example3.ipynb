{
 "cells": [
  {
   "cell_type": "markdown",
   "metadata": {},
   "source": [
    "Multiple states"
   ]
  },
  {
   "cell_type": "code",
   "execution_count": null,
   "metadata": {
    "collapsed": false
   },
   "outputs": [],
   "source": [
    "using NLOptControl\n",
    "using Polynomials\n",
    "using Plots\n",
    "using Parameters\n",
    "pyplot()"
   ]
  },
  {
   "cell_type": "code",
   "execution_count": 1,
   "metadata": {
    "collapsed": false
   },
   "outputs": [
    {
     "ename": "LoadError",
     "evalue": "UndefVarError: Poly not defined",
     "output_type": "error",
     "traceback": [
      "UndefVarError: Poly not defined",
      ""
     ]
    }
   ],
   "source": [
    "############\n",
    "# TEST DATA\n",
    "############\n",
    "t0 = Float64(0); tf = Float64(2);\n",
    "t = Array(linspace(t0,tf,100));\n",
    "\n",
    "# sin and cos taylor series approximation at x = 0\n",
    "s0 =  0; s1 = 1; s2 = 0;       s3 = -1/(3*2*1); s4 = 0;           s5 = 1/(5*4*3*2*1); \n",
    "c0 = 1;  c1 = 0; c2 = 1/(2*1); c3 = 0;          c4 = 1/(4*3*2*1); c5 = 0; \n",
    "γ1 = Poly([s0,s1,s2,s3,s4,s5]);  # state 1\n",
    "γ2 = Poly([c0,c1,c2,c3,c4,c5]);  # state 2\n",
    "γ = [γ1; γ2]; numStates=length(γ);\n",
    "y = [polyval(γ[st],t) for st in 1:numStates];\n",
    "\n",
    "# evaluate the integrals\n",
    "∫γ = [polyint(γ[st]) for st in 1:numStates];\n",
    "Y  = [polyval(∫γ[st],t[end]) - polyval(∫γ[st],t[1]) for st in 1:numStates];\n",
    "C  = [Y[st] - polyval(∫γ[st],t[end]) for st in 1:numStates]; # constant of integration\n",
    "∫y = [polyval(∫γ[st],t) + C[st] for st in 1:numStates];\n",
    "\n",
    "# evaluate the derivatives\n",
    "dγ = [polyder(γ[st]) for st in 1:numStates];\n",
    "dy = [polyval(dγ[st],t) for st in 1:numStates];\n",
    "############\n",
    "# TEST DATA\n",
    "############\n",
    "ps, nlp = initialize_NLP(numStates=numStates,numControls=1,Ni=1,Nck=[4]);\n",
    "@pack ps = t0, tf;  # given in problem def.\n",
    "@unpack Nck, Ni, t0, tf, τ, ω = ps;\n",
    "di, tm, ts, ωₛ = create_intervals(t0,tf,Ni,Nck,τ,ω);\n",
    "@pack ps = τ, ω, ωₛ, ts;\n",
    "generate_Fake_data(nlp,ps,γ);\n",
    "nlp2ocp(nlp,ps);\n",
    "\n",
    "@unpack stateMatrix = ps;\n",
    "@unpack numStates = nlp;\n",
    "\n",
    "# interpolate function using Lagrange Polynomial\n",
    "P = [zeros(Float64,Nck[int]+1,numStates) for int in 1:Ni];\n",
    "for st in 1:numStates\n",
    "    for int in 1:Ni\n",
    "        P[int][:,st] = interpolate_lagrange(ts[int],ts[int],stateMatrix[int][1:end,st],Nck[int])\n",
    "    end\n",
    "end\n",
    "\n",
    "# approximate integral using quadrature\n",
    "ζ, approx_int_st = integrate_state(ps,nlp)\n",
    "\n",
    "# calculate LGR matrices - > IMatrix and DMatrix\n",
    "LGR_matrices(ps,nlp)\n",
    "\n",
    "# approximate integral using LGRIM\n",
    "ζ2, approx_int_st2 = integrate_state(ps,nlp;(:mode=>:LGRIM))\n",
    "\n",
    "# approximate derivative using LGRDM\n",
    "dζ = differentiate_state(ps,nlp)\n",
    "#################\n",
    "# post processing\n",
    "#################\n",
    "ls = 1.35;\n",
    "lw = 4;\n",
    "\n",
    "ip=plot(0,leg=:false)\n",
    "for st in 1:numStates\n",
    "  plot!(t,∫y[st],label=string(@sprintf(\"act. = %0.2f\",∫y[st][end]),\" || st. #\",st),w=lw);\n",
    "end\n",
    "for st in 1:numStates\n",
    "    legend_bool=true;\n",
    "    for int in 1:Ni\n",
    "        if legend_bool\n",
    "            scatter!(ts[int][1:end-1],ζ[int][st,1:Nck[int]],marker = (:pentagon, 10, 0.9, :red),leg=:bottomright,label=string(@sprintf(\"QUAD. = %0.2f\",approx_int_st[st]),\" || st. #\",st))\n",
    "            scatter!(ts[int][1:end-1],ζ2[int][st,1:Nck[int]], marker = (:star5, 10, 0.9, :green),leg=:bottomright,label=string(@sprintf(\"LGR  = %0.2f\",approx_int_st2[st]),\" || st. #\",st))\n",
    "        else # do not show legend a bunch of times\n",
    "            scatter!(ts[int][1:end-1],ζ[int][st,1:Nck[int]],marker = (:pentagon, 10, 0.9, :red),leg=:bottomright,label= \"\",leg=true)\n",
    "            scatter!(ts[int][1:end-1],ζ2[int][st,1:Nck[int]], marker = (:star5, 10, 0.9, :green),leg=:bottomright,label= \"\",leg=true)\n",
    "        end\n",
    "        legend_bool=false;\n",
    "    end\n",
    "end\n",
    "xlims!(t0,tf*ls)\n",
    "ylabel!(\"Integral\")\n",
    "xlabel!(string(\"Number of Intervals = \", Ni))\n",
    "\n",
    "dp=plot(0,leg=:false)\n",
    "\n",
    "for st in 1:numStates\n",
    "  plot!(t,dy[st],label=string(\"act. state #\",st),w=lw);\n",
    "end\n",
    "for st in 1:numStates\n",
    "    legend_bool=true;  # new legend for each state\n",
    "    for int in 1:Ni\n",
    "        if legend_bool\n",
    "            scatter!(ts[int][1:end-1],dζ[int][st,1:Nck[int]],marker = (:pentagon, 10, 0.9, :red),label=string(string(\"LGR\"),\" || st. #\",st),leg=:bottomright)\n",
    "        else # do not show legend a bunch of times\n",
    "            scatter!(ts[int][1:end-1],dζ[int][st,1:Nck[int]],marker = (:pentagon, 10, 0.9, :red),label= \"\",leg=true)\n",
    "        end\n",
    "        legend_bool=false;\n",
    "    end\n",
    "end\n",
    "xlims!(t0,tf*ls)\n",
    "ylabel!(\"Derivative\")\n",
    "#xlabel!(string(\"State(x) = \",γ))\n",
    "\n",
    "tF = zeros(Float64,Ni); yF =  zeros(Float64,Ni);\n",
    "fp=plot(0,leg=:false);\n",
    "plot!(t,y,label=\"act.\",w=lw)\n",
    "for st in 1:numStates  # currently the second state is all zeros\n",
    "    for int in 1:Ni\n",
    "        scatter!(ts[int],P[int][:,st],markersize =10,markershape = :rect,leg=:topright,label=string(\"# cp. = \",Nck[int]))\n",
    "        tF[int] = ts[int][end];\n",
    "        yF[int] = P[int][end,st];\n",
    "    end\n",
    "end\n",
    "scatter!(tF,yF,markersize = 10,marker = (:star8, 10, 0.9, :black),label=string(\"end points\"))\n",
    "xlims!(t0,tf*ls)\n",
    "ylabel!(\"State\")\n",
    "xlabel!(\"x --> really time (t)\")\n",
    "\n",
    "plot(ip,dp,fp,layout=(3,1),background_color_subplot=RGB(0.2,0.2,0.2), background_color_legend=RGB(1,1,1))\n",
    "plot!(foreground_color_grid=RGB(1,1,1))"
   ]
  },
  {
   "cell_type": "code",
   "execution_count": null,
   "metadata": {
    "collapsed": false
   },
   "outputs": [],
   "source": []
  },
  {
   "cell_type": "code",
   "execution_count": 18,
   "metadata": {
    "collapsed": false
   },
   "outputs": [],
   "source": [
    "# resize to save\n",
    "xlims!(t0,tf*1.78)\n",
    "plot!(titlefont=font(14),guidefont=font(14),tickfont=font(12),legendfont=font(12))\n",
    "plot!(leg=:best)\n",
    "plot!(size=(700,850))\n",
    "savefig(\"test3b.png\")"
   ]
  },
  {
   "cell_type": "code",
   "execution_count": null,
   "metadata": {
    "collapsed": false,
    "scrolled": true
   },
   "outputs": [],
   "source": []
  },
  {
   "cell_type": "code",
   "execution_count": 7,
   "metadata": {
    "collapsed": false
   },
   "outputs": [],
   "source": []
  },
  {
   "cell_type": "code",
   "execution_count": 57,
   "metadata": {
    "collapsed": false
   },
   "outputs": [],
   "source": []
  },
  {
   "cell_type": "code",
   "execution_count": null,
   "metadata": {
    "collapsed": false
   },
   "outputs": [],
   "source": []
  },
  {
   "cell_type": "code",
   "execution_count": null,
   "metadata": {
    "collapsed": false
   },
   "outputs": [],
   "source": []
  },
  {
   "cell_type": "code",
   "execution_count": null,
   "metadata": {
    "collapsed": false
   },
   "outputs": [],
   "source": []
  },
  {
   "cell_type": "code",
   "execution_count": null,
   "metadata": {
    "collapsed": false
   },
   "outputs": [],
   "source": []
  },
  {
   "cell_type": "code",
   "execution_count": null,
   "metadata": {
    "collapsed": false
   },
   "outputs": [],
   "source": []
  },
  {
   "cell_type": "code",
   "execution_count": null,
   "metadata": {
    "collapsed": false
   },
   "outputs": [],
   "source": []
  },
  {
   "cell_type": "code",
   "execution_count": null,
   "metadata": {
    "collapsed": false
   },
   "outputs": [],
   "source": []
  },
  {
   "cell_type": "code",
   "execution_count": null,
   "metadata": {
    "collapsed": false
   },
   "outputs": [],
   "source": []
  },
  {
   "cell_type": "code",
   "execution_count": null,
   "metadata": {
    "collapsed": false
   },
   "outputs": [],
   "source": []
  },
  {
   "cell_type": "code",
   "execution_count": null,
   "metadata": {
    "collapsed": false
   },
   "outputs": [],
   "source": []
  },
  {
   "cell_type": "code",
   "execution_count": null,
   "metadata": {
    "collapsed": false
   },
   "outputs": [],
   "source": []
  },
  {
   "cell_type": "code",
   "execution_count": null,
   "metadata": {
    "collapsed": true
   },
   "outputs": [],
   "source": []
  },
  {
   "cell_type": "code",
   "execution_count": null,
   "metadata": {
    "collapsed": false
   },
   "outputs": [],
   "source": []
  },
  {
   "cell_type": "code",
   "execution_count": null,
   "metadata": {
    "collapsed": false
   },
   "outputs": [],
   "source": []
  },
  {
   "cell_type": "code",
   "execution_count": null,
   "metadata": {
    "collapsed": false
   },
   "outputs": [],
   "source": []
  },
  {
   "cell_type": "code",
   "execution_count": null,
   "metadata": {
    "collapsed": false
   },
   "outputs": [],
   "source": []
  },
  {
   "cell_type": "code",
   "execution_count": null,
   "metadata": {
    "collapsed": true
   },
   "outputs": [],
   "source": []
  },
  {
   "cell_type": "code",
   "execution_count": null,
   "metadata": {
    "collapsed": false
   },
   "outputs": [],
   "source": []
  },
  {
   "cell_type": "code",
   "execution_count": null,
   "metadata": {
    "collapsed": false
   },
   "outputs": [],
   "source": []
  },
  {
   "cell_type": "code",
   "execution_count": null,
   "metadata": {
    "collapsed": false
   },
   "outputs": [],
   "source": []
  },
  {
   "cell_type": "code",
   "execution_count": null,
   "metadata": {
    "collapsed": false
   },
   "outputs": [],
   "source": []
  },
  {
   "cell_type": "code",
   "execution_count": null,
   "metadata": {
    "collapsed": true
   },
   "outputs": [],
   "source": []
  }
 ],
 "metadata": {
  "anaconda-cloud": {},
  "kernelspec": {
   "display_name": "Julia 0.5.0",
   "language": "julia",
   "name": "julia-0.5"
  },
  "language_info": {
   "file_extension": ".jl",
   "mimetype": "application/julia",
   "name": "julia",
   "version": "0.5.0"
  }
 },
 "nbformat": 4,
 "nbformat_minor": 1
}
