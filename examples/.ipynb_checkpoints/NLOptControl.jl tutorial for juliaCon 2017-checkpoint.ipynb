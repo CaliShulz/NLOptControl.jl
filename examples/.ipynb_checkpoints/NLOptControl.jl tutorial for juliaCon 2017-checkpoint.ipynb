{
 "cells": [
  {
   "cell_type": "markdown",
   "metadata": {},
   "source": [
    "# NLOptControl.jl"
   ]
  },
  {
   "cell_type": "markdown",
   "metadata": {},
   "source": [
    "## Installation\n",
    "\n",
    "There are several packages that need to be installed, to do this run:\n",
    "```julia\n",
    "Pkg.clone(\"https://github.com/JuliaMPC/PrettyPlots.jl\")\n",
    "Pkg.clone(\"https://github.com/JuliaMPC/VehicleModels.jl\")\n",
    "Pkg.clone(\"https://github.com/JuliaMPC/NLOptControl.jl\")\n",
    "```\n",
    "\n",
    "Either [Ipopt.jl](https://github.com/JuliaOpt/Ipopt.jl) or [KNITRO.jl](https://github.com/JuliaOpt/KNITRO.jl) can be used for the nonlinear solver. Since **Ipopt** is free, all of the examples will use it and it can be added with:\n",
    "```julia\n",
    "Pkg.add(\"Ipopt\");Pkg.build(\"Ipopt\");\n",
    "```\n",
    "\n",
    "If you are using **Linux** make sure that you have **gfortran** to run **Ipopt**:\n",
    "```julia\n",
    "sudo apt-get install gfortran\n",
    "```\n",
    "\n",
    "Also, a plotting backend will be required and there are several options:\n",
    "```julia\n",
    "Pkg.add(\"PGFPlots\");Pkg.build(\"PGFPlots\")   # best looking\n",
    "Pkg.add(\"GR\");Pkg.build(\"GR\");              # most reliable\n",
    "Pkg.add(\"PyPlot\");Pkg.build(\"PyPlot\")       # also a good option  \n",
    "```"
   ]
  },
  {
   "cell_type": "markdown",
   "metadata": {},
   "source": [
    "## Packages that will be used"
   ]
  },
  {
   "cell_type": "code",
   "execution_count": 1,
   "metadata": {},
   "outputs": [
    {
     "name": "stderr",
     "output_type": "stream",
     "text": [
      "WARNING: Method definition describe(AbstractArray) in module StatsBase at /home/febbo/.julia/v0.5/StatsBase/src/scalarstats.jl:573 overwritten in module DataFrames at /home/febbo/.julia/v0.5/DataFrames/src/abstractdataframe/abstractdataframe.jl:407.\n",
      "WARNING: using Plots.GR in module Main conflicts with an existing identifier.\n"
     ]
    }
   ],
   "source": [
    "using NLOptControl, PrettyPlots\n",
    "using Plots; pgfplots();           # this is optional, by default PrettyPlots uses gr() as a backend"
   ]
  },
  {
   "cell_type": "markdown",
   "metadata": {},
   "source": [
    "## Quick Example: Brachistochrone\n",
    "#### Solved by: John and Bernoulli, Newton and L'Hospital\n",
    "### Given:\n",
    "#### A particle sliding without friction along an unknown track in a gravitational feild\n",
    "#### Dynamic Constraints\n",
    "$$\\dot{x}_1(t)=x_3(t)sin(u_1(t))$$ \n",
    "$$\\dot{x}_2(t)=x_3(t)cos(u_1(t))$$\n",
    "$$\\dot{x}_3(t)=gcos(u_1(t))$$\n",
    "\n",
    "#### Boundary Conditions\n",
    "$${x}_1(0)=0 \\qquad {x}_1(t_f)=2$$\n",
    "$${x}_2(0)=0\\qquad {x}_2(t_f)=2$$\n",
    "$${x}_3(0)=0\\qquad {x}_3(t_f)=free$$\n",
    "### Find:\n",
    "#### The track that minimizes time\n",
    "$$J=t_f$$\n",
    "### Solution: "
   ]
  },
  {
   "cell_type": "markdown",
   "metadata": {},
   "source": [
    "Now we need to write all of the given information out. Let's start with the differential equation, that is written as an array of expressions:"
   ]
  },
  {
   "cell_type": "code",
   "execution_count": 2,
   "metadata": {},
   "outputs": [
    {
     "data": {
      "text/plain": [
       "3-element Array{Expr,1}:\n",
       " :(x3[j] * sin(u1[j]))\n",
       " :(x3[j] * cos(u1[j]))\n",
       " :(9.81 * cos(u1[j])) "
      ]
     },
     "execution_count": 2,
     "metadata": {},
     "output_type": "execute_result"
    }
   ],
   "source": [
    "de=[:(x3[j]*sin(u1[j])),:(x3[j]*cos(u1[j])),:(9.81*cos(u1[j]))]"
   ]
  },
  {
   "cell_type": "markdown",
   "metadata": {},
   "source": [
    "Next let's write down the boundary conditions into an array:"
   ]
  },
  {
   "cell_type": "code",
   "execution_count": 3,
   "metadata": {},
   "outputs": [
    {
     "data": {
      "text/plain": [
       "3-element Array{Float64,1}:\n",
       "   2.0\n",
       "   2.0\n",
       " NaN  "
      ]
     },
     "execution_count": 3,
     "metadata": {},
     "output_type": "execute_result"
    }
   ],
   "source": [
    "X0=[0.0,0.0,0.0]\n",
    "XF=[2.,2.,NaN]"
   ]
  },
  {
   "cell_type": "markdown",
   "metadata": {},
   "source": [
    "#### Notice:\n",
    "1. The numbers that where put into the expression are `Float64`; For now this is required!\n",
    "2. The `NaN` is put into the boundary constraint for the third state; If any of the state bounds are free then pass a `NaN`\n",
    "\n",
    "Now that we have the basic problem written down, we can call the `define()` function as:"
   ]
  },
  {
   "cell_type": "code",
   "execution_count": 5,
   "metadata": {},
   "outputs": [],
   "source": [
    "n=define!(de;numStates=3,numControls=1,X0=X0,XF=XF);"
   ]
  },
  {
   "cell_type": "markdown",
   "metadata": {
    "collapsed": true
   },
   "source": [
    "#### Basics\n",
    "Variable | Description\n",
    ":--- | :--- \n",
    "`n` | object that holds the entire optimal control problem \n",
    "`de` | array of differential equation expressions\n",
    "`numStates` | the number of states\n",
    "`numControls` | the number of controls\n",
    "`X0` | intial state constraint\n",
    "`XF` | final state constraint"
   ]
  },
  {
   "cell_type": "markdown",
   "metadata": {},
   "source": [
    "Now that the basic optimal control problem has been defined, the next step is to `configure!()` with additional options."
   ]
  },
  {
   "cell_type": "code",
   "execution_count": null,
   "metadata": {
    "collapsed": true
   },
   "outputs": [],
   "source": [
    "configure!(n;(:Nck=>[100]),(:finalTimeDV=>true));"
   ]
  },
  {
   "cell_type": "markdown",
   "metadata": {},
   "source": [
    "#### Settings:\n",
    "Key | Description\n",
    ":--- | :--- \n",
    "`:Nck` | array of that holds the number of points within each interval\n",
    "`:finalTimeDV` | bool to indicate if time is a design variable\n",
    "\n",
    "#### Notice:\n",
    "1. Final time is a design variable; we are trying to minimize it\n",
    "2. We defined this as a single interval problem with ``100`` points\n",
    "\n",
    "Finally, the objective function needs to be defined. For this, we use the ``JuMP`` macro ``@NLOptControl()`` directly as:"
   ]
  },
  {
   "cell_type": "code",
   "execution_count": null,
   "metadata": {
    "collapsed": true
   },
   "outputs": [],
   "source": [
    "@NLobjective(n.mdl,Min,n.tf);"
   ]
  },
  {
   "cell_type": "code",
   "execution_count": null,
   "metadata": {
    "collapsed": true
   },
   "outputs": [],
   "source": []
  },
  {
   "cell_type": "code",
   "execution_count": null,
   "metadata": {
    "collapsed": true
   },
   "outputs": [],
   "source": []
  },
  {
   "cell_type": "markdown",
   "metadata": {},
   "source": []
  },
  {
   "cell_type": "code",
   "execution_count": null,
   "metadata": {},
   "outputs": [],
   "source": []
  },
  {
   "cell_type": "code",
   "execution_count": null,
   "metadata": {},
   "outputs": [],
   "source": []
  },
  {
   "cell_type": "code",
   "execution_count": null,
   "metadata": {},
   "outputs": [],
   "source": []
  },
  {
   "cell_type": "markdown",
   "metadata": {},
   "source": [
    "# Moon Lander\n",
    "\n",
    "First setup the packages that will be used:\n",
    "<pre>\n",
    "```julia\n",
    "using NLOptControl\n",
    "```\n",
    "</pre>\n",
    "\n",
    "Where, the object `n` is the object for the entire optimal control problem including:\n",
    "|setting               | keys        | descriptions           |\n",
    "| -------------------- | ----------- | ---------------------- |\n",
    "|n.s.integrationMethod | :tm         | time marching          |\n",
    "                       | :ps         | pseudospectral methods |\n",
    "`n.s` for settings\n",
    "`n.r` for results\n",
    "`n.mpc` for mpc data\n",
    "\n",
    "Next define the basic differential equation used to model the system:\n",
    "<pre>\n",
    "```julia\n",
    "de=[:(x2[j]),:(u1[j]-1.625)]\n",
    "```\n",
    "</pre>\n",
    "Most of this code is boiler-plate and should be copied directly. The important things to note are that`u` is the control variable matrix and `x` is the state variable matrix. So, in the above example the only thing that the user needs to modify is the right hand side of the `dx[]` expressions. The indecies for the number of the state or control variable are in the columns. For instance, `x[:,2]` represents the entire vector for second state variable.\n",
    "\n",
    "NOTE: eventually most of this code will be pushed to a lower level.  \n",
    "\n",
    "Now that the dynamic constraint equations have been established, the next step is to define the problem:\n",
    "\n",
    "```julia\n",
    "n=define!(de;numStates=2,numControls=1,X0=[10.,-2],XF=[0.,0.],XL=[NaN,NaN],XU=[NaN,NaN],CL=[0.],CU=[3.]);\n",
    "nothing # hide\n",
    "```\n",
    "To do this the user passes `n`, and defines the `stateEquations` to be the dynamic constraint equations defined in `MoonLander()`.\n",
    "\n",
    "Basics:\n",
    "`numStates` = number of state variables\n",
    "`numControls` = number of control variables\n",
    "`X0` = intial sttae\n",
    "TODO-> mention XL etc.\n",
    "\n",
    "There are several different ways to ensure that the `stateEquations` are satisfied that are set using the key `:integrationScheme`. In this example the hp-Gaussian Quadrature Collocation Method is used with Radau Nodes. Finally, the final time may be either fixed and set before hand or it can be a variable. This option is set using the `:finalTimeDV` key and it is set to `true` in this example.\n",
    "```julia\n",
    "configure!(n,Ni=4,Nck=[10,10,10,10];(:integrationScheme=> :lgrExplicit),(:finalTimeDV=>true));\n",
    "nothing # hide\n",
    "```\n",
    "\n",
    "The next parts are optional.\n",
    "\n",
    "1)  Names and descriptions may be added to both the control and state variables as follows:\n",
    "```julia\n",
    "names=[:h,:v]; descriptions = [\"h(t)\",\"v(t)\"]; stateNames!(n,names,descriptions);\n",
    "nothing # hide\n",
    "```\n",
    "NOTE: The names will show up in the results data and the descriptions will show up in the graphs\n",
    "\n",
    "The object `r` stores all of the results as well as both the control and state variables. For instance `r.x[:,1]` should now be used to access the entire vector for the first state.\n",
    "\n",
    "For generality, `integrate!()` will also be demonstrated in this example. `integrate!()` is used to add terms to the cost function that need to be integrated. Currently there are several forms that these integrals can take (more can be added). In this example the first control variable `r.u[:,1]` and sets up this variable to be integrated over the entire time of the control problem with the following line of code:\n",
    "```julia\n",
    "obj=integrate!(n,n.r.u[:,1];C=1.0,(:variable=>:control),(:integrand=>:default));\n",
    "nothing # hide\n",
    "```\n",
    "Next the cost function can be defined as:\n",
    "```julia\n",
    "@NLobjective(n.mdl, Min, obj);\n",
    "nothing # hide\n",
    "```\n",
    "\n",
    "At this stage, the optimal control problem can be solved with:\n",
    "```julia\n",
    "optimize!(n);\n",
    "nothing # hide\n",
    "```\n",
    "\n",
    "Then, in order to quickly visualize the problem, functionality is also provided for automated visualization.\n",
    "\n",
    "## The next part is optional:\n",
    "The plot settings can be modified from the default using the following code:\n",
    "```julia\n",
    "using PrettyPlots, Plots; pgfplots()\n",
    "plotSettings(;(:mpc_lines =>[(4.0,:blue,:solid)]),(:size=>(700,700)));\n",
    "nothing # hide\n",
    "```\n",
    "\n",
    "Finally, in order to plot all of the states and controls call:\n",
    "```julia\n",
    "allPlots(n);\n",
    "```"
   ]
  },
  {
   "cell_type": "markdown",
   "metadata": {},
   "source": [
    "<pre>\n",
    "```julia\n",
    "println(\"Hello World\")\n",
    "```\n",
    "</pre>\n"
   ]
  },
  {
   "cell_type": "code",
   "execution_count": null,
   "metadata": {
    "collapsed": true
   },
   "outputs": [],
   "source": []
  }
 ],
 "metadata": {
  "kernelspec": {
   "display_name": "Julia 0.5.2",
   "language": "julia",
   "name": "julia-0.5"
  },
  "language_info": {
   "file_extension": ".jl",
   "mimetype": "application/julia",
   "name": "julia",
   "version": "0.5.2"
  }
 },
 "nbformat": 4,
 "nbformat_minor": 2
}
