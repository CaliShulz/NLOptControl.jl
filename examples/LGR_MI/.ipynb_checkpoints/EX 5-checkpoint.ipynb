{
 "cells": [
  {
   "cell_type": "markdown",
   "metadata": {},
   "source": [
    "Use and test functionality created in nlp2ocp_dev"
   ]
  },
  {
   "cell_type": "code",
   "execution_count": 1,
   "metadata": {
    "collapsed": true
   },
   "outputs": [],
   "source": [
    "using NLOptControl\n",
    "using Parameters\n",
    "using Plots\n",
    "using Polynomials"
   ]
  },
  {
   "cell_type": "code",
   "execution_count": 2,
   "metadata": {
    "collapsed": false
   },
   "outputs": [
    {
     "data": {
      "text/plain": [
       "100-element Array{Float64,1}:\n",
       "  3.0    \n",
       "  2.93939\n",
       "  2.87879\n",
       "  2.81818\n",
       "  2.75758\n",
       "  2.69697\n",
       "  2.63636\n",
       "  2.57576\n",
       "  2.51515\n",
       "  2.45455\n",
       "  2.39394\n",
       "  2.33333\n",
       "  2.27273\n",
       "  ⋮      \n",
       " -2.33333\n",
       " -2.39394\n",
       " -2.45455\n",
       " -2.51515\n",
       " -2.57576\n",
       " -2.63636\n",
       " -2.69697\n",
       " -2.75758\n",
       " -2.81818\n",
       " -2.87879\n",
       " -2.93939\n",
       " -3.0    "
      ]
     },
     "execution_count": 2,
     "metadata": {},
     "output_type": "execute_result"
    }
   ],
   "source": [
    "############\n",
    "# TEST DATA\n",
    "############\n",
    "t0 = Float64(0); tf = Float64(10);\n",
    "t = Array(linspace(t0,tf,100));\n",
    "α₁ =  -0.3; α₂ = 3; α₃ = -8; α₄ =  7;\n",
    "\n",
    "γ = Poly([α₁,α₂,α₁]); #TODO check on that imported binding warning\n",
    "y = polyval(γ,t);\n",
    "\n",
    "# evaluate the integral\n",
    "∫γ = polyint(γ);\n",
    "Y = polyval(∫γ,t[end]) - polyval(∫γ,t[1]);\n",
    "C = Y - polyval(∫γ,t[end]); # constant of integration\n",
    "∫y = polyval(∫γ,t) + C;\n",
    "\n",
    "# evaluate the derivative\n",
    "dγ = polyder(γ);\n",
    "dy = polyval(dγ,t);\n",
    "############\n",
    "# TEST DATA\n",
    "############"
   ]
  },
  {
   "cell_type": "code",
   "execution_count": 3,
   "metadata": {
    "collapsed": false
   },
   "outputs": [
    {
     "data": {
      "text/html": [
       "10.0"
      ],
      "text/plain": [
       "10.0"
      ]
     },
     "execution_count": 3,
     "metadata": {},
     "output_type": "execute_result"
    }
   ],
   "source": [
    "ps, nlp = initialize_NLP(numStates=2,numControls=2,Ni=2,Nck=[3, 3]);\n",
    "@pack ps = t0, tf;  # given in problem def."
   ]
  },
  {
   "cell_type": "code",
   "execution_count": 4,
   "metadata": {
    "collapsed": false
   },
   "outputs": [],
   "source": [
    "@unpack Nck, Ni, t0, tf, τ, ω = ps;\n",
    "di, tm, ts, ωₛ = create_intervals(t0,tf,Ni,Nck,τ,ω);\n",
    "@pack ps = τ, ω, ωₛ, ts;\n"
   ]
  },
  {
   "cell_type": "code",
   "execution_count": 5,
   "metadata": {
    "collapsed": false
   },
   "outputs": [],
   "source": [
    "generate_Fake_data(nlp,ps,γ);"
   ]
  },
  {
   "cell_type": "code",
   "execution_count": 6,
   "metadata": {
    "collapsed": false
   },
   "outputs": [],
   "source": [
    "nlp2ocp(nlp,ps);\n"
   ]
  },
  {
   "cell_type": "code",
   "execution_count": 7,
   "metadata": {
    "collapsed": false
   },
   "outputs": [
    {
     "name": "stdout",
     "output_type": "stream",
     "text": [
      "Using default Gaussian quaratureUsing default Gaussian quaratureUsing default Gaussian quaratureUsing default Gaussian quarature"
     ]
    }
   ],
   "source": [
    "ζ, approx_int_st = integrate_state(ps,nlp)"
   ]
  },
  {
   "cell_type": "code",
   "execution_count": 8,
   "metadata": {
    "collapsed": false
   },
   "outputs": [
    {
     "name": "stdout",
     "output_type": "stream",
     "text": [
      "Using the Legendre-Gauss-Radau integration matrix (LGRIM)Using the Legendre-Gauss-Radau integration matrix (LGRIM)Using the Legendre-Gauss-Radau integration matrix (LGRIM)Using the Legendre-Gauss-Radau integration matrix (LGRIM)"
     ]
    },
    {
     "data": {
      "text/plain": [
       "(Array{Float64,2}[\n",
       "[0.0 0.0 0.0; 0.0 0.0 0.0],\n",
       "\n",
       "[0.0 0.0 0.0; 0.0 0.0 0.0]],\n",
       "[0.0; 0.0])"
      ]
     },
     "execution_count": 8,
     "metadata": {},
     "output_type": "execute_result"
    }
   ],
   "source": [
    "ζ, approx_int_st = integrate_state(ps,nlp;(:mode=>:LGRIM))"
   ]
  },
  {
   "cell_type": "markdown",
   "metadata": {},
   "source": [
    "Make sure that you calculate the IMatrix before you try and use it!"
   ]
  },
  {
   "cell_type": "code",
   "execution_count": 9,
   "metadata": {
    "collapsed": false
   },
   "outputs": [
    {
     "ename": "LoadError",
     "evalue": "type Tuple is immutable",
     "output_type": "error",
     "traceback": [
      "type Tuple is immutable",
      "",
      " in macro expansion at /home/febbo/.julia/v0.5/Parameters/src/Parameters.jl:541 [inlined]",
      " in LGR_matrices(::NLOptControl.PS_data, ::NLOptControl.NLP_data) at /home/febbo/.julia/v0.5/NLOptControl/src/LGR.jl:22"
     ]
    }
   ],
   "source": [
    "LGR_matrices(ps,nlp)"
   ]
  },
  {
   "cell_type": "code",
   "execution_count": 10,
   "metadata": {
    "collapsed": false
   },
   "outputs": [
    {
     "data": {
      "text/plain": [
       "NLOptControl.PS_data\n",
       "  Nck: [3,3]\n",
       "  Ni: 2\n",
       "  τ: Array{Float64,1}[[-1.0,-0.289898,0.689898],[-1.0,-0.289898,0.689898]]\n",
       "  ts: Array{Float64,1}[[0.0,1.77526,4.22474,5.0],[5.0,6.77526,9.22474,10.0]]\n",
       "  ω: Array{Float64,1}[[0.222222,1.02497,0.752806],[0.222222,1.02497,0.752806]]\n",
       "  ωₛ: Array{Float64,1}[[0.555556,2.56243,1.88202],[0.555556,2.56243,1.88202]]\n",
       "  t0: 0.0\n",
       "  tf: 10.0\n",
       "  DMatrix: Array{Float64,2}[\n",
       "[-1.0 1.50639 -1.10639 0.6; -0.210639 -0.155051 0.713568 -0.347878; 0.0506395 -0.233568 -0.644949 0.827878],\n",
       "\n",
       "[-1.0 1.50639 -1.10639 0.6; -0.210639 -0.155051 0.713568 -0.347878; 0.0506395 -0.233568 -0.644949 0.827878]]\n",
       "  IMatrix: Array{Float64,2}[\n",
       "[0.763299 1.10206 -0.0901063; 0.436701 2.89011 0.897938; 0.555556 2.56243 1.88202],\n",
       "\n",
       "[0.763299 1.10206 -0.0901063; 0.436701 2.89011 0.897938; 0.555556 2.56243 1.88202]]\n",
       "  stateMatrix: Array{Float64,2}[\n",
       "[-0.3 0.0; 4.08031 0.0; 7.01969 0.0; 7.2 0.0],\n",
       "\n",
       "[7.2 0.0; 6.25454 0.0; 1.84546 0.0; -0.3 0.0]]\n",
       "  controlMatrix: Array{Float64,2}[\n",
       "[0.0 0.0; 0.0 0.0; 0.0 0.0],\n",
       "\n",
       "[0.0 0.0; 0.0 0.0; 0.0 0.0]]"
      ]
     },
     "execution_count": 10,
     "metadata": {},
     "output_type": "execute_result"
    }
   ],
   "source": [
    "ps"
   ]
  },
  {
   "cell_type": "code",
   "execution_count": 11,
   "metadata": {
    "collapsed": false
   },
   "outputs": [
    {
     "name": "stdout",
     "output_type": "stream",
     "text": [
      "Using the Legendre-Gauss-Radau integration matrix (LGRIM)Using the Legendre-Gauss-Radau integration matrix (LGRIM)Using the Legendre-Gauss-Radau integration matrix (LGRIM)Using the Legendre-Gauss-Radau integration matrix (LGRIM)"
     ]
    }
   ],
   "source": [
    "ζ, approx_int_st = integrate_state(ps,nlp;(:mode=>:LGRIM))"
   ]
  },
  {
   "cell_type": "code",
   "execution_count": 12,
   "metadata": {
    "collapsed": false
   },
   "outputs": [
    {
     "ename": "LoadError",
     "evalue": "syntax: extra token \"FINAL\" after end of expression",
     "output_type": "error",
     "traceback": [
      "syntax: extra token \"FINAL\" after end of expression",
      ""
     ]
    }
   ],
   "source": [
    "SAME FINAL RESULT AS OTHER ONE! --> there are differences in intermediate values though"
   ]
  },
  {
   "cell_type": "code",
   "execution_count": 13,
   "metadata": {
    "collapsed": false
   },
   "outputs": [
    {
     "data": {
      "text/plain": [
       "2-element Array{Array{Float64,2},1}:\n",
       " [3.0 1.93485 0.465153; 0.0 0.0 0.0]          \n",
       " [-2.22045e-15 -1.06515 -2.53485; 0.0 0.0 0.0]"
      ]
     },
     "execution_count": 13,
     "metadata": {},
     "output_type": "execute_result"
    }
   ],
   "source": [
    "dζ = differentiate_state(ps,nlp)"
   ]
  },
  {
   "cell_type": "code",
   "execution_count": 15,
   "metadata": {
    "collapsed": false
   },
   "outputs": [
    {
     "ename": "LoadError",
     "evalue": "In convertToAnyVector, could not handle the argument types: (String,)",
     "output_type": "error",
     "traceback": [
      "In convertToAnyVector, could not handle the argument types: (String,)",
      "",
      " in macro expansion at /home/febbo/.julia/v0.5/Plots/src/series.jl:130 [inlined]",
      " in apply_recipe(::Dict{Symbol,Any}, ::Type{Plots.SliceIt}, ::Array{Float64,1}, ::Array{Float64,1}, ::String) at /home/febbo/.julia/v0.5/RecipesBase/src/RecipesBase.jl:238",
      " in _process_userrecipes(::Plots.Plot{Plots.PyPlotBackend}, ::Dict{Symbol,Any}, ::Tuple{Array{Float64,1},Array{Float64,1},String}) at /home/febbo/.julia/v0.5/Plots/src/pipeline.jl:73",
      " in _plot!(::Plots.Plot{Plots.PyPlotBackend}, ::Dict{Symbol,Any}, ::Tuple{Array{Float64,1},Array{Float64,1},String}) at /home/febbo/.julia/v0.5/Plots/src/plot.jl:171",
      " in #plot#258(::Array{Any,1}, ::Function, ::Array{Float64,1}, ::Vararg{Any,N}) at /home/febbo/.julia/v0.5/Plots/src/plot.jl:52",
      " in plot(::Array{Float64,1}, ::Array{Float64,1}, ::Vararg{Any,N}) at /home/febbo/.julia/v0.5/Plots/src/plot.jl:46"
     ]
    }
   ],
   "source": [
    "plot(t,dy,label=\"actual derivative\")\n",
    "p = plot(ts,ζ, linecolor=RGB(1,1,1), background_color=RGB(0,0,0),label=\"approx. derivative\")\n",
    "plot!(p, axiscolor=RGB(1,0,0))\n",
    "title!(p, \"Derivatives\", titlecolor=RGB(0,1,0))"
   ]
  },
  {
   "cell_type": "code",
   "execution_count": null,
   "metadata": {
    "collapsed": true
   },
   "outputs": [],
   "source": []
  }
 ],
 "metadata": {
  "anaconda-cloud": {},
  "kernelspec": {
   "display_name": "Julia 0.5.0",
   "language": "julia",
   "name": "julia-0.5"
  },
  "language_info": {
   "file_extension": ".jl",
   "mimetype": "application/julia",
   "name": "julia",
   "version": "0.5.0"
  }
 },
 "nbformat": 4,
 "nbformat_minor": 1
}
