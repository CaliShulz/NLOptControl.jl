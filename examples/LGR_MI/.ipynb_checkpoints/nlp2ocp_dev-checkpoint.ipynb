{
 "cells": [
  {
   "cell_type": "markdown",
   "metadata": {},
   "source": [
    "initialize_NLP() was modified from dev version to allow for kwargs..."
   ]
  },
  {
   "cell_type": "code",
   "execution_count": 1,
   "metadata": {
    "collapsed": false
   },
   "outputs": [
    {
     "name": "stdout",
     "output_type": "stream",
     "text": [
      "NLOptControl.NLP_data\n",
      "  numStates: 2\n",
      "  numControls: 2\n",
      "  numStatePoints: [4,4]\n",
      "  numControlPoints: [3,3]\n",
      "  lengthStateVector: 16\n",
      "  lengthControlVector: 12\n",
      "  lengthDecVector: 30\n",
      "  timeStartIdx: 29\n",
      "  timeStopIdx: 30\n",
      "  stateIdx: Tuple{Int64,Int64}[(1,8),(9,16)]\n",
      "  controlIdx: Tuple{Int64,Int64}[(17,22),(23,28)]\n",
      "  stateIdx_all: Tuple{Int64,Int64}[(1,4),(5,8),(9,12),(13,16)]\n",
      "  controlIdx_all: Tuple{Int64,Int64}[(17,19),(20,22),(23,25),(26,28)]\n",
      "  stateIdx_st: Tuple{Int64,Int64}[(1,4),(9,12),(5,8),(13,16)]\n",
      "  controlIdx_ctr: Tuple{Int64,Int64}[(17,19),(23,25),(20,22),(26,28)]\n",
      "  decisionVector: [-0.3,4.08031,7.01969,7.2,0.0,0.0,0.0,0.0,7.2,6.25454,1.84546,-0.3,0.0,0.0,0.0,0.0,0.0,0.0,0.0,0.0,0.0,0.0,0.0,0.0,0.0,0.0,0.0,0.0,0.0,10.0]\n",
      "\n",
      "NLOptControl.PS_data\n",
      "  Nck: [3,3]\n",
      "  Ni: 2\n",
      "  τ: Array{Float64,1}[[-1.0,-0.289898,0.689898],[-1.0,-0.289898,0.689898]]\n",
      "  ts: Array{Float64,1}[[0.0,1.77526,4.22474,5.0],[5.0,6.77526,9.22474,10.0]]\n",
      "  ω: Array{Float64,1}[[0.222222,1.02497,0.752806],[0.222222,1.02497,0.752806]]\n",
      "  ωₛ: Array{Float64,1}[[0.555556,2.56243,1.88202],[0.555556,2.56243,1.88202]]\n",
      "  t0: 0.0\n",
      "  tf: 10.0\n",
      "  DMatrix: Array{Float64,2}[\n",
      "[0.0 0.0 0.0 0.0; 0.0 0.0 0.0 0.0; 0.0 0.0 0.0 0.0],\n",
      "\n",
      "[0.0 0.0 0.0 0.0; 0.0 0.0 0.0 0.0; 0.0 0.0 0.0 0.0]]\n",
      "  IMatrix: Array{Float64,2}[\n",
      "[0.0 0.0 0.0; 0.0 0.0 0.0; 0.0 0.0 0.0],\n",
      "\n",
      "[0.0 0.0 0.0; 0.0 0.0 0.0; 0.0 0.0 0.0]]\n",
      "  stateMatrix: Array{Float64,2}[\n",
      "[-0.3 0.0; 4.08031 0.0; 7.01969 0.0; 7.2 0.0],\n",
      "\n",
      "[7.2 0.0; 6.25454 0.0; 1.84546 0.0; -0.3 0.0]]\n",
      "  controlMatrix: Array{Float64,2}[\n",
      "[0.0 0.0; 0.0 0.0; 0.0 0.0],\n",
      "\n",
      "[0.0 0.0; 0.0 0.0; 0.0 0.0]]"
     ]
    }
   ],
   "source": [
    "using NLOptControl\n",
    "using Plots\n",
    "using Polynomials\n",
    "using FastGaussQuadrature\n",
    "using Parameters\n",
    "\n",
    "# initialize basic problem definition\n",
    "ps, nlp = initialize_NLP(numStates=2,numControls=2,Ni=2,Nck=[3, 3]);\n",
    "\n",
    "####################################\n",
    "# perform analytical calcualtions -> for plots\n",
    "####################################\n",
    "@unpack t0, tf = ps\n",
    "t0 = Float64(0); tf = Float64(10);\n",
    "@pack ps = t0, tf\n",
    "t = Array(linspace(t0,tf,100));\n",
    "α₁ =  -0.3; α₂ = 3; α₃ = -8; α₄ =  7;\n",
    "\n",
    "γ = Poly([α₁,α₂,α₁]); #TODO check on that imported binding warning\n",
    "y = polyval(γ,t);\n",
    "\n",
    "# evaluate the integral\n",
    "∫γ = polyint(γ);\n",
    "Y = polyval(∫γ,t[end]) - polyval(∫γ,t[1]);\n",
    "C = Y - polyval(∫γ,t[end]); # constant of integration\n",
    "∫y = polyval(∫γ,t) + C;\n",
    "\n",
    "# evaluate the derivative\n",
    "dγ = polyder(γ);\n",
    "dy = polyval(dγ,t);\n",
    "\n",
    "##TEMP## -->to get fake optimization data\n",
    "@unpack Nck, Ni, t0, tf = ps\n",
    "taus_and_weights = [gaussradau(Nck[int]) for int in 1:Ni];\n",
    "τ = [taus_and_weights[int][1] for int in 1:Ni];\n",
    "ω = [taus_and_weights[int][2] for int in 1:Ni];\n",
    "di, tm, ts, ωₛ = create_intervals(t0,tf,Ni,Nck,τ,ω);\n",
    "@pack ps = τ, ω, ωₛ, ts\n",
    "@unpack decisionVector, lengthControlVector, lengthStateVector, numStates, stateIdx = nlp\n",
    "fake_control_data = zeros(lengthControlVector,);\n",
    "\n",
    "if length(fake_control_data)!=lengthControlVector\n",
    "  error(string(\"\\n\",\n",
    "                \"-------------------------------------\", \"\\n\",\n",
    "                \"There is an error with the indecies!!\", \"\\n\",\n",
    "                \"-------------------------------------\", \"\\n\",\n",
    "                \"The following variables should be equal:\", \"\\n\",\n",
    "                \"length(fake_control_data) = \",length(fake_control_data),\"\\n\",\n",
    "                \"lengthControlVector = \",lengthControlVector,\"\\n\"\n",
    "                )\n",
    "        )\n",
    "end\n",
    "\n",
    "# each row contains all of the data for an interval\n",
    "fake_state = [[polyval(γ,ts[int]); zeros(Float64,length(ts[int]),)] for int in 1:Ni ];\n",
    "fake_state_data = zeros(lengthStateVector,);\n",
    "for int in 1:Ni # turn into vector\n",
    "  fake_state_data[stateIdx[int][1]:stateIdx[int][2]] = fake_state[int];\n",
    "end\n",
    "\n",
    "if length(fake_state_data)!=lengthStateVector\n",
    "  error(string(\"\\n\",\n",
    "                \"-------------------------------------\", \"\\n\",\n",
    "                \"There is an error with the indecies!!\", \"\\n\",\n",
    "                \"-------------------------------------\", \"\\n\",\n",
    "                \"The following variables should be equal:\", \"\\n\",\n",
    "                \"length(fake_state_data) = \",length(fake_state_data),\"\\n\",\n",
    "                \"lengthStateVector = \",lengthStateVector,\"\\n\"\n",
    "                )\n",
    "        )\n",
    "end\n",
    "decisionVector=[fake_state_data[:];fake_control_data;t0;tf]; # for now looking at no controls\n",
    "@pack  nlp = decisionVector\n",
    "\n",
    "##TEMP## -->to get fake optimization data\n",
    "\n",
    "function nlp2ocp(decisionVector::Array{Float64,1},nlp::NLP_data,ps::PS_data)\n",
    "    @unpack t0, tf, stateMatrix, controlMatrix, Ni = ps\n",
    "    @unpack stateIdx_all, controlIdx_all, timeStartIdx, timeStopIdx = nlp\n",
    "    @unpack numStates, numControls, lengthDecVector = nlp\n",
    "\n",
    "    if length(decisionVector)!=lengthDecVector\n",
    "      error(string(\"\\n\",\n",
    "                    \"-------------------------------------\", \"\\n\",\n",
    "                    \"There is an error with the indecies!!\", \"\\n\",\n",
    "                    \"-------------------------------------\", \"\\n\",\n",
    "                    \"The following variables should be equal:\", \"\\n\",\n",
    "                    \"length(decisionVector) = \",length(decisionVector),\"\\n\",\n",
    "                    \"lengthDecVector = \",lengthDecVector,\"\\n\"\n",
    "                    )\n",
    "            )\n",
    "    end \n",
    "    # update parameters\n",
    "    t0 = decisionVector[timeStartIdx];\n",
    "    tf = decisionVector[timeStopIdx];\n",
    "\n",
    "    # the state matrix is sized according to eq. (40) in the GPOPS II article\n",
    "    # n is the total number of states -> the individual states are columns \n",
    "    # V[int]      = [X11               X21      ...      Xn1;\n",
    "    #                X12               X22      ...      Xn2;\n",
    "    #                .                  .                 .\n",
    "    #                .                  .                 .\n",
    "    #                .                  .                 .\n",
    "    #         X1_{Nck[int]+1}    X2_{Nck[int]+1}   Xn_{Nck[int]+1}                  \n",
    "          \n",
    "    stateMatrix = [zeros(Nck[int]+1, numStates) for int in 1:Ni];\n",
    "    idx = 1;\n",
    "    for int in 1:Ni\n",
    "        for st in 1:numStates\n",
    "            stateMatrix[int][:,st] = decisionVector[stateIdx_all[idx][1]:stateIdx_all[idx][2]]\n",
    "            idx+=1;\n",
    "        end\n",
    "    end\n",
    "    \n",
    "    controlMatrix = [zeros(Nck[int], numControls) for int in 1:Ni];\n",
    "    idx = 1;\n",
    "    for int in 1:Ni\n",
    "        for ctr in 1:numControls\n",
    "            controlMatrix[int][:,ctr] = decisionVector[controlIdx_all[idx][1]:controlIdx_all[idx][2]]\n",
    "            idx+=1;\n",
    "        end\n",
    "    end\n",
    "    \n",
    "    @pack ps = t0, tf, stateMatrix, controlMatrix\n",
    "end\n",
    "\n",
    "nlp2ocp(decisionVector,nlp,ps);\n",
    "\n",
    "@unpack_PS_data ps\n",
    "@unpack_NLP_data nlp\n",
    "print(nlp,\"\\n\",\"\\n\")\n",
    "print(ps)"
   ]
  },
  {
   "cell_type": "code",
   "execution_count": 2,
   "metadata": {
    "collapsed": false
   },
   "outputs": [
    {
     "name": "stdout",
     "output_type": "stream",
     "text": [
      "[-0.3 0.0; 4.08031 0.0; 7.01969 0.0; 7.2 0.0]\n",
      "[7.2 0.0; 6.25454 0.0; 1.84546 0.0; -0.3 0.0]\n",
      "Array{Array{Float64,2},1}\n"
     ]
    }
   ],
   "source": [
    "stateMatrix = [zeros(Nck[int]+1, numStates) for int in 1:Ni];\n",
    "idx = 1;\n",
    "for int in 1:Ni\n",
    "    for st in 1:numStates\n",
    "        stateMatrix[int][:,st] = decisionVector[stateIdx_all[idx][1]:stateIdx_all[idx][2]]\n",
    "        idx+=1;\n",
    "    end\n",
    "end\n",
    "\n",
    "print(stateMatrix[1],\"\\n\")\n",
    "print(stateMatrix[2],\"\\n\")\n",
    "print(typeof(stateMatrix),\"\\n\")"
   ]
  },
  {
   "cell_type": "code",
   "execution_count": 59,
   "metadata": {
    "collapsed": false
   },
   "outputs": [],
   "source": [
    "    taus_and_weights = [gaussradau(Nck[int]) for int in 1:Ni];\n",
    "    τ = [taus_and_weights[int][1] for int in 1:Ni];"
   ]
  },
  {
   "cell_type": "code",
   "execution_count": 61,
   "metadata": {
    "collapsed": false
   },
   "outputs": [
    {
     "data": {
      "text/plain": [
       "2-element Array{Array{Float64,1},1}:\n",
       " [-0.0,-0.0,0.0]\n",
       " [-0.0,-0.0,0.0]"
      ]
     },
     "execution_count": 61,
     "metadata": {},
     "output_type": "execute_result"
    }
   ],
   "source": [
    "0*τ "
   ]
  },
  {
   "cell_type": "code",
   "execution_count": 36,
   "metadata": {
    "collapsed": false
   },
   "outputs": [
    {
     "name": "stdout",
     "output_type": "stream",
     "text": [
      "[0.0 0.0; 0.0 0.0; 0.0 0.0]\n",
      "[0.0 0.0; 0.0 0.0; 0.0 0.0]\n",
      "Array{Array{Float64,2},1}\n"
     ]
    }
   ],
   "source": [
    "    controlMatrix = [zeros(Nck[int], numControls) for int in 1:Ni];\n",
    "    idx = 1;\n",
    "    for int in 1:Ni\n",
    "        for ctr in 1:numControls\n",
    "            controlMatrix[int][:,ctr] = decisionVector[controlIdx_all[idx][1]:controlIdx_all[idx][2]]\n",
    "            idx+=1;\n",
    "        end\n",
    "    end\n",
    "print(controlMatrix[1],\"\\n\")\n",
    "print(controlMatrix[2],\"\\n\")\n",
    "print(typeof(controlMatrix),\"\\n\")"
   ]
  },
  {
   "cell_type": "code",
   "execution_count": 19,
   "metadata": {
    "collapsed": false
   },
   "outputs": [
    {
     "name": "stdout",
     "output_type": "stream",
     "text": [
      "1\n",
      "1\n",
      "[0.555556,2.56243,1.88202]\n",
      "[-0.3,4.08031,7.01969]\n",
      "[-0.166667,10.2888,23.5]\n",
      "2\n",
      "1\n",
      "[0.555556,2.56243,1.88202]\n",
      "[7.2,6.25454,1.84546]\n",
      "[4.0,20.0268,23.5]\n",
      "1\n",
      "2\n",
      "[0.555556,2.56243,1.88202]\n",
      "[0.0,0.0,0.0]\n",
      "[0.0,0.0,0.0]\n",
      "2\n",
      "2\n",
      "[0.555556,2.56243,1.88202]\n",
      "[0.0,0.0,0.0]\n",
      "[0.0,0.0,0.0]\n"
     ]
    },
    {
     "data": {
      "text/plain": [
       "2×1 Array{Float64,2}:\n",
       " 47.0\n",
       "  0.0"
      ]
     },
     "execution_count": 19,
     "metadata": {},
     "output_type": "execute_result"
    }
   ],
   "source": [
    "@unpack stateIdx_st, controlIdx_ctr = nlp\n",
    "\n",
    "# approximate the integral\n",
    "#ζ = [zeros(Float64,Nck[int],) for int in 1:Ni]; approx_int = Float64(0); idx=1;\n",
    "ζ = [zeros(Float64, numStates, Nck[int],)for int in 1:Ni]; idx = 1;\n",
    "approx_int = zeros(Float64, numStates, Ni); \n",
    "for st in 1:numStates\n",
    "    for int in 1:Ni\n",
    "        print(int,\"\\n\")\n",
    "        print(st,\"\\n\")\n",
    "        print(ωₛ[int],\"\\n\")              \n",
    "        print(stateMatrix[int][1:end-1,st],\"\\n\")\n",
    "\n",
    "        #ζ[st,1:Nck[int],int] =  cumsum(ωₛ[int].*decisionVector[stateIdx_st[idx][1]:stateIdx_st[idx][2]-1],1) \n",
    "        ζ[int][st,1:Nck[int]] =  cumsum(ωₛ[int].*stateMatrix[int][1:end-1,st])\n",
    "\n",
    "        print(ζ[int][st,1:Nck[int]],\"\\n\")  \n",
    "        \n",
    "        approx_int[st,int] = ζ[int][st,end];\n",
    "        idx=idx+1;\n",
    "    end\n",
    "end\n",
    "approx_int_st = sum(approx_int,2)"
   ]
  },
  {
   "cell_type": "code",
   "execution_count": 18,
   "metadata": {
    "collapsed": false
   },
   "outputs": [
    {
     "data": {
      "text/plain": [
       "3-element Array{Float64,1}:\n",
       " 0.0\n",
       " 0.0\n",
       " 0.0"
      ]
     },
     "execution_count": 18,
     "metadata": {},
     "output_type": "execute_result"
    }
   ],
   "source": [
    "int=2;\n",
    "st=1\n",
    "ζ[int][st,1:Nck[int]]"
   ]
  },
  {
   "cell_type": "code",
   "execution_count": 257,
   "metadata": {
    "collapsed": false
   },
   "outputs": [
    {
     "name": "stderr",
     "output_type": "stream",
     "text": [
      "WARNING: Method definition integrate_state(NLOptControl.PS_data, NLOptControl.NLP_data) in module Main at In[112]:9 overwritten at In[257]:9.\n",
      "WARNING: Method definition #integrate_state(Array{Any, 1}, Main.#integrate_state, NLOptControl.PS_data, NLOptControl.NLP_data) in module Main overwritten.\n",
      "WARNING: replacing docs for 'integrate_state :: Tuple{NLOptControl.PS_data,NLOptControl.NLP_data}' in module 'Main'.\n"
     ]
    },
    {
     "data": {
      "text/plain": [
       "integrate_state"
      ]
     },
     "execution_count": 257,
     "metadata": {},
     "output_type": "execute_result"
    }
   ],
   "source": [
    "\"\"\"\n",
    "ζ, approx_int_st = integrate_state(ps,nlp;(:mode=>:LGRIM))\n",
    "ζ, approx_int_st = integrate_state(ps,nlp)\n",
    "\n",
    "--------------------------------------------------------------------------------------\\n\n",
    "Author: Huckleberry Febbo, Graduate Student, University of Michigan\n",
    "Date Create: 1/2/2017, Last Modified: 1/3/2017 \\n\n",
    "--------------------------------------------------------------------------\\n\n",
    "\"\"\"\n",
    "function integrate_state(ps::PS_data,nlp::NLP_data; kwargs...)\n",
    "    @unpack Nck, Ni, stateMatrix, ωₛ = ps\n",
    "    @unpack numStates = nlp\n",
    "\n",
    "    kw = Dict(kwargs);\n",
    "    # if there was nothing passed -> set default\n",
    "    if !haskey(kw,:mode); kw = Dict(:mode => :default) end\n",
    "    mode = get(kw, :mode, 0);\n",
    "    \n",
    "    ζ = [zeros(Float64, numStates, Nck[int],)for int in 1:Ni]; idx = 1;\n",
    "    approx_int = zeros(Float64, numStates, Ni); \n",
    "    for st in 1:numStates\n",
    "        for int in 1:Ni\n",
    "            if mode == :default\n",
    "                print(\"Using default Gaussian quarature\")\n",
    "                ζ[int][st,1:Nck[int]] =  cumsum(ωₛ[int].*stateMatrix[int][1:end-1,st]);\n",
    "            elseif mode == :LGRIM     # Legendre-Gauss-Radau integration matrix (LGRIM)\n",
    "                print(\"Using the Legendre-Gauss-Radau integration matrix (LGRIM)\")\n",
    "                ζ[int][st,1:Nck[int]] =  IMatrix[int]*stateMatrix[int][1:end-1,st];  \n",
    "            else \n",
    "                error(\"Pick a mode or leave argument blank and it will use Gaussian quadrature\")\n",
    "            end\n",
    "            approx_int[st,int] = ζ[int][st,end];\n",
    "            idx=idx+1;\n",
    "        end\n",
    "    end\n",
    "    approx_int_st = sum(approx_int,2); \n",
    "    return  ζ, approx_int_st\n",
    "end"
   ]
  },
  {
   "cell_type": "code",
   "execution_count": 259,
   "metadata": {
    "collapsed": false
   },
   "outputs": [
    {
     "name": "stdout",
     "output_type": "stream",
     "text": [
      "Using default Gaussian quaratureUsing default Gaussian quaratureUsing default Gaussian quaratureUsing default Gaussian quarature"
     ]
    },
    {
     "data": {
      "text/plain": [
       "(Array{Float64,2}[\n",
       "[-0.166667 10.2888 23.5; 0.0 0.0 0.0],\n",
       "\n",
       "[4.0 20.0268 23.5; 0.0 0.0 0.0]],\n",
       "[47.0; 0.0])"
      ]
     },
     "execution_count": 259,
     "metadata": {},
     "output_type": "execute_result"
    }
   ],
   "source": [
    "ζ, approx_int_st = integrate_state(ps,nlp)"
   ]
  },
  {
   "cell_type": "code",
   "execution_count": 113,
   "metadata": {
    "collapsed": false
   },
   "outputs": [
    {
     "name": "stdout",
     "output_type": "stream",
     "text": [
      "Array{Any,1}"
     ]
    },
    {
     "ename": "LoadError",
     "evalue": "ArgumentError: Dict(kv): kv needs to be an iterator of tuples or pairs",
     "output_type": "error",
     "traceback": [
      "ArgumentError: Dict(kv): kv needs to be an iterator of tuples or pairs",
      "",
      " in Dict{K,V}(::Array{Array{Any,1},1}) at ./dict.jl:388",
      " in #integrate_state#90(::Array{Any,1}, ::Function, ::NLOptControl.PS_data, ::NLOptControl.NLP_data) at ./In[112]:12",
      " in (::#kw##integrate_state)(::Array{Any,1}, ::#integrate_state, ::NLOptControl.PS_data, ::NLOptControl.NLP_data) at ./<missing>:0",
      " in anonymous at ./<missing>:?"
     ]
    }
   ],
   "source": [
    "kwargs = (:mode,:LGRIM)\n",
    "\n",
    "ζ, approx_int_st = integrate_state(ps,nlp;kwargs)"
   ]
  },
  {
   "cell_type": "code",
   "execution_count": 261,
   "metadata": {
    "collapsed": false
   },
   "outputs": [
    {
     "name": "stdout",
     "output_type": "stream",
     "text": [
      "Using the Legendre-Gauss-Radau integration matrix (LGRIM)Using the Legendre-Gauss-Radau integration matrix (LGRIM)Using the Legendre-Gauss-Radau integration matrix (LGRIM)Using the Legendre-Gauss-Radau integration matrix (LGRIM)"
     ]
    },
    {
     "data": {
      "text/plain": [
       "(Array{Float64,2}[\n",
       "[3.63524 17.9648 23.5; 0.0 0.0 0.0],\n",
       "\n",
       "[12.2224 22.8776 23.5; 0.0 0.0 0.0]],\n",
       "[47.0; 0.0])"
      ]
     },
     "execution_count": 261,
     "metadata": {},
     "output_type": "execute_result"
    }
   ],
   "source": [
    "ζ, approx_int_st = integrate_state(ps,nlp;(:mode=>:LGRIM))"
   ]
  },
  {
   "cell_type": "code",
   "execution_count": 74,
   "metadata": {
    "collapsed": false
   },
   "outputs": [
    {
     "name": "stdout",
     "output_type": "stream",
     "text": [
      "Using Default Gaussian QuaratureUsing Default Gaussian QuaratureUsing Default Gaussian QuaratureUsing Default Gaussian QuaratureUsing Default Gaussian Quarature"
     ]
    },
    {
     "data": {
      "text/plain": [
       "(Array{Float64,2}[\n",
       "[-0.166667 10.2888 23.5; 0.0 0.0 0.0],\n",
       "\n",
       "[4.0 20.0268 23.5; 0.0 0.0 0.0]],\n",
       "[47.0; 0.0])"
      ]
     },
     "execution_count": 74,
     "metadata": {},
     "output_type": "execute_result"
    }
   ],
   "source": [
    "ζ, approx_int_st = integrate_state(ps,nlp)"
   ]
  },
  {
   "cell_type": "code",
   "execution_count": null,
   "metadata": {
    "collapsed": false
   },
   "outputs": [],
   "source": []
  },
  {
   "cell_type": "code",
   "execution_count": 23,
   "metadata": {
    "collapsed": false
   },
   "outputs": [
    {
     "data": {
      "text/html": [
       "<img src=\"data:image/png;base64,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\" />"
      ]
     },
     "execution_count": 23,
     "metadata": {},
     "output_type": "execute_result"
    },
    {
     "name": "stderr",
     "output_type": "stream",
     "text": [
      "/home/febbo/.julia/v0.5/Conda/deps/usr/lib/python2.7/site-packages/matplotlib/font_manager.py:1288: UserWarning: findfont: Font family [u'Helvetica'] not found. Falling back to Bitstream Vera Sans\n",
      "  (prop.get_family(), self.defaultFamily[fontext]))\n"
     ]
    }
   ],
   "source": [
    "ip=plot(0,leg=:false)\n",
    "plot!(t,∫y,label=@sprintf(\"integral = %0.3f\",∫y[end]),w=6)\n",
    "for int in 1:Ni\n",
    "    for st in 1:numStates\n",
    "        plot!(ts[int][1:end-1],ζ[int][st,:],label=@sprintf(\"approx. integral = %0.3f\",approx_int_st[st]),line=(4,:dash))\n",
    "    end\n",
    "end\n",
    "xlims!(t0,tf*1.1) # have to put this on to show plot... here on screen!\n",
    "\n",
    "#gui()"
   ]
  },
  {
   "cell_type": "code",
   "execution_count": 48,
   "metadata": {
    "collapsed": false
   },
   "outputs": [],
   "source": [
    "# approximate the derivative --> needed in defect constraints\n",
    "D = [zeros((Nck[int]+1),(Nck[int]+1)) for int in 1:Ni]\n",
    "for int in 1:Ni\n",
    "    D[int] = poldif(ts[int], 1) # append +1 onto τ\n",
    "end\n",
    "DMatrix = [zeros((Nck[int]),(Nck[int]+1)) for int in 1:Ni];\n",
    "DM = [zeros((Nck[int]),(Nck[int])) for int in 1:Ni];\n",
    "IMatrix = DM;\n",
    "for int in 1:Ni\n",
    "    DMatrix[int] = D[int][1:end-1,:];   # turn into a [Nck]X[Nck+1] sized matrix\n",
    "    DM[int] = D[int][1:end-1,2:end]; # turn into a [Nck]X[Nck] sized matrix \n",
    "    IMatrix[int] = inv(DM[int]);        # integration matrix  I = inv[D_{2:N_k+1}]\n",
    "end\n",
    "#TODO add matrices bACK TO PARAMETERS"
   ]
  },
  {
   "cell_type": "code",
   "execution_count": 31,
   "metadata": {
    "collapsed": false
   },
   "outputs": [
    {
     "name": "stderr",
     "output_type": "stream",
     "text": [
      "WARNING: Method definition LGR_matrices(NLOptControl.PS_data, NLOptControl.NLP_data) in module Main at In[28]:8 overwritten at In[31]:9.\n",
      "WARNING: replacing docs for 'LGR_matrices :: Tuple{NLOptControl.PS_data,NLOptControl.NLP_data}' in module 'Main'.\n"
     ]
    },
    {
     "data": {
      "text/plain": [
       "LGR_matrices"
      ]
     },
     "execution_count": 31,
     "metadata": {},
     "output_type": "execute_result"
    }
   ],
   "source": [
    "\"\"\"\n",
    "LGR_matrices(ps,nlp)\n",
    "--------------------------------------------------------------------------------------\\n\n",
    "Author: Huckleberry Febbo, Graduate Student, University of Michigan\n",
    "Date Create: 1/3/2017, Last Modified: 1/3/2017 \\n\n",
    "--------------------------------------------------------------------------\\n\n",
    "\"\"\"\n",
    "function LGR_matrices(ps::PS_data,nlp::NLP_data)\n",
    "    @unpack Nck, Ni, ts = ps\n",
    "    @unpack DMatrix, IMatrix = ps\n",
    "    D = [zeros((Nck[int]+1),(Nck[int]+1)) for int in 1:Ni];\n",
    "    for int in 1:Ni\n",
    "        D[int] = poldif(ts[int], 1) # +1 is already appended onto ts\n",
    "    end\n",
    "    \n",
    "    DM = [zeros((Nck[int]),(Nck[int])) for int in 1:Ni];\n",
    "    for int in 1:Ni\n",
    "        DMatrix[int] = D[int][1:end-1,:];   # [Nck]X[Nck+1]\n",
    "        DM[int] = D[int][1:end-1,2:end];    # [Nck]X[Nck] \n",
    "        IMatrix[int] = inv(DM[int]);        # I = inv[D_{2:N_k+1}]\n",
    "    end\n",
    "    @pack  DMatrix, IMatrix = ps\n",
    "end\n",
    "\n"
   ]
  },
  {
   "cell_type": "code",
   "execution_count": 37,
   "metadata": {
    "collapsed": false
   },
   "outputs": [],
   "source": [
    "@unpack DMatrix, IMatrix = ps;"
   ]
  },
  {
   "cell_type": "code",
   "execution_count": 35,
   "metadata": {
    "collapsed": false
   },
   "outputs": [
    {
     "data": {
      "text/plain": [
       "2-element Array{Array{Float64,2},1}:\n",
       " [-1.0 1.50639 -1.10639 0.6; -0.210639 -0.155051 0.713568 -0.347878; 0.0506395 -0.233568 -0.644949 0.827878]\n",
       " [-1.0 1.50639 -1.10639 0.6; -0.210639 -0.155051 0.713568 -0.347878; 0.0506395 -0.233568 -0.644949 0.827878]"
      ]
     },
     "execution_count": 35,
     "metadata": {},
     "output_type": "execute_result"
    }
   ],
   "source": [
    "DMatrix"
   ]
  },
  {
   "cell_type": "code",
   "execution_count": 36,
   "metadata": {
    "collapsed": false
   },
   "outputs": [
    {
     "data": {
      "text/plain": [
       "2-element Array{Array{Float64,2},1}:\n",
       " [0.763299 1.10206 -0.0901063; 0.436701 2.89011 0.897938; 0.555556 2.56243 1.88202]\n",
       " [0.763299 1.10206 -0.0901063; 0.436701 2.89011 0.897938; 0.555556 2.56243 1.88202]"
      ]
     },
     "execution_count": 36,
     "metadata": {},
     "output_type": "execute_result"
    }
   ],
   "source": [
    "IMatrix"
   ]
  },
  {
   "cell_type": "code",
   "execution_count": 33,
   "metadata": {
    "collapsed": false
   },
   "outputs": [
    {
     "ename": "LoadError",
     "evalue": "type Tuple is immutable",
     "output_type": "error",
     "traceback": [
      "type Tuple is immutable",
      "",
      " in macro expansion at /home/febbo/.julia/v0.5/Parameters/src/Parameters.jl:541 [inlined]",
      " in LGR_matrices(::NLOptControl.PS_data, ::NLOptControl.NLP_data) at ./In[31]:26"
     ]
    }
   ],
   "source": [
    "LGR_matrices(ps,nlp)"
   ]
  },
  {
   "cell_type": "code",
   "execution_count": 34,
   "metadata": {
    "collapsed": false
   },
   "outputs": [
    {
     "data": {
      "text/plain": [
       "NLOptControl.PS_data\n",
       "  Nck: [3,3]\n",
       "  Ni: 2\n",
       "  τ: Array{Float64,1}[[-1.0,-0.289898,0.689898],[-1.0,-0.289898,0.689898]]\n",
       "  ts: Array{Float64,1}[[0.0,1.77526,4.22474,5.0],[5.0,6.77526,9.22474,10.0]]\n",
       "  ω: Array{Float64,1}[[0.222222,1.02497,0.752806],[0.222222,1.02497,0.752806]]\n",
       "  ωₛ: Array{Float64,1}[[0.555556,2.56243,1.88202],[0.555556,2.56243,1.88202]]\n",
       "  t0: 0.0\n",
       "  tf: 10.0\n",
       "  DMatrix: Array{Float64,2}[\n",
       "[-1.0 1.50639 -1.10639 0.6; -0.210639 -0.155051 0.713568 -0.347878; 0.0506395 -0.233568 -0.644949 0.827878],\n",
       "\n",
       "[-1.0 1.50639 -1.10639 0.6; -0.210639 -0.155051 0.713568 -0.347878; 0.0506395 -0.233568 -0.644949 0.827878]]\n",
       "  IMatrix: Array{Float64,2}[\n",
       "[0.763299 1.10206 -0.0901063; 0.436701 2.89011 0.897938; 0.555556 2.56243 1.88202],\n",
       "\n",
       "[0.763299 1.10206 -0.0901063; 0.436701 2.89011 0.897938; 0.555556 2.56243 1.88202]]\n",
       "  stateMatrix: Array{Float64,2}[\n",
       "[-0.3 0.0; 4.08031 0.0; 7.01969 0.0; 7.2 0.0],\n",
       "\n",
       "[7.2 0.0; 6.25454 0.0; 1.84546 0.0; -0.3 0.0]]\n",
       "  controlMatrix: Array{Float64,2}[\n",
       "[0.0 0.0; 0.0 0.0; 0.0 0.0],\n",
       "\n",
       "[0.0 0.0; 0.0 0.0; 0.0 0.0]]"
      ]
     },
     "execution_count": 34,
     "metadata": {},
     "output_type": "execute_result"
    }
   ],
   "source": [
    "ps"
   ]
  },
  {
   "cell_type": "code",
   "execution_count": 49,
   "metadata": {
    "collapsed": false
   },
   "outputs": [
    {
     "data": {
      "text/plain": [
       "2×3×2 Array{Float64,3}:\n",
       "[:, :, 1] =\n",
       " 3.63524  17.9648  23.5\n",
       " 0.0       0.0      0.0\n",
       "\n",
       "[:, :, 2] =\n",
       " 12.2224  22.8776  23.5\n",
       "  0.0      0.0      0.0"
      ]
     },
     "execution_count": 49,
     "metadata": {},
     "output_type": "execute_result"
    }
   ],
   "source": [
    "# approximate the integral using IMatrix\n",
    "ζ = zeros(Float64, numStates, Nck[int], Ni); idx = 1;\n",
    "approx_int = zeros(Float64, numStates, Ni); \n",
    "for st in 1:numStates\n",
    "    for int in 1:Ni\n",
    "        ζ[st,1:Nck[int],int] =  IMatrix[int]*stateMatrix[int][1:end-1,st];  \n",
    "        approx_int[st,int] = ζ[st,end,int];\n",
    "        idx=idx+1;\n",
    "    end\n",
    "end\n",
    "approx_int_st = sum(approx_int,2)\n",
    "ζ"
   ]
  },
  {
   "cell_type": "code",
   "execution_count": null,
   "metadata": {
    "collapsed": true
   },
   "outputs": [],
   "source": [
    "\n"
   ]
  },
  {
   "cell_type": "markdown",
   "metadata": {},
   "source": []
  },
  {
   "cell_type": "code",
   "execution_count": 50,
   "metadata": {
    "collapsed": false
   },
   "outputs": [
    {
     "data": {
      "text/html": [
       "<img src=\"data:image/png;base64,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\" />"
      ]
     },
     "execution_count": 50,
     "metadata": {},
     "output_type": "execute_result"
    }
   ],
   "source": [
    "ip=plot(0,leg=:false)\n",
    "plot!(t,∫y,label=@sprintf(\"integral = %0.3f\",∫y[end]),w=6)\n",
    "for int in 1:Ni\n",
    "    for st in 1:numStates\n",
    "        plot!(ts[int][1:end-1],ζ[st,:,int],label=@sprintf(\"approx. integral = %0.3f\",approx_int_st[st]),line=(4,:dash))\n",
    "    end\n",
    "end\n",
    "xlims!(t0,tf*1.1) # have to put this on to show plot... here on screen!"
   ]
  },
  {
   "cell_type": "code",
   "execution_count": 51,
   "metadata": {
    "collapsed": false
   },
   "outputs": [],
   "source": [
    "# approximate the derivative --> needed in defect constraints\n",
    "dζ = zeros(Float64, numStates, Nck[int], Ni); idx = 1;\n",
    "for st in 1:numStates\n",
    "    for int in 1:Ni\n",
    "        dζ[st,1:Nck[int],int] = DMatrix[int]*stateMatrix[int][:,st];\n",
    "        idx=idx+1\n",
    "    end\n",
    "end"
   ]
  },
  {
   "cell_type": "code",
   "execution_count": null,
   "metadata": {
    "collapsed": true
   },
   "outputs": [],
   "source": [
    "\"\"\"\n",
    "dζ = differentiate_state(ps,nlp;(:mode=>:something...no modes yet!))\n",
    "dζ = differentiate_state(ps,nlp)\n",
    "\n",
    "--------------------------------------------------------------------------------------\\n\n",
    "Author: Huckleberry Febbo, Graduate Student, University of Michigan\n",
    "Date Create: 1/4/2017, Last Modified: 1/4/2017 \\n\n",
    "--------------------------------------------------------------------------\\n\n",
    "\"\"\"\n",
    "function differentiate_state(ps::PS_data,nlp::NLP_data; kwargs...)\n",
    "    @unpack Nck, Ni, stateMatrix, ωₛ, DMatrix = ps\n",
    "    @unpack numStates = nlp\n",
    "\n",
    "    kw = Dict(kwargs);\n",
    "    if !haskey(kw,:mode); kw = Dict(:mode => :default) end\n",
    "    mode = get(kw, :mode, 0);\n",
    "    dζ = zeros(Float64, numStates, Nck[int], Ni); idx = 1;\n",
    "    for st in 1:numStates\n",
    "        for int in 1:Ni\n",
    "            if mode == :default\n",
    "                dζ[st,1:Nck[int],int] = DMatrix[int]*stateMatrix[int][:,st];\n",
    "            else \n",
    "                error(\"Pick a mode or leave argument blank default\")\n",
    "            end\n",
    "            idx=idx+1;\n",
    "        end\n",
    "    end\n",
    "    return  dζ\n",
    "end"
   ]
  },
  {
   "cell_type": "code",
   "execution_count": 14,
   "metadata": {
    "collapsed": false
   },
   "outputs": [
    {
     "data": {
      "text/plain": [
       "3-element Array{Float64,1}:\n",
       " 3.0     \n",
       " 1.93485 \n",
       " 0.465153"
      ]
     },
     "execution_count": 14,
     "metadata": {},
     "output_type": "execute_result"
    }
   ],
   "source": [
    "int=1\n",
    "idx=1\n",
    "st = 1\n",
    "DMatrix[int]*decisionVector[stateIdx_st[idx][1]:stateIdx_st[idx][2]]"
   ]
  },
  {
   "cell_type": "code",
   "execution_count": 15,
   "metadata": {
    "collapsed": false
   },
   "outputs": [
    {
     "data": {
      "text/plain": [
       "2-element Array{Array{Float64,2},1}:\n",
       " [0.0 0.0; 0.0 0.0; 0.0 0.0; 0.0 0.0]\n",
       " [0.0 0.0; 0.0 0.0; 0.0 0.0; 0.0 0.0]"
      ]
     },
     "execution_count": 15,
     "metadata": {},
     "output_type": "execute_result"
    }
   ],
   "source": [
    "stateMatrix"
   ]
  },
  {
   "cell_type": "code",
   "execution_count": 16,
   "metadata": {
    "collapsed": false
   },
   "outputs": [
    {
     "data": {
      "text/plain": [
       "30-element Array{Float64,1}:\n",
       " -0.3    \n",
       "  4.08031\n",
       "  7.01969\n",
       "  7.2    \n",
       "  0.0    \n",
       "  0.0    \n",
       "  0.0    \n",
       "  0.0    \n",
       "  7.2    \n",
       "  6.25454\n",
       "  1.84546\n",
       " -0.3    \n",
       "  0.0    \n",
       "  ⋮      \n",
       "  0.0    \n",
       "  0.0    \n",
       "  0.0    \n",
       "  0.0    \n",
       "  0.0    \n",
       "  0.0    \n",
       "  0.0    \n",
       "  0.0    \n",
       "  0.0    \n",
       "  0.0    \n",
       "  0.0    \n",
       " 10.0    "
      ]
     },
     "execution_count": 16,
     "metadata": {},
     "output_type": "execute_result"
    }
   ],
   "source": [
    "decisionVector"
   ]
  },
  {
   "cell_type": "code",
   "execution_count": 17,
   "metadata": {
    "collapsed": false
   },
   "outputs": [
    {
     "ename": "LoadError",
     "evalue": "BoundsError",
     "output_type": "error",
     "traceback": [
      "BoundsError",
      "",
      " in getindex(::Float64, ::Int64) at ./number.jl:21",
      " in macro expansion; at ./In[17]:10 [inlined]",
      " in anonymous at ./<missing>:?"
     ]
    }
   ],
   "source": [
    "int=1\n",
    "idx=1\n",
    "st = 1\n",
    "i = 1\n",
    "j = 1\n",
    "constraint = zeros(Ni*sum(Nck)*sum(Nck+1)); idx=1;\n",
    "for int in 1:Ni\n",
    "    for i in 1:Nck[int]\n",
    "        for j in 1:Nck[int]+1\n",
    "            constraint[idx]=DMatrix[int][i][j]*decisionVector[stateIdx_st[idx][1]:stateIdx_st[idx][2]][j]\n",
    "            idx+=1;\n",
    "        end\n",
    "    end\n",
    "end"
   ]
  },
  {
   "cell_type": "code",
   "execution_count": 18,
   "metadata": {
    "collapsed": false
   },
   "outputs": [
    {
     "data": {
      "text/plain": [
       "2-element Array{Tuple{Int64,Int64},1}:\n",
       " (1,8) \n",
       " (9,16)"
      ]
     },
     "execution_count": 18,
     "metadata": {},
     "output_type": "execute_result"
    }
   ],
   "source": [
    "stateIdx"
   ]
  },
  {
   "cell_type": "code",
   "execution_count": 19,
   "metadata": {
    "collapsed": false
   },
   "outputs": [
    {
     "data": {
      "text/plain": [
       "3-element Array{Float64,1}:\n",
       " 3.0     \n",
       " 1.93485 \n",
       " 0.465153"
      ]
     },
     "execution_count": 19,
     "metadata": {},
     "output_type": "execute_result"
    }
   ],
   "source": [
    "idx=1\n",
    "int = 1\n",
    "DMatrix[int]*decisionVector[stateIdx_st[idx][1]:stateIdx_st[idx][2]]"
   ]
  },
  {
   "cell_type": "code",
   "execution_count": 20,
   "metadata": {
    "collapsed": false
   },
   "outputs": [
    {
     "data": {
      "text/plain": [
       "3-element Array{Float64,1}:\n",
       " -2.22045e-15\n",
       " -1.06515    \n",
       " -2.53485    "
      ]
     },
     "execution_count": 20,
     "metadata": {},
     "output_type": "execute_result"
    }
   ],
   "source": [
    "idx=2\n",
    "int = 2\n",
    "DMatrix[int]*decisionVector[stateIdx_st[idx][1]:stateIdx_st[idx][2]]"
   ]
  },
  {
   "cell_type": "code",
   "execution_count": null,
   "metadata": {
    "collapsed": false
   },
   "outputs": [],
   "source": []
  },
  {
   "cell_type": "code",
   "execution_count": 21,
   "metadata": {
    "collapsed": false
   },
   "outputs": [
    {
     "data": {
      "text/plain": [
       "4-element Array{Float64,1}:\n",
       " -0.3    \n",
       "  4.08031\n",
       "  7.01969\n",
       "  7.2    "
      ]
     },
     "execution_count": 21,
     "metadata": {},
     "output_type": "execute_result"
    }
   ],
   "source": [
    "idx=1\n",
    "decisionVector[stateIdx_st[idx][1]:stateIdx_st[idx][2]]"
   ]
  },
  {
   "cell_type": "code",
   "execution_count": 52,
   "metadata": {
    "collapsed": false
   },
   "outputs": [
    {
     "data": {
      "text/html": [
       "<img src=\"data:image/png;base64,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\" />"
      ]
     },
     "execution_count": 52,
     "metadata": {},
     "output_type": "execute_result"
    }
   ],
   "source": [
    "dp=plot(0,leg=:false)\n",
    "plot!(t,dy,label=\"derivative\",w=6)\n",
    "for st in 1:1\n",
    "    for int in 1:Ni\n",
    "        scatter!(ts[int][1:end-1],dζ[st,1:Nck[int],int],markersize =10,markershape = :rect,label=string(\"approximate derivative \",int))\n",
    "      #tF[int] = t_data[end,int];\n",
    "      #yF[int] = dζ[end,int];\n",
    "    end\n",
    "end\n",
    "#scatter!(tF,yF,markersize = 10,markershape = :star8,label=string(\"end points\"))\n",
    "xlims!(t0,tf*1.1)\n"
   ]
  },
  {
   "cell_type": "code",
   "execution_count": 23,
   "metadata": {
    "collapsed": false
   },
   "outputs": [
    {
     "ename": "LoadError",
     "evalue": "UndefVarError: dζ not defined",
     "output_type": "error",
     "traceback": [
      "UndefVarError: dζ not defined",
      ""
     ]
    }
   ],
   "source": [
    "dζ[int][1:Nck[int]]"
   ]
  },
  {
   "cell_type": "code",
   "execution_count": 24,
   "metadata": {
    "collapsed": false
   },
   "outputs": [
    {
     "ename": "LoadError",
     "evalue": "UndefVarError: dζ not defined",
     "output_type": "error",
     "traceback": [
      "UndefVarError: dζ not defined",
      ""
     ]
    }
   ],
   "source": [
    "dζ[1][1:Nck[1]]"
   ]
  },
  {
   "cell_type": "code",
   "execution_count": 25,
   "metadata": {
    "collapsed": false
   },
   "outputs": [
    {
     "ename": "LoadError",
     "evalue": "UndefVarError: dζ not defined",
     "output_type": "error",
     "traceback": [
      "UndefVarError: dζ not defined",
      ""
     ]
    }
   ],
   "source": [
    "dζ[1][1:Nck[2]]"
   ]
  },
  {
   "cell_type": "code",
   "execution_count": 26,
   "metadata": {
    "collapsed": false
   },
   "outputs": [
    {
     "data": {
      "text/plain": [
       "3×4 Array{Float64,2}:\n",
       " -1.0         1.50639   -1.10639    0.6     \n",
       " -0.210639   -0.155051   0.713568  -0.347878\n",
       "  0.0506395  -0.233568  -0.644949   0.827878"
      ]
     },
     "execution_count": 26,
     "metadata": {},
     "output_type": "execute_result"
    }
   ],
   "source": [
    "DMatrix[1]"
   ]
  },
  {
   "cell_type": "code",
   "execution_count": 27,
   "metadata": {
    "collapsed": false
   },
   "outputs": [
    {
     "data": {
      "text/plain": [
       "3×4 Array{Float64,2}:\n",
       " -1.0         1.50639   -1.10639    0.6     \n",
       " -0.210639   -0.155051   0.713568  -0.347878\n",
       "  0.0506395  -0.233568  -0.644949   0.827878"
      ]
     },
     "execution_count": 27,
     "metadata": {},
     "output_type": "execute_result"
    }
   ],
   "source": [
    "DMatrix[2]"
   ]
  },
  {
   "cell_type": "code",
   "execution_count": 28,
   "metadata": {
    "collapsed": false
   },
   "outputs": [
    {
     "data": {
      "text/plain": [
       "2-element Array{Array{Float64,1},1}:\n",
       " [-1.0,-0.289898,0.689898]\n",
       " [-1.0,-0.289898,0.689898]"
      ]
     },
     "execution_count": 28,
     "metadata": {},
     "output_type": "execute_result"
    }
   ],
   "source": [
    "τ"
   ]
  },
  {
   "cell_type": "code",
   "execution_count": 29,
   "metadata": {
    "collapsed": false
   },
   "outputs": [
    {
     "data": {
      "text/html": [
       "<img src=\"data:image/png;base64,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\" />"
      ]
     },
     "execution_count": 29,
     "metadata": {},
     "output_type": "execute_result"
    },
    {
     "name": "stderr",
     "output_type": "stream",
     "text": [
      "/home/febbo/.julia/v0.5/Conda/deps/usr/lib/python2.7/site-packages/matplotlib/font_manager.py:1288: UserWarning: findfont: Font family [u'Helvetica'] not found. Falling back to Bitstream Vera Sans\n",
      "  (prop.get_family(), self.defaultFamily[fontext]))\n"
     ]
    }
   ],
   "source": [
    "\n",
    "p = plot([1,2,2,4], linecolor=RGB(1,1,1), background_color=RGB(0,0,0))\n",
    "plot!(p, axiscolor=RGB(1,0,0))\n",
    "title!(p, \"Foo\", titlecolor=RGB(0,1,0))"
   ]
  },
  {
   "cell_type": "code",
   "execution_count": null,
   "metadata": {
    "collapsed": false
   },
   "outputs": [],
   "source": []
  },
  {
   "cell_type": "code",
   "execution_count": null,
   "metadata": {
    "collapsed": false
   },
   "outputs": [],
   "source": []
  },
  {
   "cell_type": "code",
   "execution_count": null,
   "metadata": {
    "collapsed": false
   },
   "outputs": [],
   "source": []
  },
  {
   "cell_type": "code",
   "execution_count": 30,
   "metadata": {
    "collapsed": false
   },
   "outputs": [
    {
     "ename": "LoadError",
     "evalue": "MethodError: Cannot `convert` an object of type Array{Float64,1} to an object of type Float64\nThis may have arisen from a call to the constructor Float64(...),\nsince type constructors fall back to convert methods.",
     "output_type": "error",
     "traceback": [
      "MethodError: Cannot `convert` an object of type Array{Float64,1} to an object of type Float64\nThis may have arisen from a call to the constructor Float64(...),\nsince type constructors fall back to convert methods.",
      "",
      " in setindex!(::Array{Float64,1}, ::Array{Float64,1}, ::Int64) at ./array.jl:415",
      " in macro expansion; at ./In[30]:9 [inlined]",
      " in anonymous at ./<missing>:?"
     ]
    }
   ],
   "source": [
    "#################\n",
    "# post processing\n",
    "#################\n",
    "tF = zeros(Float64,Ni); yF =  zeros(Float64,Ni);\n",
    "fp=plot(0,leg=:false);\n",
    "plot!(t,y,label=string(γ),w=6)\n",
    "for int in 1:Ni\n",
    "    # scatter!(ts[1:end-1,int],P[1:end-1,int],markersize =10,markershape = :rect,label=string(\"collocation points for mesh interval \",int))\n",
    "    tF[int] = ts[end,int];\n",
    "  #yF[int] = P[end,int];\n",
    "end\n",
    "scatter!(tF,yF,markersize = 10,markershape = :star8,label=string(\"end points\"))\n",
    "xlims!(t0,tf*1.1)\n",
    "\n",
    "dp=plot(0,leg=:false)\n",
    "plot!(t,dy,label=\"derivative\",w=6)\n",
    "for int in 1:Ni\n",
    "  scatter!(t_data[1:end-1,int],dζ[1:end-1,int],markersize =10,markershape = :rect,label=string(\"approximate derivative \",int))\n",
    "    tF[int] = ts[end,int];\n",
    "  yF[int] = dζ[end,int];\n",
    "end\n",
    "scatter!(tF,yF,markersize = 10,markershape = :star8,label=string(\"end points\"))\n",
    "xlims!(t0,tf*1.1)\n",
    "\n",
    "ip=plot(0,leg=:false)\n",
    "plot!(t,∫y,label=@sprintf(\"integral = %0.3f\",∫y[end]),w=6)\n",
    "plot!(ts,ζ,label=@sprintf(\"approx. integral = %0.3f\",approx_int),line=(4,:dash))\n",
    "\n",
    "plot(fp,ip,dp,layout=(3,1))"
   ]
  },
  {
   "cell_type": "code",
   "execution_count": 198,
   "metadata": {
    "collapsed": false
   },
   "outputs": [
    {
     "name": "stderr",
     "output_type": "stream",
     "text": [
      "WARNING: Method definition test(Any) in module Main at In[184]:3 overwritten at In[198]:3.\n",
      "WARNING: Method definition #test(Array{Any, 1}, Main.#test, Any) in module Main overwritten.\n"
     ]
    },
    {
     "data": {
      "text/plain": [
       "test (generic function with 1 method)"
      ]
     },
     "execution_count": 198,
     "metadata": {},
     "output_type": "execute_result"
    }
   ],
   "source": [
    "function test(A; kwargs...)\n",
    "    \n",
    "    kw = Dict(kwargs)\n",
    "    :mode ∈ keys(kw) ? mode = kw[:mode] : mode = Symbol[:default]\n",
    "    \n",
    "    if :default ∈ mode\n",
    "      return A\n",
    "    elseif :LGRIM ∈ mode\n",
    "     return 2*A\n",
    "    else \n",
    "      print(\"pick a mode\") \n",
    "    end\n",
    "end"
   ]
  },
  {
   "cell_type": "code",
   "execution_count": 199,
   "metadata": {
    "collapsed": false
   },
   "outputs": [
    {
     "ename": "LoadError",
     "evalue": "TypeError: anonymous: in typeassert, expected Symbol, got Pair{Symbol,Bool}",
     "output_type": "error",
     "traceback": [
      "TypeError: anonymous: in typeassert, expected Symbol, got Pair{Symbol,Bool}",
      "",
      " in anonymous at ./<missing>:?"
     ]
    }
   ],
   "source": [
    "kwargs = [:mode=>true,:LGRM=>:Banana]\n",
    "\n",
    "test(2;kwargs)"
   ]
  },
  {
   "cell_type": "code",
   "execution_count": 252,
   "metadata": {
    "collapsed": false
   },
   "outputs": [
    {
     "name": "stderr",
     "output_type": "stream",
     "text": [
      "WARNING: Method definition test(Any) in module Main at In[250]:4 overwritten at In[252]:4.\n",
      "WARNING: Method definition #test(Array{Any, 1}, Main.#test, Any) in module Main overwritten.\n"
     ]
    },
    {
     "data": {
      "text/plain": [
       "test (generic function with 1 method)"
      ]
     },
     "execution_count": 252,
     "metadata": {},
     "output_type": "execute_result"
    }
   ],
   "source": [
    "function test(A; kwargs...)\n",
    "    \n",
    "    kw = Dict(kwargs)\n",
    "    # if there was nothing passed -> set default\n",
    "    if !haskey(kw,:mode); kw = Dict(:mode => :default) end\n",
    "    mode = get(kw, :mode, 0);\n",
    "\n",
    "    if mode == :default\n",
    "      B = 10\n",
    "    elseif mode == :LGRM\n",
    "      B = A\n",
    "    else \n",
    "      print(\"pick a mode\",\"\\n\") \n",
    "    end\n",
    "    return B\n",
    "end"
   ]
  },
  {
   "cell_type": "code",
   "execution_count": 253,
   "metadata": {
    "collapsed": false
   },
   "outputs": [
    {
     "name": "stdout",
     "output_type": "stream",
     "text": [
      "10"
     ]
    }
   ],
   "source": [
    "B=test(2)\n",
    "print(B)"
   ]
  },
  {
   "cell_type": "code",
   "execution_count": 256,
   "metadata": {
    "collapsed": false
   },
   "outputs": [
    {
     "data": {
      "text/html": [
       "2"
      ],
      "text/plain": [
       "2"
      ]
     },
     "execution_count": 256,
     "metadata": {},
     "output_type": "execute_result"
    }
   ],
   "source": [
    " kwargs = [:mode=>:LGRM,:LGRM=>:Banana]\n",
    "\n",
    "test(2;(:mode=>:LGRM))\n"
   ]
  },
  {
   "cell_type": "code",
   "execution_count": 238,
   "metadata": {
    "collapsed": false
   },
   "outputs": [
    {
     "data": {
      "text/plain": [
       "Dict{Symbol,Any} with 1 entry:\n",
       "  :a => 1"
      ]
     },
     "execution_count": 238,
     "metadata": {},
     "output_type": "execute_result"
    }
   ],
   "source": [
    "Dict{Symbol,Any}(:a => 1)"
   ]
  },
  {
   "cell_type": "code",
   "execution_count": 195,
   "metadata": {
    "collapsed": false
   },
   "outputs": [
    {
     "name": "stdout",
     "output_type": "stream",
     "text": [
      "Dict(:mode=>true)\n"
     ]
    },
    {
     "data": {
      "text/html": [
       "true"
      ],
      "text/plain": [
       "true"
      ]
     },
     "execution_count": 195,
     "metadata": {},
     "output_type": "execute_result"
    }
   ],
   "source": [
    "kwargs = [:mode=>true]  #,:LGRM=>:Banana\n",
    "kw = Dict(kwargs);\n",
    "print(kw,\"\\n\")\n",
    "haskey(kw,:mode)"
   ]
  },
  {
   "cell_type": "code",
   "execution_count": 216,
   "metadata": {
    "collapsed": false
   },
   "outputs": [
    {
     "name": "stdout",
     "output_type": "stream",
     "text": [
      "Dict{Symbol,Any}(Pair{Symbol,Any}(:LGRM,:Banana),Pair{Symbol,Any}(:mode,true))\n"
     ]
    },
    {
     "data": {
      "text/html": [
       "true"
      ],
      "text/plain": [
       "true"
      ]
     },
     "execution_count": 216,
     "metadata": {},
     "output_type": "execute_result"
    }
   ],
   "source": [
    "kwargs = [:mode=>true,:LGRM=>:Banana]  #,:LGRM=>:Banana\n",
    "kw = Dict(kwargs); # remove brackets!\n",
    "print(kw,\"\\n\")\n",
    "haskey(kw,:LGRM)"
   ]
  },
  {
   "cell_type": "code",
   "execution_count": 217,
   "metadata": {
    "collapsed": false
   },
   "outputs": [
    {
     "data": {
      "text/plain": [
       "Dict{Symbol,Any} with 2 entries:\n",
       "  :LGRM => :Banana\n",
       "  :mode => true"
      ]
     },
     "execution_count": 217,
     "metadata": {},
     "output_type": "execute_result"
    }
   ],
   "source": [
    "kw"
   ]
  },
  {
   "cell_type": "code",
   "execution_count": 220,
   "metadata": {
    "collapsed": false
   },
   "outputs": [
    {
     "name": "stdout",
     "output_type": "stream",
     "text": [
      "weqr"
     ]
    }
   ],
   "source": [
    "if haskey(kw,:LGRM) print(\"weqr\") end"
   ]
  },
  {
   "cell_type": "code",
   "execution_count": 222,
   "metadata": {
    "collapsed": false
   },
   "outputs": [
    {
     "data": {
      "text/html": [
       "true"
      ],
      "text/plain": [
       "true"
      ]
     },
     "execution_count": 222,
     "metadata": {},
     "output_type": "execute_result"
    }
   ],
   "source": [
    "get(kw, :mode, 0)"
   ]
  },
  {
   "cell_type": "code",
   "execution_count": null,
   "metadata": {
    "collapsed": true
   },
   "outputs": [],
   "source": []
  }
 ],
 "metadata": {
  "anaconda-cloud": {},
  "kernelspec": {
   "display_name": "Julia 0.5.0",
   "language": "julia",
   "name": "julia-0.5"
  },
  "language_info": {
   "file_extension": ".jl",
   "mimetype": "application/julia",
   "name": "julia",
   "version": "0.5.0"
  }
 },
 "nbformat": 4,
 "nbformat_minor": 1
}
