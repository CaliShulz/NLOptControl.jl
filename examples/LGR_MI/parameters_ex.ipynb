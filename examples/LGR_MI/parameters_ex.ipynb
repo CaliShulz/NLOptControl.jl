{
 "cells": [
  {
   "cell_type": "markdown",
   "metadata": {},
   "source": [
    "initialize_NLP() was modified from dev version to allow for kwargs..."
   ]
  },
  {
   "cell_type": "code",
   "execution_count": 1,
   "metadata": {
    "collapsed": false
   },
   "outputs": [],
   "source": [
    "using NLOptControl\n",
    "using Plots\n",
    "using Polynomials\n",
    "using FastGaussQuadrature"
   ]
  },
  {
   "cell_type": "code",
   "execution_count": 2,
   "metadata": {
    "collapsed": false
   },
   "outputs": [],
   "source": [
    "# initialize basic problem definition\n",
    "ps, nlp = initialize_NLP(numStates=1,numControls=1,Nc=4,Ni=2);"
   ]
  },
  {
   "cell_type": "code",
   "execution_count": 3,
   "metadata": {
    "collapsed": false
   },
   "outputs": [
    {
     "data": {
      "text/plain": [
       "NLOptControl.NLP_data\n",
       "  numStates: 1\n",
       "  numStatePoints: 10\n",
       "  lengthStateVector: 10\n",
       "  numControls: 1\n",
       "  numControlPoints: 8\n",
       "  lengthControlVector: 8\n",
       "  lengthDecVector: 20\n",
       "  stateStartIdx: 1\n",
       "  stateStopIdx: 10\n",
       "  controlStartIdx: 11\n",
       "  controlStopIdx: 18\n",
       "  timeStartIdx: 19\n",
       "  timeStopIdx: 20\n",
       "  stateVector: [0.0,0.0,0.0,0.0,0.0,0.0,0.0,0.0,0.0,0.0]\n",
       "  controlVector: [0.0,0.0,0.0,0.0,0.0,0.0,0.0,0.0]\n",
       "  decisionVector: [0.0,0.0,0.0,0.0,0.0,0.0,0.0,0.0,0.0,0.0,0.0,0.0,0.0,0.0,0.0,0.0,0.0,0.0,0.0,0.0]"
      ]
     },
     "execution_count": 3,
     "metadata": {},
     "output_type": "execute_result"
    }
   ],
   "source": [
    "nlp"
   ]
  },
  {
   "cell_type": "code",
   "execution_count": 4,
   "metadata": {
    "collapsed": false
   },
   "outputs": [
    {
     "data": {
      "text/plain": [
       "NLOptControl.PS_data\n",
       "  Nc: 4\n",
       "  Ni: 2\n",
       "  τ: [-1.0,-0.575319,0.181066,0.822824]\n",
       "  ω: [0.125,0.657689,0.776387,0.440924]\n",
       "  t0: 0.0\n",
       "  tf: 0.0\n",
       "  stateMatrix: [0.0 0.0; 0.0 0.0; 0.0 0.0; 0.0 0.0; 0.0 0.0; 0.0 0.0; 0.0 0.0; 0.0 0.0; 0.0 0.0; 0.0 0.0]\n",
       "  controlMatrix: [0.0 0.0; 0.0 0.0; 0.0 0.0; 0.0 0.0; 0.0 0.0; 0.0 0.0; 0.0 0.0; 0.0 0.0]"
      ]
     },
     "execution_count": 4,
     "metadata": {},
     "output_type": "execute_result"
    }
   ],
   "source": [
    "ps"
   ]
  },
  {
   "cell_type": "code",
   "execution_count": 5,
   "metadata": {
    "collapsed": false
   },
   "outputs": [
    {
     "data": {
      "text/plain": [
       "8-element Array{Float64,1}:\n",
       " 0.0\n",
       " 0.0\n",
       " 0.0\n",
       " 0.0\n",
       " 0.0\n",
       " 0.0\n",
       " 0.0\n",
       " 0.0"
      ]
     },
     "execution_count": 5,
     "metadata": {},
     "output_type": "execute_result"
    }
   ],
   "source": [
    "# define problem\n",
    "α₁ =  -0.3; α₂ = 3; α₃ = -8; α₄ =  7;\n",
    "@unpack_PS_data ps;\n",
    "t0 = 0.0;\n",
    "tf = 10.0;\n",
    "@pack_PS_data ps;  \n",
    "t = Array(linspace(t0,tf,100));\n",
    "####################################\n",
    "# perform analytical calcualtions -> for plots\n",
    "####################################\n",
    "γ = Poly([α₁,α₂,α₁]); #TODO check on that imported binding warning\n",
    "y = polyval(γ,t);\n",
    "\n",
    "# evaluate the integral\n",
    "∫γ = polyint(γ);\n",
    "Y = polyval(∫γ,t[end]) - polyval(∫γ,t[1]);\n",
    "C = Y - polyval(∫γ,t[end]); # constant of integration\n",
    "∫y = polyval(∫γ,t) + C;\n",
    "\n",
    "# evaluate the derivative\n",
    "dγ = polyder(γ);\n",
    "dy = polyval(dγ,t);\n",
    "\n",
    "##TEMP## -->to get fake optimization data\n",
    "@unpack_NLP_data nlp;\n",
    "@unpack_PS_data ps;\n",
    "\n",
    "τ, ω = gaussradau(Nc); # number of collocation points per interval\n",
    "# break the problem up into multiple intervals\n",
    "di, tm, t_data, ωₛ = create_intervals(t0,tf,Ni,Nc,τ,ω); # TODO probably get ride of some of the output\n",
    "\n",
    "temp = zeros(Float64,1,Ni);\n",
    "for int in 1:Ni\n",
    "  temp[int] = di*int;\n",
    "end\n",
    "t_dataE = [t_data;temp];\n",
    "\n",
    "fake_state_data = polyval(γ,t_dataE[:]);\n",
    "fake_control_data = zeros(lengthControlVector,);\n",
    "##TEMP## -->to get fake optimization data"
   ]
  },
  {
   "cell_type": "code",
   "execution_count": 11,
   "metadata": {
    "collapsed": false
   },
   "outputs": [
    {
     "name": "stdout",
     "output_type": "stream",
     "text": [
      "NLOptControl.NLP_data\n",
      "  numStates: 1\n",
      "  numStatePoints: 10\n",
      "  lengthStateVector: 10\n",
      "  numControls: 1\n",
      "  numControlPoints: 8\n",
      "  lengthControlVector: 8\n",
      "  lengthDecVector: 20\n",
      "  stateStartIdx: 1\n",
      "  stateStopIdx: 10\n",
      "  controlStartIdx: 11\n",
      "  controlStopIdx: 18\n",
      "  timeStartIdx: 19\n",
      "  timeStopIdx: 20\n",
      "  stateVector: [-0.3,2.54694,5.94253,7.14114,7.2,7.2,6.86184,4.58453,0.969961,-0.3]\n",
      "  controlVector: [0.0,0.0,0.0,0.0,0.0,0.0,0.0,0.0]\n",
      "  decisionVector: [-0.3,2.54694,5.94253,7.14114,7.2,7.2,6.86184,4.58453,0.969961,-0.3,0.0,0.0,0.0,0.0,0.0,0.0,0.0,0.0,0.0,10.0]\n",
      "\n"
     ]
    },
    {
     "name": "stderr",
     "output_type": "stream",
     "text": [
      "WARNING: Method definition nlp2ocp(Array{Float64, 1}, NLOptControl.NLP_data, NLOptControl.PS_data) in module Main at In[9]:7 overwritten at In[11]:7.\n"
     ]
    }
   ],
   "source": [
    "# what is coming back is a large vector that has all states and controls --> extract this appropriately\n",
    "@unpack_NLP_data nlp\n",
    "decisionVector=[fake_state_data;fake_control_data;t0;tf]; # for now looking at no controls\n",
    "@pack_NLP_data nlp\n",
    "\n",
    "function nlp2ocp(decisionVector::Vector{Float64},nlp::NLP_data,ps::PS_data)\n",
    "    @unpack_PS_data ps\n",
    "    @unpack_NLP_data nlp  # @unpack_* macro will shadow input argument with the same name as a type-fieldname; see--> http://parametersjl.readthedocs.io/en/latest/manual/#parameters-manual\n",
    "\n",
    "    # update parameters \n",
    "    stateVector = decisionVector[stateStartIdx:stateStopIdx]; \n",
    "\n",
    "    controlVector = decisionVector[controlStartIdx:controlStopIdx];\n",
    "    t0 = decisionVector[timeStartIdx];\n",
    "    tf = decisionVector[timeStopIdx];\n",
    "    \n",
    "    # break up problem to evaluate constraints\n",
    "    for state in 1:numStates\n",
    "        for int in 1:Ni-1 # intervals\n",
    "            if int == 1\n",
    "                stateMatrix[:,int,state] = stateVector[state:state*numStatePoints];\n",
    "            else\n",
    "                stateMatrix[:,int,state] = stateVector[state*int*numStatePoints:(state*int+1)*numStatePoints];\n",
    "            end\n",
    "        end\n",
    "    end\n",
    "    for control in 1:numControls\n",
    "        for int in 1:Ni-1 # intervals\n",
    "            if int == 1 \n",
    "                controlMatrix[:,int,control] = controlVector[control:control*numControlPoints];\n",
    "            else\n",
    "                controlMatrix[:,int,control] = controlVector[control*int*numControlPoints:(control*int+1)*numControlPoints];\n",
    "            end\n",
    "        end\n",
    "    end\n",
    "\n",
    "    @pack_PS_data ps\n",
    "    @pack_NLP_data nlp\n",
    "    return nlp, ps\n",
    "end\n",
    "\n",
    "nlp, ps = nlp2ocp(decisionVector,nlp,ps);\n",
    "#@unpack_PS_data ps\n",
    "#@unpack_NLP_data nlp\n",
    "print(nlp,\"\\n\",\"\\n\")\n",
    "#print(ps)"
   ]
  },
  {
   "cell_type": "code",
   "execution_count": 12,
   "metadata": {
    "collapsed": false
   },
   "outputs": [
    {
     "data": {
      "text/plain": [
       "NLOptControl.NLP_data\n",
       "  numStates: 1\n",
       "  numStatePoints: 10\n",
       "  lengthStateVector: 10\n",
       "  numControls: 1\n",
       "  numControlPoints: 8\n",
       "  lengthControlVector: 8\n",
       "  lengthDecVector: 20\n",
       "  stateStartIdx: 1\n",
       "  stateStopIdx: 10\n",
       "  controlStartIdx: 11\n",
       "  controlStopIdx: 18\n",
       "  timeStartIdx: 19\n",
       "  timeStopIdx: 20\n",
       "  stateVector: [0.0,0.0,0.0,0.0,0.0,0.0,0.0,0.0,0.0,0.0]\n",
       "  controlVector: [0.0,0.0,0.0,0.0,0.0,0.0,0.0,0.0]\n",
       "  decisionVector: [-0.3,2.54694,5.94253,7.14114,7.2,7.2,6.86184,4.58453,0.969961,-0.3,0.0,0.0,0.0,0.0,0.0,0.0,0.0,0.0,0.0,10.0]"
      ]
     },
     "execution_count": 12,
     "metadata": {},
     "output_type": "execute_result"
    }
   ],
   "source": [
    "@pack_NLP_data nlp"
   ]
  },
  {
   "cell_type": "code",
   "execution_count": null,
   "metadata": {
    "collapsed": false
   },
   "outputs": [],
   "source": []
  },
  {
   "cell_type": "code",
   "execution_count": null,
   "metadata": {
    "collapsed": true
   },
   "outputs": [],
   "source": []
  }
 ],
 "metadata": {
  "kernelspec": {
   "display_name": "Julia 0.5.0",
   "language": "julia",
   "name": "julia-0.5"
  },
  "language_info": {
   "file_extension": ".jl",
   "mimetype": "application/julia",
   "name": "julia",
   "version": "0.5.0"
  }
 },
 "nbformat": 4,
 "nbformat_minor": 1
}
