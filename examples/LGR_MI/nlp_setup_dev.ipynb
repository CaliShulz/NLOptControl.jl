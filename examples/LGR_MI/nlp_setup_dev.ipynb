{
 "cells": [
  {
   "cell_type": "markdown",
   "metadata": {},
   "source": [
    "This example is actually identical to Example3 except we push some of the functionality into the Code.\n",
    "\n",
    "AND we start to develop code to organize and keep track of the NLP!!\n"
   ]
  },
  {
   "cell_type": "code",
   "execution_count": 1,
   "metadata": {
    "collapsed": false
   },
   "outputs": [
    {
     "data": {
      "text/plain": [
       "initialize_NLP2"
      ]
     },
     "execution_count": 1,
     "metadata": {},
     "output_type": "execute_result"
    }
   ],
   "source": [
    "using NLOptControl\n",
    "using Polynomials\n",
    "using Plots\n",
    "using FastGaussQuadrature\n",
    "using Parameters\n",
    "pyplot()\n",
    "\n",
    "\"\"\"\n",
    "ps, nlp = initialize_NLP(numStates=1,numControls=3);\n",
    "--------------------------------------------------------------------------------------\\n\n",
    "Author: Huckleberry Febbo, Graduate Student, University of Michigan\n",
    "Date Create: 1/1/2017, Last Modified: 1/2/2017 \\n\n",
    "Citations: \\n\n",
    "----------\\n\n",
    "Influenced by: S. Hughes.  steven.p.hughes@nasa.gov\n",
    "Source: DecisionVector.m [located here](https://sourceforge.net/p/gmat/git/ci/264a12acad195e6a2467cfdc68abdcee801f73fc/tree/prototype/OptimalControl/LowThrust/@DecisionVector/)\n",
    "--------------------------------------------------------------------------\\n\n",
    "\"\"\"\n",
    "\n",
    "# should only call this once\n",
    "function initialize_NLP2(args...;numStates::Int64=0,numControls::Int64=0,Ni::Int64=10,Nck::Array{Int64,1}=4*ones(Int64,Ni,), kwargs...)\n",
    "    # validate input\n",
    "    if length(Nck) != Ni\n",
    "        error(\"length(Nck) != Ni\");\n",
    "    end\n",
    "    for int in 1:Ni\n",
    "        if (Nck[int]<0)\n",
    "            error(\"Nck must be > 0\");\n",
    "        end\n",
    "    end\n",
    "    if  Ni <= 0\n",
    "        error(\"Ni must be > 0\");\n",
    "    end\n",
    "    if  numStates <= 0\n",
    "        error(\"numStates must be > 0\",\"\\n\",\n",
    "                \"default value = 0\",\"\\n\",\n",
    "              );\n",
    "    end\n",
    "    if  numControls <= 0\n",
    "        error(\"eventually numControls must be > 0\",\"\\n\",\n",
    "              \"default value = 0\",\"\\n\",\n",
    "              );\n",
    "    end\n",
    "\n",
    "    # initialize node data TODO -> eventually make different PS methods available\n",
    "\n",
    "    taus_and_weights = [gaussradau(Nck[int]) for int in 1:Ni];\n",
    "    τ = [taus_and_weights[int][1] for int in 1:Ni];\n",
    "    ω = [taus_and_weights[int][2] for int in 1:Ni];\n",
    "\n",
    "    # calculate general properties\n",
    "    numStatePoints = [(Nck[int]+1) for int in 1:Ni]; # number of states dvs (decisionVector) for each interval and each state\n",
    "    numControlPoints = [Nck[int] for int in 1:Ni];   # number of control dvs for each interval and each control\n",
    "\n",
    "    # calculate length of vectors\n",
    "    lengthStateVector = sum([numStatePoints[int]*numStates for int in 1:Ni]);\n",
    "    lengthControlVector = sum([numControlPoints[int]*numControls for int in 1:Ni]);\n",
    "    lengthDecVector = lengthStateVector + lengthControlVector + 2; # + 2 is for t0 and tf\n",
    "\n",
    "    if length(args) == 0\n",
    "        stateVector = zeros(lengthStateVector,);\n",
    "        controlVector = zeros(lengthControlVector,);\n",
    "        decisionVector = zeros(lengthDecVector,);\n",
    "        t0 = 0.0;\n",
    "        tf = 0.0;\n",
    "    else\n",
    "        # validate optional input\n",
    "        if  length(args[1]) != lengthStateVector\n",
    "            error(string(\"length of stateVector must be = \",lengthStateVector));\n",
    "        end\n",
    "        if  length(args[2]) != lengthControlVector\n",
    "            error(string(\"length of controlVector must be = \",lengthControlVector));\n",
    "        end\n",
    "        if  length(args[3]) != lengthDecVector\n",
    "            error(string(\"length of decisionVector must be = \",lengthDecVector));\n",
    "        end\n",
    "        if  length(args[4]) != 1\n",
    "            error(string(\"length of t0 must be = 1\"));\n",
    "        end\n",
    "        if  length(args[5]) != 1\n",
    "            error(string(\"length of tf must be = 1\"));\n",
    "        end\n",
    "        stateVector = args[1];\n",
    "        controlVector = args[2];\n",
    "        decisionVector = args[3];\n",
    "        t0 = args[4];\n",
    "        tf = args[5];\n",
    "    end\n",
    "\n",
    "    # determine indecies within overall decision vector of all variables (i.e. decisionVector)\n",
    "    stateStartIdx = 1;\n",
    "    stateMidddleIdx = cumsum\n",
    "    stateStopIdx = stateStartIdx + lengthStateVector -1; # -1 because we start on 1\n",
    "    controlStartIdx = stateStopIdx + 1;\n",
    "    controlMiddleIdx = cumsum\n",
    "    controlStopIdx = controlStartIdx + lengthControlVector -1; # -1 because we start on 1\n",
    "    timeStartIdx = controlStopIdx + 1;\n",
    "    timeStopIdx = timeStartIdx + 1;\n",
    "\n",
    "    if 1==2 #TODO eventually make print_level an option\n",
    "      print(string(\"lengthStateVector = \", lengthStateVector),\"\\n\")\n",
    "      print(string(\"lengthControlVector = \", lengthControlVector),\"\\n\")\n",
    "\n",
    "      print(string(\"stateStartIdx = \", stateStartIdx),\"\\n\")\n",
    "      print(string(\"stateStopIdx = \", stateStopIdx),\"\\n\")\n",
    "      print(string(\"controlStartIdx = \", controlStartIdx),\"\\n\")\n",
    "      print(string(\"controlStopIdx = \", controlStopIdx),\"\\n\")\n",
    "      print(string(\"timeStartIdx = \", timeStartIdx),\"\\n\")\n",
    "      print(string(\"timeStopIdx = \", timeStopIdx),\"\\n\")\n",
    "    end\n",
    "\n",
    "    # check indecies\n",
    "    if timeStopIdx != lengthDecVector\n",
    "      error(string(\"\\n\",\n",
    "                    \"-------------------------------------\", \"\\n\",\n",
    "                    \"There is an error with the indecies!!\", \"\\n\",\n",
    "                    \"-------------------------------------\", \"\\n\",\n",
    "                    \"The following variables should be equal:\", \"\\n\",\n",
    "                    \"timeStopIdx = \",timeStopIdx,\"\\n\",\n",
    "                    \"lengthDecVector = \",lengthDecVector,\"\\n\"\n",
    "                    )\n",
    "            )\n",
    "    end\n",
    "\n",
    "    # each row contains Xi in the stateMatrix where the size = Nck[int]XnumStates\n",
    "    stateMatrix=[zeros((Nck[int]+1),numStates) for int in 1:Ni];\n",
    "    controlMatrix=[zeros(Nck[int],numStates) for int in 1:Ni];\n",
    "    if true\n",
    "      print(string(\"typeof(Nck) = \",typeof(Nck),\"\\n\"))\n",
    "      print(string(\"typeof(Ni) = \",typeof(Ni),\"\\n\"))\n",
    "      print(string(\"typeof(τ) = \",typeof(τ),\"\\n\"))\n",
    "      print(string(\"typeof(ω) = \",typeof(ω),\"\\n\"))\n",
    "      print(string(\"typeof(t0) = \",typeof(t0),\"\\n\"))\n",
    "      print(string(\"typeof(tf) = \",typeof(tf),\"\\n\"))\n",
    "      print(string(\"typeof(stateMatrix) = \",typeof(stateMatrix),\"\\n\"))\n",
    "      print(string(\"typeof(controlMatrix) = \",typeof(controlMatrix),\"\\n\"))\n",
    "    end\n",
    "\n",
    "    # initialize problem data\n",
    "    ps = PS_data(Nck=Nck,\n",
    "                 Ni=Ni,\n",
    "                  τ=τ,\n",
    "                  ω=ω,\n",
    "                 t0=t0,\n",
    "                 tf=tf,\n",
    "        stateMatrix=stateMatrix,\n",
    "      controlMatrix=controlMatrix\n",
    "                );\n",
    "\n",
    "    nlp = NLP_data(numStates=numStates,\n",
    "                        numStatePoints=numStatePoints,\n",
    "                        numControls=numControls,\n",
    "                        numControlPoints=numControlPoints,\n",
    "                        lengthControlVector=lengthControlVector,\n",
    "                        lengthStateVector=lengthStateVector,\n",
    "                        lengthDecVector=lengthDecVector,\n",
    "                        stateStartIdx=stateStartIdx,\n",
    "                        stateStopIdx=stateStopIdx,\n",
    "                        controlStartIdx=controlStartIdx,\n",
    "                        controlStopIdx=controlStopIdx,\n",
    "                        timeStartIdx=timeStartIdx,\n",
    "                        timeStopIdx=timeStopIdx,\n",
    "                        stateVector=stateVector,\n",
    "                        controlVector=controlVector,\n",
    "                        decisionVector=decisionVector\n",
    "                   );\n",
    "\n",
    "    return ps, nlp\n",
    "end"
   ]
  },
  {
   "cell_type": "code",
   "execution_count": 2,
   "metadata": {
    "collapsed": false
   },
   "outputs": [
    {
     "name": "stdout",
     "output_type": "stream",
     "text": [
      "[5,5,5,5,5,5,5,5,5,5]typeof(Nck) = Array{Int64,1}\n",
      "typeof(Ni) = Int64\n",
      "typeof(τ) = Array{Array{Float64,1},1}\n",
      "typeof(ω) = Array{Array{Float64,1},1}\n",
      "typeof(t0) = Float64\n",
      "typeof(tf) = Float64\n",
      "typeof(stateMatrix) = Array{Array{Float64,2},1}\n",
      "typeof(controlMatrix) = Array{Array{Float64,2},1}\n",
      "NLOptControl.PS_data\n",
      "  Nck: [4,4,4,4,4,4,4,4,4,4]\n",
      "  Ni: 10\n",
      "  τ: Array{Float64,1}[[-1.0,-0.575319,0.181066,0.822824],[-1.0,-0.575319,0.181066,0.822824],[-1.0,-0.575319,0.181066,0.822824],[-1.0,-0.575319,0.181066,0.822824],[-1.0,-0.575319,0.181066,0.822824],[-1.0,-0.575319,0.181066,0.822824],[-1.0,-0.575319,0.181066,0.822824],[-1.0,-0.575319,0.181066,0.822824],[-1.0,-0.575319,0.181066,0.822824],[-1.0,-0.575319,0.181066,0.822824]]\n",
      "  ω: Array{Float64,1}[[0.125,0.657689,0.776387,0.440924],[0.125,0.657689,0.776387,0.440924],[0.125,0.657689,0.776387,0.440924],[0.125,0.657689,0.776387,0.440924],[0.125,0.657689,0.776387,0.440924],[0.125,0.657689,0.776387,0.440924],[0.125,0.657689,0.776387,0.440924],[0.125,0.657689,0.776387,0.440924],[0.125,0.657689,0.776387,0.440924],[0.125,0.657689,0.776387,0.440924]]\n",
      "  t0: 0.0\n",
      "  tf: 0.0\n",
      "  stateMatrix: Array{Float64,2}[\n",
      "[0.0; 0.0; 0.0; 0.0; 0.0],\n",
      "\n",
      "[0.0; 0.0; 0.0; 0.0; 0.0],\n",
      "\n",
      "[0.0; 0.0; 0.0; 0.0; 0.0],\n",
      "\n",
      "[0.0; 0.0; 0.0; 0.0; 0.0],\n",
      "\n",
      "[0.0; 0.0; 0.0; 0.0; 0.0],\n",
      "\n",
      "[0.0; 0.0; 0.0; 0.0; 0.0],\n",
      "\n",
      "[0.0; 0.0; 0.0; 0.0; 0.0],\n",
      "\n",
      "[0.0; 0.0; 0.0; 0.0; 0.0],\n",
      "\n",
      "[0.0; 0.0; 0.0; 0.0; 0.0],\n",
      "\n",
      "[0.0; 0.0; 0.0; 0.0; 0.0]]\n",
      "  controlMatrix: Array{Float64,2}[\n",
      "[0.0; 0.0; 0.0; 0.0],\n",
      "\n",
      "[0.0; 0.0; 0.0; 0.0],\n",
      "\n",
      "[0.0; 0.0; 0.0; 0.0],\n",
      "\n",
      "[0.0; 0.0; 0.0; 0.0],\n",
      "\n",
      "[0.0; 0.0; 0.0; 0.0],\n",
      "\n",
      "[0.0; 0.0; 0.0; 0.0],\n",
      "\n",
      "[0.0; 0.0; 0.0; 0.0],\n",
      "\n",
      "[0.0; 0.0; 0.0; 0.0],\n",
      "\n",
      "[0.0; 0.0; 0.0; 0.0],\n",
      "\n",
      "[0.0; 0.0; 0.0; 0.0]]\n",
      "NLOptControl.NLP_data\n",
      "  numStates: 1\n",
      "  numStatePoints: [5,5,5,5,5,5,5,5,5,5]\n",
      "  lengthStateVector: 50\n",
      "  numControls: 1\n",
      "  numControlPoints: [4,4,4,4,4,4,4,4,4,4]\n",
      "  lengthControlVector: 40\n",
      "  lengthDecVector: 92\n",
      "  stateStartIdx: 1\n",
      "  stateStopIdx: 50\n",
      "  controlStartIdx: 51\n",
      "  controlStopIdx: 90\n",
      "  timeStartIdx: 91\n",
      "  timeStopIdx: 92\n",
      "  stateVector: [0.0,0.0,0.0,0.0,0.0,0.0,0.0,0.0,0.0,0.0,0.0,0.0,0.0,0.0,0.0,0.0,0.0,0.0,0.0,0.0,0.0,0.0,0.0,0.0,0.0,0.0,0.0,0.0,0.0,0.0,0.0,0.0,0.0,0.0,0.0,0.0,0.0,0.0,0.0,0.0,0.0,0.0,0.0,0.0,0.0,0.0,0.0,0.0,0.0,0.0]\n",
      "  controlVector: [0.0,0.0,0.0,0.0,0.0,0.0,0.0,0.0,0.0,0.0,0.0,0.0,0.0,0.0,0.0,0.0,0.0,0.0,0.0,0.0,0.0,0.0,0.0,0.0,0.0,0.0,0.0,0.0,0.0,0.0,0.0,0.0,0.0,0.0,0.0,0.0,0.0,0.0,0.0,0.0]\n",
      "  decisionVector: [0.0,0.0,0.0,0.0,0.0,0.0,0.0,0.0,0.0,0.0,0.0,0.0,0.0,0.0,0.0,0.0,0.0,0.0,0.0,0.0,0.0,0.0,0.0,0.0,0.0,0.0,0.0,0.0,0.0,0.0,0.0,0.0,0.0,0.0,0.0,0.0,0.0,0.0,0.0,0.0,0.0,0.0,0.0,0.0,0.0,0.0,0.0,0.0,0.0,0.0,0.0,0.0,0.0,0.0,0.0,0.0,0.0,0.0,0.0,0.0,0.0,0.0,0.0,0.0,0.0,0.0,0.0,0.0,0.0,0.0,0.0,0.0,0.0,0.0,0.0,0.0,0.0,0.0,0.0,0.0,0.0,0.0,0.0,0.0,0.0,0.0,0.0,0.0,0.0,0.0,0.0,0.0]\n"
     ]
    }
   ],
   "source": [
    "ps, nlp = initialize_NLP2(numStates=1,numControls=1);\n",
    "print(ps,\"\\n\")\n",
    "print(nlp,\"\\n\")"
   ]
  },
  {
   "cell_type": "code",
   "execution_count": null,
   "metadata": {
    "collapsed": false
   },
   "outputs": [],
   "source": []
  },
  {
   "cell_type": "code",
   "execution_count": null,
   "metadata": {
    "collapsed": false
   },
   "outputs": [],
   "source": []
  },
  {
   "cell_type": "code",
   "execution_count": 12,
   "metadata": {
    "collapsed": false
   },
   "outputs": [
    {
     "name": "stdout",
     "output_type": "stream",
     "text": [
      "[4,4]typeof(Nck) = Array{Int64,1}\n",
      "typeof(Ni) = Int64\n",
      "typeof(τ) = Array{Array{Float64,1},1}\n",
      "typeof(ω) = Array{Array{Float64,1},1}\n",
      "typeof(t0) = Float64\n",
      "typeof(tf) = Float64\n",
      "typeof(stateMatrix) = Array{Array{Float64,2},1}\n",
      "typeof(controlMatrix) = Array{Array{Float64,2},1}\n"
     ]
    }
   ],
   "source": [
    "ps, nlp = initialize_NLP2(numStates=1,numControls=1,Ni=2,Nck=[3, 3]);\n"
   ]
  },
  {
   "cell_type": "code",
   "execution_count": 13,
   "metadata": {
    "collapsed": false
   },
   "outputs": [
    {
     "data": {
      "text/plain": [
       "NLOptControl.PS_data\n",
       "  Nck: [3,3]\n",
       "  Ni: 2\n",
       "  τ: Array{Float64,1}[[-1.0,-0.289898,0.689898],[-1.0,-0.289898,0.689898]]\n",
       "  ω: Array{Float64,1}[[0.222222,1.02497,0.752806],[0.222222,1.02497,0.752806]]\n",
       "  t0: 0.0\n",
       "  tf: 0.0\n",
       "  stateMatrix: Array{Float64,2}[\n",
       "[0.0; 0.0; 0.0; 0.0],\n",
       "\n",
       "[0.0; 0.0; 0.0; 0.0]]\n",
       "  controlMatrix: Array{Float64,2}[\n",
       "[0.0; 0.0; 0.0],\n",
       "\n",
       "[0.0; 0.0; 0.0]]"
      ]
     },
     "execution_count": 13,
     "metadata": {},
     "output_type": "execute_result"
    }
   ],
   "source": [
    "ps"
   ]
  },
  {
   "cell_type": "code",
   "execution_count": 14,
   "metadata": {
    "collapsed": false
   },
   "outputs": [
    {
     "data": {
      "text/plain": [
       "NLOptControl.NLP_data\n",
       "  numStates: 1\n",
       "  numStatePoints: [4,4]\n",
       "  lengthStateVector: 8\n",
       "  numControls: 1\n",
       "  numControlPoints: [3,3]\n",
       "  lengthControlVector: 6\n",
       "  lengthDecVector: 16\n",
       "  stateStartIdx: 1\n",
       "  stateStopIdx: 8\n",
       "  controlStartIdx: 9\n",
       "  controlStopIdx: 14\n",
       "  timeStartIdx: 15\n",
       "  timeStopIdx: 16\n",
       "  stateVector: [0.0,0.0,0.0,0.0,0.0,0.0,0.0,0.0]\n",
       "  controlVector: [0.0,0.0,0.0,0.0,0.0,0.0]\n",
       "  decisionVector: [0.0,0.0,0.0,0.0,0.0,0.0,0.0,0.0,0.0,0.0,0.0,0.0,0.0,0.0,0.0,0.0]"
      ]
     },
     "execution_count": 14,
     "metadata": {},
     "output_type": "execute_result"
    }
   ],
   "source": [
    "nlp"
   ]
  },
  {
   "cell_type": "markdown",
   "metadata": {},
   "source": [
    "Test passing extra arguments functionality"
   ]
  },
  {
   "cell_type": "code",
   "execution_count": null,
   "metadata": {
    "collapsed": false
   },
   "outputs": [],
   "source": []
  },
  {
   "cell_type": "code",
   "execution_count": null,
   "metadata": {
    "collapsed": false
   },
   "outputs": [],
   "source": []
  },
  {
   "cell_type": "markdown",
   "metadata": {},
   "source": [
    "# "
   ]
  },
  {
   "cell_type": "code",
   "execution_count": null,
   "metadata": {
    "collapsed": false
   },
   "outputs": [],
   "source": []
  },
  {
   "cell_type": "code",
   "execution_count": null,
   "metadata": {
    "collapsed": false
   },
   "outputs": [],
   "source": []
  },
  {
   "cell_type": "markdown",
   "metadata": {},
   "source": [
    "# "
   ]
  },
  {
   "cell_type": "code",
   "execution_count": null,
   "metadata": {
    "collapsed": false
   },
   "outputs": [],
   "source": []
  },
  {
   "cell_type": "code",
   "execution_count": null,
   "metadata": {
    "collapsed": false
   },
   "outputs": [],
   "source": []
  },
  {
   "cell_type": "code",
   "execution_count": null,
   "metadata": {
    "collapsed": true
   },
   "outputs": [],
   "source": []
  },
  {
   "cell_type": "code",
   "execution_count": null,
   "metadata": {
    "collapsed": false
   },
   "outputs": [],
   "source": []
  },
  {
   "cell_type": "code",
   "execution_count": null,
   "metadata": {
    "collapsed": false
   },
   "outputs": [],
   "source": []
  },
  {
   "cell_type": "code",
   "execution_count": null,
   "metadata": {
    "collapsed": false
   },
   "outputs": [],
   "source": []
  },
  {
   "cell_type": "code",
   "execution_count": null,
   "metadata": {
    "collapsed": true
   },
   "outputs": [],
   "source": []
  }
 ],
 "metadata": {
  "anaconda-cloud": {},
  "kernelspec": {
   "display_name": "Julia 0.5.0",
   "language": "julia",
   "name": "julia-0.5"
  },
  "language_info": {
   "file_extension": ".jl",
   "mimetype": "application/julia",
   "name": "julia",
   "version": "0.5.0"
  }
 },
 "nbformat": 4,
 "nbformat_minor": 1
}
