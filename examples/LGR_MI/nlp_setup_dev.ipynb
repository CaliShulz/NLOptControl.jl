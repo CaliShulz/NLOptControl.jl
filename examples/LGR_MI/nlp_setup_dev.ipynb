{
 "cells": [
  {
   "cell_type": "markdown",
   "metadata": {},
   "source": [
    "This example is actually identical to Example3 except we push some of the functionality into the Code.\n",
    "\n",
    "AND we start to develop code to organize and keep track of the NLP!!\n"
   ]
  },
  {
   "cell_type": "code",
   "execution_count": 12,
   "metadata": {
    "collapsed": false
   },
   "outputs": [
    {
     "name": "stderr",
     "output_type": "stream",
     "text": [
      "WARNING: Method definition initialize_NLP(Int64, Int64, Int64, Int64, Any...) in module Main at In[1]:25 overwritten at In[12]:25.\n",
      "WARNING: replacing docs for 'initialize_NLP :: Tuple{Int64,Int64,Int64,Int64,Vararg{Any,N}}' in module 'Main'.\n"
     ]
    },
    {
     "data": {
      "text/plain": [
       "initialize_NLP"
      ]
     },
     "execution_count": 12,
     "metadata": {},
     "output_type": "execute_result"
    }
   ],
   "source": [
    "using NLOptControl\n",
    "using Polynomials\n",
    "using Plots\n",
    "using FastGaussQuadrature\n",
    "using Parameters\n",
    "pyplot()\n",
    "\n",
    "\"\"\"\n",
    "ps, nlp = initialize_NLP(Nc,Ni,numStates,numControls);\n",
    "ps, nlp = initialize_NLP(Nc,Ni,numStates,numControls,stateVector,controlVector,decisionVector, t0, tf);\n",
    "--------------------------------------------------------------------------------------\\n\n",
    "Author: Huckleberry Febbo, Graduate Student, University of Michigan\n",
    "Date Create: 1/1/2017, Last Modified: 1/1/2017 \\n\n",
    "Citations: \\n\n",
    "----------\\n\n",
    "Original Author: S. Hughes.  steven.p.hughes@nasa.gov\n",
    "Source: DecisionVector.m [located here](https://sourceforge.net/p/gmat/git/ci/264a12acad195e6a2467cfdc68abdcee801f73fc/tree/prototype/OptimalControl/LowThrust/@DecisionVector/)\n",
    "--------------------------------------------------------------------------\\n\n",
    "\"\"\"\n",
    "\n",
    "# should only call this once\n",
    "function initialize_NLP(Nc::Int64,Ni::Int64,numStates::Int64,numControls::Int64, args...)\n",
    "\n",
    "    # validate input\n",
    "    if  Nc <= 0\n",
    "        error(\"Nc must be > 0\");\n",
    "    end\n",
    "    if  Ni <= 0\n",
    "        error(\"Ni must be > 0\");\n",
    "    end\n",
    "    if  numStates <= 0\n",
    "        error(\"numStates must be > 0\");\n",
    "    end\n",
    "    if  numControls <= 0\n",
    "        error(\"eventually numControls must be > 0\");\n",
    "    end\n",
    "\n",
    "    # initialize node data TODO -> eventually make different PS methods available\n",
    "    τ, ω = gaussradau(Nc);\n",
    "\n",
    "    # calculate general properties\n",
    "    numStatePoints = Nc*Ni;\n",
    "    numControlPoints = Nc*Ni;\n",
    "\n",
    "    # calculate length of vectors\n",
    "    lengthStateVector = numStatePoints*numStates;\n",
    "    lengthControlVector = numControlPoints*numControls;\n",
    "    lengthDecVector = lengthStateVector + lengthControlVector + 2; # + 2 is for t0 and tf\n",
    "\n",
    "    if length(args) == 0\n",
    "        stateVector = zeros(lengthStateVector,);\n",
    "        controlVector = zeros(lengthControlVector,);\n",
    "        decisionVector = zeros(lengthDecVector,);\n",
    "        t0 = 0.0;\n",
    "        tf = 0.0;\n",
    "    else\n",
    "        # validate optional input\n",
    "        if  length(args[1]) != lengthStateVector\n",
    "            error(string(\"length of stateVector must be = \",lengthStateVector));\n",
    "        end\n",
    "        if  length(args[2]) != lengthControlVector\n",
    "            error(string(\"length of controlVector must be = \",lengthControlVector));\n",
    "        end\n",
    "        if  length(args[3]) != lengthDecVector\n",
    "            error(string(\"length of decisionVector must be = \",lengthDecVector));\n",
    "        end\n",
    "        if  length(args[4]) != 1\n",
    "            error(string(\"length of t0 must be = 1\"));\n",
    "        end\n",
    "        if  length(args[5]) != 1\n",
    "            error(string(\"length of tf must be = 1\"));\n",
    "        end\n",
    "        stateVector = args[1];\n",
    "        controlVector = args[2];\n",
    "        decisionVector = args[3];\n",
    "        t0 = args[4];\n",
    "        tf = args[5];\n",
    "    end\n",
    "\n",
    "    # determine indecies within overall decision vector of all variables (i.e. decisionVector)\n",
    "    stateStartIdx = 1;\n",
    "    stateStopIdx = stateStartIdx + lengthStateVector -1; # -1 because we start on 1\n",
    "    controlStartIdx = stateStopIdx + 1;\n",
    "    controlStopIdx = controlStartIdx + lengthControlVector -1; # -1 because we start on 1\n",
    "    timeStartIdx = controlStopIdx + 1;\n",
    "    timeStopIdx = timeStartIdx + 1;\n",
    "\n",
    "    if 1==1 #TODO eventually make print_level an option\n",
    "      print(string(\"lengthStateVector = \", lengthStateVector),\"\\n\")\n",
    "      print(string(\"lengthControlVector = \", lengthControlVector),\"\\n\")\n",
    "\n",
    "      print(string(\"stateStartIdx = \", stateStartIdx),\"\\n\")\n",
    "      print(string(\"stateStopIdx = \", stateStopIdx),\"\\n\")\n",
    "      print(string(\"controlStartIdx = \", controlStartIdx),\"\\n\")\n",
    "      print(string(\"controlStopIdx = \", controlStopIdx),\"\\n\")\n",
    "      print(string(\"timeStartIdx = \", timeStartIdx),\"\\n\")\n",
    "      print(string(\"timeStopIdx = \", timeStopIdx),\"\\n\")\n",
    "    end\n",
    "\n",
    "    # check indecies\n",
    "    if timeStopIdx != lengthDecVector\n",
    "      error(string(\"\\n\",\n",
    "                    \"-------------------------------------\", \"\\n\",\n",
    "                    \"There is an error with the indecies!!\", \"\\n\",\n",
    "                    \"-------------------------------------\", \"\\n\",\n",
    "                    \"The following variables should be equal:\", \"\\n\",\n",
    "                    \"timeStopIdx = \",timeStopIdx,\"\\n\",\n",
    "                    \"lengthDecVector = \",lengthDecVector,\"\\n\"\n",
    "                    )\n",
    "            )\n",
    "    end\n",
    "\n",
    "    # initialize problem data\n",
    "    ps = PS_data(Nc=Nc,\n",
    "                      Ni=Ni,\n",
    "                       τ=τ,\n",
    "                       ω=ω,\n",
    "                      t0=t0,\n",
    "                      tf=tf);\n",
    "\n",
    "    nlp = NLP_data(numStates=numStates,\n",
    "                        numStatePoints=numStatePoints,\n",
    "                        numControls=numControls,\n",
    "                        numControlPoints=numControlPoints,\n",
    "                        lengthControlVector=lengthControlVector,\n",
    "                        lengthStateVector=lengthStateVector,\n",
    "                        lengthDecVector=lengthDecVector,\n",
    "                        stateStartIdx=stateStartIdx,\n",
    "                        stateStopIdx=stateStopIdx,\n",
    "                        controlStartIdx=controlStartIdx,\n",
    "                        controlStopIdx=controlStopIdx,\n",
    "                        timeStartIdx=timeStartIdx,\n",
    "                        timeStopIdx=timeStopIdx,\n",
    "                        stateVector=stateVector,\n",
    "                        controlVector=controlVector,\n",
    "                        decisionVector=decisionVector\n",
    "                        );\n",
    "\n",
    "    return ps, nlp\n",
    "end\n"
   ]
  },
  {
   "cell_type": "code",
   "execution_count": 13,
   "metadata": {
    "collapsed": false
   },
   "outputs": [
    {
     "name": "stdout",
     "output_type": "stream",
     "text": [
      "lengthStateVector = 3\n",
      "lengthControlVector = 3\n",
      "stateStartIdx = 1\n",
      "stateStopIdx = 3\n",
      "controlStartIdx = 4\n",
      "controlStopIdx = 6\n",
      "timeStartIdx = 7\n",
      "timeStopIdx = 8\n"
     ]
    }
   ],
   "source": [
    "Nc = 3;\n",
    "Ni = 1;\n",
    "numStates = 1;\n",
    "numControls = 1;\n",
    "\n",
    "ps_d, nlp_d = initialize_NLP(Nc,Ni,numStates,numControls);\n"
   ]
  },
  {
   "cell_type": "code",
   "execution_count": 14,
   "metadata": {
    "collapsed": false
   },
   "outputs": [
    {
     "data": {
      "text/plain": [
       "NLOptControl.PS_data\n",
       "  Nc: 3\n",
       "  Ni: 1\n",
       "  τ: [-1.0,-0.289898,0.689898]\n",
       "  ω: [0.222222,1.02497,0.752806]\n",
       "  t0: 0.0\n",
       "  tf: 0.0"
      ]
     },
     "execution_count": 14,
     "metadata": {},
     "output_type": "execute_result"
    }
   ],
   "source": [
    "ps_d"
   ]
  },
  {
   "cell_type": "code",
   "execution_count": 15,
   "metadata": {
    "collapsed": false
   },
   "outputs": [
    {
     "data": {
      "text/plain": [
       "NLOptControl.NLP_data\n",
       "  numStates: 1\n",
       "  numStatePoints: 3\n",
       "  lengthStateVector: 3\n",
       "  numControls: 1\n",
       "  numControlPoints: 3\n",
       "  lengthControlVector: 3\n",
       "  lengthDecVector: 8\n",
       "  stateStartIdx: 1\n",
       "  stateStopIdx: 3\n",
       "  controlStartIdx: 4\n",
       "  controlStopIdx: 6\n",
       "  timeStartIdx: 7\n",
       "  timeStopIdx: 8\n",
       "  stateVector: [0.0,0.0,0.0]\n",
       "  controlVector: [0.0,0.0,0.0]\n",
       "  decisionVector: [0.0,0.0,0.0,0.0,0.0,0.0,0.0,0.0]"
      ]
     },
     "execution_count": 15,
     "metadata": {},
     "output_type": "execute_result"
    }
   ],
   "source": [
    "nlp_d"
   ]
  },
  {
   "cell_type": "code",
   "execution_count": 16,
   "metadata": {
    "collapsed": false
   },
   "outputs": [
    {
     "name": "stdout",
     "output_type": "stream",
     "text": [
      "lengthStateVector = 6\n",
      "lengthControlVector = 6\n",
      "stateStartIdx = 1\n",
      "stateStopIdx = 6\n",
      "controlStartIdx = 7\n",
      "controlStopIdx = 12\n",
      "timeStartIdx = 13\n",
      "timeStopIdx = 14\n"
     ]
    }
   ],
   "source": [
    "Nc = 3;\n",
    "Ni = 2;\n",
    "numStates = 1;\n",
    "numControls = 1;\n",
    "\n",
    "ps, nlp = initialize_NLP(Nc,Ni,numStates,numControls);"
   ]
  },
  {
   "cell_type": "code",
   "execution_count": 17,
   "metadata": {
    "collapsed": false
   },
   "outputs": [
    {
     "data": {
      "text/plain": [
       "NLOptControl.PS_data\n",
       "  Nc: 3\n",
       "  Ni: 2\n",
       "  τ: [-1.0,-0.289898,0.689898]\n",
       "  ω: [0.222222,1.02497,0.752806]\n",
       "  t0: 0.0\n",
       "  tf: 0.0"
      ]
     },
     "execution_count": 17,
     "metadata": {},
     "output_type": "execute_result"
    }
   ],
   "source": [
    "ps"
   ]
  },
  {
   "cell_type": "code",
   "execution_count": 18,
   "metadata": {
    "collapsed": false
   },
   "outputs": [
    {
     "data": {
      "text/plain": [
       "NLOptControl.NLP_data\n",
       "  numStates: 1\n",
       "  numStatePoints: 6\n",
       "  lengthStateVector: 6\n",
       "  numControls: 1\n",
       "  numControlPoints: 6\n",
       "  lengthControlVector: 6\n",
       "  lengthDecVector: 14\n",
       "  stateStartIdx: 1\n",
       "  stateStopIdx: 6\n",
       "  controlStartIdx: 7\n",
       "  controlStopIdx: 12\n",
       "  timeStartIdx: 13\n",
       "  timeStopIdx: 14\n",
       "  stateVector: [0.0,0.0,0.0,0.0,0.0,0.0]\n",
       "  controlVector: [0.0,0.0,0.0,0.0,0.0,0.0]\n",
       "  decisionVector: [0.0,0.0,0.0,0.0,0.0,0.0,0.0,0.0,0.0,0.0,0.0,0.0,0.0,0.0]"
      ]
     },
     "execution_count": 18,
     "metadata": {},
     "output_type": "execute_result"
    }
   ],
   "source": [
    "nlp"
   ]
  },
  {
   "cell_type": "markdown",
   "metadata": {},
   "source": [
    "Test passing extra arguments functionality"
   ]
  },
  {
   "cell_type": "code",
   "execution_count": 19,
   "metadata": {
    "collapsed": false
   },
   "outputs": [
    {
     "name": "stdout",
     "output_type": "stream",
     "text": [
      "lengthStateVector = 24\n",
      "lengthControlVector = 36\n",
      "stateStartIdx = 1\n",
      "stateStopIdx = 24\n",
      "controlStartIdx = 25\n",
      "controlStopIdx = 60\n",
      "timeStartIdx = 61\n",
      "timeStopIdx = 62\n"
     ]
    }
   ],
   "source": [
    "Nc = 3;\n",
    "Ni = 4;\n",
    "numStates = 2;\n",
    "numControls = 3;\n",
    "\n",
    "stateVector = ones(numStates*Ni*Nc,);\n",
    "controlVector = ones(numControls*Ni*Nc,);\n",
    "decisionVector = ones((numStates+numControls)*Ni*Nc+2,)\n",
    "t0 = 0.0;\n",
    "tf = 10.0;\n",
    "ps, nlp = initialize_NLP(Nc,Ni,numStates,numControls,stateVector,controlVector,decisionVector, t0, tf);"
   ]
  },
  {
   "cell_type": "code",
   "execution_count": 20,
   "metadata": {
    "collapsed": false
   },
   "outputs": [
    {
     "data": {
      "text/plain": [
       "NLOptControl.PS_data\n",
       "  Nc: 3\n",
       "  Ni: 4\n",
       "  τ: [-1.0,-0.289898,0.689898]\n",
       "  ω: [0.222222,1.02497,0.752806]\n",
       "  t0: 0.0\n",
       "  tf: 10.0"
      ]
     },
     "execution_count": 20,
     "metadata": {},
     "output_type": "execute_result"
    }
   ],
   "source": [
    "ps"
   ]
  },
  {
   "cell_type": "markdown",
   "metadata": {},
   "source": [
    "# "
   ]
  },
  {
   "cell_type": "code",
   "execution_count": 21,
   "metadata": {
    "collapsed": false
   },
   "outputs": [
    {
     "data": {
      "text/plain": [
       "NLOptControl.NLP_data\n",
       "  numStates: 2\n",
       "  numStatePoints: 12\n",
       "  lengthStateVector: 24\n",
       "  numControls: 3\n",
       "  numControlPoints: 12\n",
       "  lengthControlVector: 36\n",
       "  lengthDecVector: 62\n",
       "  stateStartIdx: 1\n",
       "  stateStopIdx: 24\n",
       "  controlStartIdx: 25\n",
       "  controlStopIdx: 60\n",
       "  timeStartIdx: 61\n",
       "  timeStopIdx: 62\n",
       "  stateVector: [1.0,1.0,1.0,1.0,1.0,1.0,1.0,1.0,1.0,1.0,1.0,1.0,1.0,1.0,1.0,1.0,1.0,1.0,1.0,1.0,1.0,1.0,1.0,1.0]\n",
       "  controlVector: [1.0,1.0,1.0,1.0,1.0,1.0,1.0,1.0,1.0,1.0,1.0,1.0,1.0,1.0,1.0,1.0,1.0,1.0,1.0,1.0,1.0,1.0,1.0,1.0,1.0,1.0,1.0,1.0,1.0,1.0,1.0,1.0,1.0,1.0,1.0,1.0]\n",
       "  decisionVector: [1.0,1.0,1.0,1.0,1.0,1.0,1.0,1.0,1.0,1.0,1.0,1.0,1.0,1.0,1.0,1.0,1.0,1.0,1.0,1.0,1.0,1.0,1.0,1.0,1.0,1.0,1.0,1.0,1.0,1.0,1.0,1.0,1.0,1.0,1.0,1.0,1.0,1.0,1.0,1.0,1.0,1.0,1.0,1.0,1.0,1.0,1.0,1.0,1.0,1.0,1.0,1.0,1.0,1.0,1.0,1.0,1.0,1.0,1.0,1.0,1.0,1.0]"
      ]
     },
     "execution_count": 21,
     "metadata": {},
     "output_type": "execute_result"
    }
   ],
   "source": [
    "nlp"
   ]
  },
  {
   "cell_type": "code",
   "execution_count": null,
   "metadata": {
    "collapsed": false
   },
   "outputs": [],
   "source": []
  },
  {
   "cell_type": "markdown",
   "metadata": {},
   "source": [
    "# "
   ]
  },
  {
   "cell_type": "code",
   "execution_count": null,
   "metadata": {
    "collapsed": false
   },
   "outputs": [],
   "source": []
  },
  {
   "cell_type": "code",
   "execution_count": null,
   "metadata": {
    "collapsed": false
   },
   "outputs": [],
   "source": []
  },
  {
   "cell_type": "code",
   "execution_count": 11,
   "metadata": {
    "collapsed": true
   },
   "outputs": [],
   "source": []
  },
  {
   "cell_type": "code",
   "execution_count": null,
   "metadata": {
    "collapsed": false
   },
   "outputs": [],
   "source": []
  },
  {
   "cell_type": "code",
   "execution_count": 17,
   "metadata": {
    "collapsed": true
   },
   "outputs": [],
   "source": [
    "savefig(\"test3e.png\")"
   ]
  },
  {
   "cell_type": "code",
   "execution_count": null,
   "metadata": {
    "collapsed": false
   },
   "outputs": [],
   "source": []
  },
  {
   "cell_type": "code",
   "execution_count": null,
   "metadata": {
    "collapsed": true
   },
   "outputs": [],
   "source": []
  }
 ],
 "metadata": {
  "anaconda-cloud": {},
  "kernelspec": {
   "display_name": "Julia 0.5.0",
   "language": "julia",
   "name": "julia-0.5"
  },
  "language_info": {
   "file_extension": ".jl",
   "mimetype": "application/julia",
   "name": "julia",
   "version": "0.5.0"
  }
 },
 "nbformat": 4,
 "nbformat_minor": 1
}
