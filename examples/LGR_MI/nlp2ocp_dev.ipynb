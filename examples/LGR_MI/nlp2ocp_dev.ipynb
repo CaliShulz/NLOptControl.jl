{
 "cells": [
  {
   "cell_type": "markdown",
   "metadata": {},
   "source": [
    "initialize_NLP() was modified from dev version to allow for kwargs..."
   ]
  },
  {
   "cell_type": "code",
   "execution_count": 2,
   "metadata": {
    "collapsed": false
   },
   "outputs": [
    {
     "name": "stdout",
     "output_type": "stream",
     "text": [
      "NLOptControl.NLP_data\n",
      "  numStates: 2\n",
      "  numControls: 2\n",
      "  numStatePoints: [4,4]\n",
      "  numControlPoints: [3,3]\n",
      "  lengthStateVector: 16\n",
      "  lengthControlVector: 12\n",
      "  lengthDecVector: 30\n",
      "  timeStartIdx: 29\n",
      "  timeStopIdx: 30\n",
      "  stateIdx: Tuple{Int64,Int64}[(1,8),(9,16)]\n",
      "  controlIdx: Tuple{Int64,Int64}[(17,22),(23,28)]\n",
      "  stateIdx_all: Tuple{Int64,Int64}[(1,4),(5,8),(9,12),(13,16)]\n",
      "  controlIdx_all: Tuple{Int64,Int64}[(17,19),(20,22),(23,25),(26,28)]\n",
      "  stateIdx_st: Tuple{Int64,Int64}[(1,4),(9,12),(5,8),(13,16)]\n",
      "  controlIdx_ctr: Tuple{Int64,Int64}[(17,19),(23,25),(20,22),(26,28)]\n",
      "  decisionVector: [-0.3,4.08031,7.01969,7.2,0.0,0.0,0.0,0.0,7.2,6.25454,1.84546,-0.3,0.0,0.0,0.0,0.0,0.0,0.0,0.0,0.0,0.0,0.0,0.0,0.0,0.0,0.0,0.0,0.0,0.0,10.0]\n",
      "\n",
      "NLOptControl.PS_data\n",
      "  Nck: [3,3]\n",
      "  Ni: 2\n",
      "  τ: Array{Float64,1}[[-1.0,-0.289898,0.689898],[-1.0,-0.289898,0.689898]]\n",
      "  ω: Array{Float64,1}[[0.222222,1.02497,0.752806],[0.222222,1.02497,0.752806]]\n",
      "  t0: 0.0\n",
      "  tf: 10.0\n",
      "  DMatrix: Array{Float64,2}[\n",
      "[-2.5 3.76599 -2.76599 1.5; -0.526599 -0.387628 1.78392 -0.869694; 0.126599 -0.58392 -1.61237 2.06969],\n",
      "\n",
      "[-2.5 3.76599 -2.76599 1.5; -0.526599 -0.387628 1.78392 -0.869694; 0.126599 -0.58392 -1.61237 2.06969]]\n",
      "  IMatrix: Array{Float64,2}[\n",
      "[-0.222222 -1.02497 -0.752806; 0.0830975 -0.584147 -0.788849; -0.0475419 0.131071 -0.393631],\n",
      "\n",
      "[-0.222222 -1.02497 -0.752806; 0.0830975 -0.584147 -0.788849; -0.0475419 0.131071 -0.393631]]\n",
      "  stateMatrix: Array{Float64,1}[[-0.3,4.08031,7.01969,7.2,0.0,0.0,0.0,0.0],[7.2,6.25454,1.84546,-0.3,0.0,0.0,0.0,0.0]]\n",
      "  controlMatrix: Array{Float64,1}[[0.0,0.0,0.0,0.0,0.0,0.0],[0.0,0.0,0.0,0.0,0.0,0.0]]"
     ]
    }
   ],
   "source": [
    "using NLOptControl\n",
    "using Plots\n",
    "using Polynomials\n",
    "using FastGaussQuadrature\n",
    "using Parameters\n",
    "\n",
    "# initialize basic problem definition\n",
    "ps, nlp = initialize_NLP(numStates=2,numControls=2,Ni=2,Nck=[3, 3]);\n",
    "\n",
    "####################################\n",
    "# perform analytical calcualtions -> for plots\n",
    "####################################\n",
    "@unpack t0, tf = ps\n",
    "t0 = Float64(0); tf = Float64(10);\n",
    "@pack ps = t0, tf\n",
    "t = Array(linspace(t0,tf,100));\n",
    "α₁ =  -0.3; α₂ = 3; α₃ = -8; α₄ =  7;\n",
    "\n",
    "γ = Poly([α₁,α₂,α₁]); #TODO check on that imported binding warning\n",
    "y = polyval(γ,t);\n",
    "\n",
    "# evaluate the integral\n",
    "∫γ = polyint(γ);\n",
    "Y = polyval(∫γ,t[end]) - polyval(∫γ,t[1]);\n",
    "C = Y - polyval(∫γ,t[end]); # constant of integration\n",
    "∫y = polyval(∫γ,t) + C;\n",
    "\n",
    "# evaluate the derivative\n",
    "dγ = polyder(γ);\n",
    "dy = polyval(dγ,t);\n",
    "\n",
    "##TEMP## -->to get fake optimization data\n",
    "@unpack Nck, Ni, t0, tf = ps\n",
    "taus_and_weights = [gaussradau(Nck[int]) for int in 1:Ni];\n",
    "τ = [taus_and_weights[int][1] for int in 1:Ni];\n",
    "ω = [taus_and_weights[int][2] for int in 1:Ni];\n",
    "di, tm, t_data, ωₛ=create_intervals(t0,tf,Ni,Nck,τ,ω);\n",
    "@pack ps = τ, ω\n",
    "@unpack decisionVector, lengthControlVector, lengthStateVector, numStates, stateIdx = nlp\n",
    "fake_control_data = zeros(lengthControlVector,);\n",
    "\n",
    "if length(fake_control_data)!=lengthControlVector\n",
    "  error(string(\"\\n\",\n",
    "                \"-------------------------------------\", \"\\n\",\n",
    "                \"There is an error with the indecies!!\", \"\\n\",\n",
    "                \"-------------------------------------\", \"\\n\",\n",
    "                \"The following variables should be equal:\", \"\\n\",\n",
    "                \"length(fake_control_data) = \",length(fake_control_data),\"\\n\",\n",
    "                \"lengthControlVector = \",lengthControlVector,\"\\n\"\n",
    "                )\n",
    "        )\n",
    "end\n",
    "\n",
    "# each row contains all of the data for an interval\n",
    "fake_state = [[polyval(γ,t_data[int]); zeros(Float64,length(t_data[int]),)] for int in 1:Ni ];\n",
    "fake_state_data = zeros(lengthStateVector,);\n",
    "for int in 1:Ni # turn into vector\n",
    "  fake_state_data[stateIdx[int][1]:stateIdx[int][2]] = fake_state[int];\n",
    "end\n",
    "\n",
    "if length(fake_state_data)!=lengthStateVector\n",
    "  error(string(\"\\n\",\n",
    "                \"-------------------------------------\", \"\\n\",\n",
    "                \"There is an error with the indecies!!\", \"\\n\",\n",
    "                \"-------------------------------------\", \"\\n\",\n",
    "                \"The following variables should be equal:\", \"\\n\",\n",
    "                \"length(fake_state_data) = \",length(fake_state_data),\"\\n\",\n",
    "                \"lengthStateVector = \",lengthStateVector,\"\\n\"\n",
    "                )\n",
    "        )\n",
    "end\n",
    "decisionVector=[fake_state_data[:];fake_control_data;t0;tf]; # for now looking at no controls\n",
    "@pack  nlp = decisionVector\n",
    "\n",
    "##TEMP## -->to get fake optimization data\n",
    "\n",
    "function nlp2ocp(decisionVector::Array{Float64,1},nlp::NLP_data,ps::PS_data)\n",
    "    @unpack t0, tf, stateMatrix, controlMatrix, Ni = ps\n",
    "    @unpack stateIdx, controlIdx, timeStartIdx, timeStopIdx, lengthDecVector = nlp\n",
    "\n",
    "    if length(decisionVector)!=lengthDecVector\n",
    "      error(string(\"\\n\",\n",
    "                    \"-------------------------------------\", \"\\n\",\n",
    "                    \"There is an error with the indecies!!\", \"\\n\",\n",
    "                    \"-------------------------------------\", \"\\n\",\n",
    "                    \"The following variables should be equal:\", \"\\n\",\n",
    "                    \"length(decisionVector) = \",length(decisionVector),\"\\n\",\n",
    "                    \"lengthDecVector = \",lengthDecVector,\"\\n\"\n",
    "                    )\n",
    "            )\n",
    "    end\n",
    "    # update parameters\n",
    "    t0 = decisionVector[timeStartIdx];\n",
    "    tf = decisionVector[timeStopIdx];\n",
    "\n",
    "    stateMatrix  = [decisionVector[stateIdx[int][1]:stateIdx[int][2]] for int in 1:Ni];\n",
    "    controlMatrix = [decisionVector[controlIdx[int][1]:controlIdx[int][2]] for int in 1:Ni];\n",
    "\n",
    "    @pack ps = t0, tf, stateMatrix, controlMatrix\n",
    "end\n",
    "\n",
    "nlp2ocp(decisionVector,nlp,ps);\n",
    "\n",
    "@unpack_PS_data ps\n",
    "@unpack_NLP_data nlp\n",
    "print(nlp,\"\\n\",\"\\n\")\n",
    "print(ps)\n"
   ]
  },
  {
   "cell_type": "code",
   "execution_count": 3,
   "metadata": {
    "collapsed": false
   },
   "outputs": [
    {
     "name": "stdout",
     "output_type": "stream",
     "text": [
      "1\n",
      "1\n",
      "[0.555556,2.56243,1.88202]\n",
      "[-0.3,4.08031,7.01969]\n",
      "2\n",
      "1\n",
      "[0.555556,2.56243,1.88202]\n",
      "[7.2,6.25454,1.84546]\n",
      "1\n",
      "2\n",
      "[0.555556,2.56243,1.88202]\n",
      "[0.0,0.0,0.0]\n",
      "2\n",
      "2\n",
      "[0.555556,2.56243,1.88202]\n",
      "[0.0,0.0,0.0]\n"
     ]
    }
   ],
   "source": [
    "@unpack stateIdx_st, controlIdx_ctr = nlp\n",
    "\n",
    "# approximate the integral\n",
    "ζ = [zeros(Float64,Nck[int],) for int in 1:Ni]; approx_int = Float64(0); idx=1;\n",
    "for st in 1:numStates\n",
    "    for int in 1:Ni\n",
    "        print(int,\"\\n\")\n",
    "        print(st,\"\\n\")\n",
    "        print(ωₛ[int],\"\\n\")              \n",
    "        print(decisionVector[stateIdx_st[idx][1]:stateIdx_st[idx][2]-1],\"\\n\")\n",
    "\n",
    "        ζ[int] =  cumsum(ωₛ[int].*decisionVector[stateIdx_st[idx][1]:stateIdx_st[idx][2]-1],1) #TODO save this!\n",
    "        approx_int = approx_int + ζ[int][end];\n",
    "        idx=idx+1;\n",
    "    end\n",
    "end"
   ]
  },
  {
   "cell_type": "code",
   "execution_count": 11,
   "metadata": {
    "collapsed": false
   },
   "outputs": [
    {
     "data": {
      "text/plain": [
       "2-element Array{Array{Float64,1},1}:\n",
       " [0.0,0.0,0.0]\n",
       " [0.0,0.0,0.0]"
      ]
     },
     "execution_count": 11,
     "metadata": {},
     "output_type": "execute_result"
    }
   ],
   "source": [
    "ζ"
   ]
  },
  {
   "cell_type": "code",
   "execution_count": 8,
   "metadata": {
    "collapsed": false
   },
   "outputs": [
    {
     "data": {
      "text/html": [
       "47.0"
      ],
      "text/plain": [
       "47.0"
      ]
     },
     "execution_count": 8,
     "metadata": {},
     "output_type": "execute_result"
    }
   ],
   "source": [
    "approx_int"
   ]
  },
  {
   "cell_type": "code",
   "execution_count": 10,
   "metadata": {
    "collapsed": false
   },
   "outputs": [
    {
     "data": {
      "text/html": [
       "<img src=\"data:image/png;base64,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\" />"
      ]
     },
     "execution_count": 10,
     "metadata": {},
     "output_type": "execute_result"
    }
   ],
   "source": [
    "\n",
    "ip=plot(0,leg=:false)\n",
    "plot!(t,∫y,label=@sprintf(\"integral = %0.3f\",∫y[end]),w=6)\n",
    "plot!(t_data,ζ,label=@sprintf(\"approx. integral = %0.3f\",approx_int),line=(4,:dash))\n"
   ]
  },
  {
   "cell_type": "code",
   "execution_count": 42,
   "metadata": {
    "collapsed": true
   },
   "outputs": [],
   "source": [
    "# approximate the derivative --> needed in defect constraints\n",
    "D = [zeros((Nck[int]+1),(Nck[int]+1)) for int in 1:Ni]\n",
    "for int in 1:Ni\n",
    "    D[int] = poldif(t_data[int], 1) # append +1 onto τ\n",
    "end\n",
    "DMatrix = [zeros((Nck[int]),(Nck[int]+1)) for int in 1:Ni];\n",
    "DM = [zeros((Nck[int]),(Nck[int])) for int in 1:Ni];\n",
    "IMatrix = DM;\n",
    "for int in 1:Ni\n",
    "    DMatrix[int] = D[int][1:end-1,:];   # turn into a [Nck]X[Nck+1] sized matrix\n",
    "    DM[int] = D[int][1:end-1,:1:end-1]; # turn into a [Nck]X[Nck] sized matrix\n",
    "    IMatrix[int] = inv(DM[int]);        # integration matrix\n",
    "end\n",
    "#TODO add matrices bACK TO PARAMETERS"
   ]
  },
  {
   "cell_type": "code",
   "execution_count": 83,
   "metadata": {
    "collapsed": false
   },
   "outputs": [],
   "source": [
    "# approximate the derivative --> needed in defect constraints\n",
    "dζ = zeros(Float64, numStates, Nck[int], Ni); idx = 1;\n",
    "for st in 1:numStates\n",
    "    for int in 1:Ni\n",
    "        dζ[st,1:Nck[int],int] = DMatrix[int]*decisionVector[stateIdx_st[idx][1]:stateIdx_st[idx][2]];\n",
    "        idx=idx+1\n",
    "    end\n",
    "end"
   ]
  },
  {
   "cell_type": "code",
   "execution_count": 84,
   "metadata": {
    "collapsed": false
   },
   "outputs": [
    {
     "data": {
      "text/plain": [
       "3-element Array{Float64,1}:\n",
       " 3.0     \n",
       " 1.93485 \n",
       " 0.465153"
      ]
     },
     "execution_count": 84,
     "metadata": {},
     "output_type": "execute_result"
    }
   ],
   "source": [
    "int=1\n",
    "idx=1\n",
    "st = 1\n",
    "DMatrix[int]*decisionVector[stateIdx_st[idx][1]:stateIdx_st[idx][2]]\n",
    "\n"
   ]
  },
  {
   "cell_type": "code",
   "execution_count": 70,
   "metadata": {
    "collapsed": false
   },
   "outputs": [
    {
     "data": {
      "text/plain": [
       "2×2×3 Array{Float64,3}:\n",
       "[:, :, 1] =\n",
       " 0.0  0.0\n",
       " 0.0  0.0\n",
       "\n",
       "[:, :, 2] =\n",
       " 0.0  0.0\n",
       " 0.0  0.0\n",
       "\n",
       "[:, :, 3] =\n",
       " 0.0  0.0\n",
       " 0.0  0.0"
      ]
     },
     "execution_count": 70,
     "metadata": {},
     "output_type": "execute_result"
    }
   ],
   "source": [
    "s1=1;int=1\n",
    "dζ[st][1:Nck[int]]\n",
    "dζ = [zeros(Float64, numStates, Ni, Nck[int]) for int in 1:Ni]\n",
    "dζ[1]"
   ]
  },
  {
   "cell_type": "code",
   "execution_count": 49,
   "metadata": {
    "collapsed": false
   },
   "outputs": [
    {
     "data": {
      "text/plain": [
       "3-element Array{Float64,1}:\n",
       " 3.0     \n",
       " 1.93485 \n",
       " 0.465153"
      ]
     },
     "execution_count": 49,
     "metadata": {},
     "output_type": "execute_result"
    }
   ],
   "source": [
    "idx=1\n",
    "int = 1\n",
    "DMatrix[int]*decisionVector[stateIdx_st[idx][1]:stateIdx_st[idx][2]]"
   ]
  },
  {
   "cell_type": "code",
   "execution_count": 50,
   "metadata": {
    "collapsed": false
   },
   "outputs": [
    {
     "data": {
      "text/plain": [
       "3-element Array{Float64,1}:\n",
       " -2.22045e-15\n",
       " -1.06515    \n",
       " -2.53485    "
      ]
     },
     "execution_count": 50,
     "metadata": {},
     "output_type": "execute_result"
    }
   ],
   "source": [
    "idx=2\n",
    "int = 2\n",
    "DMatrix[int]*decisionVector[stateIdx_st[idx][1]:stateIdx_st[idx][2]]"
   ]
  },
  {
   "cell_type": "code",
   "execution_count": 48,
   "metadata": {
    "collapsed": false
   },
   "outputs": [
    {
     "data": {
      "text/plain": [
       "3-element Array{Float64,1}:\n",
       " -2.22045e-15\n",
       " -1.06515    \n",
       " -2.53485    "
      ]
     },
     "execution_count": 48,
     "metadata": {},
     "output_type": "execute_result"
    }
   ],
   "source": [
    "int = 1\n",
    "st = 1\n",
    "dζ[st][1:Nck[int]]"
   ]
  },
  {
   "cell_type": "code",
   "execution_count": 36,
   "metadata": {
    "collapsed": false
   },
   "outputs": [
    {
     "data": {
      "text/plain": [
       "4-element Array{Float64,1}:\n",
       " -0.3    \n",
       "  4.08031\n",
       "  7.01969\n",
       "  7.2    "
      ]
     },
     "execution_count": 36,
     "metadata": {},
     "output_type": "execute_result"
    }
   ],
   "source": [
    "idx=1\n",
    "decisionVector[stateIdx_st[idx][1]:stateIdx_st[idx][2]]"
   ]
  },
  {
   "cell_type": "code",
   "execution_count": 86,
   "metadata": {
    "collapsed": false
   },
   "outputs": [
    {
     "data": {
      "text/html": [
       "<img src=\"data:image/png;base64,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\" />"
      ]
     },
     "execution_count": 86,
     "metadata": {},
     "output_type": "execute_result"
    }
   ],
   "source": [
    "dp=plot(0,leg=:false)\n",
    "plot!(t,dy,label=\"derivative\",w=6)\n",
    "for st in 1:1\n",
    "    for int in 1:Ni\n",
    "        scatter!(t_data[int][1:end-1],dζ[st,1:Nck[int],int],markersize =10,markershape = :rect,label=string(\"approximate derivative \",int))\n",
    "      #tF[int] = t_data[end,int];\n",
    "      #yF[int] = dζ[end,int];\n",
    "    end\n",
    "end\n",
    "#scatter!(tF,yF,markersize = 10,markershape = :star8,label=string(\"end points\"))\n",
    "xlims!(t0,tf*1.1)"
   ]
  },
  {
   "cell_type": "code",
   "execution_count": 39,
   "metadata": {
    "collapsed": false
   },
   "outputs": [
    {
     "ename": "LoadError",
     "evalue": "UndefVarError: int not defined",
     "output_type": "error",
     "traceback": [
      "UndefVarError: int not defined",
      ""
     ]
    }
   ],
   "source": [
    "dζ[int][1:Nck[int]]"
   ]
  },
  {
   "cell_type": "code",
   "execution_count": 33,
   "metadata": {
    "collapsed": false
   },
   "outputs": [
    {
     "data": {
      "text/plain": [
       "3-element Array{Float64,1}:\n",
       " -2.22045e-15\n",
       " -1.06515    \n",
       " -2.53485    "
      ]
     },
     "execution_count": 33,
     "metadata": {},
     "output_type": "execute_result"
    }
   ],
   "source": [
    "dζ[1][1:Nck[1]]"
   ]
  },
  {
   "cell_type": "code",
   "execution_count": 30,
   "metadata": {
    "collapsed": false
   },
   "outputs": [
    {
     "data": {
      "text/plain": [
       "3-element Array{Float64,1}:\n",
       " -2.22045e-15\n",
       " -1.06515    \n",
       " -2.53485    "
      ]
     },
     "execution_count": 30,
     "metadata": {},
     "output_type": "execute_result"
    }
   ],
   "source": [
    "dζ[1][1:Nck[2]]"
   ]
  },
  {
   "cell_type": "code",
   "execution_count": 21,
   "metadata": {
    "collapsed": false
   },
   "outputs": [
    {
     "data": {
      "text/plain": [
       "3×4 Array{Float64,2}:\n",
       " -1.0         1.50639   -1.10639    0.6     \n",
       " -0.210639   -0.155051   0.713568  -0.347878\n",
       "  0.0506395  -0.233568  -0.644949   0.827878"
      ]
     },
     "execution_count": 21,
     "metadata": {},
     "output_type": "execute_result"
    }
   ],
   "source": [
    "DMatrix[1]"
   ]
  },
  {
   "cell_type": "code",
   "execution_count": 37,
   "metadata": {
    "collapsed": false
   },
   "outputs": [
    {
     "data": {
      "text/plain": [
       "3×4 Array{Float64,2}:\n",
       " -1.0         1.50639   -1.10639    0.6     \n",
       " -0.210639   -0.155051   0.713568  -0.347878\n",
       "  0.0506395  -0.233568  -0.644949   0.827878"
      ]
     },
     "execution_count": 37,
     "metadata": {},
     "output_type": "execute_result"
    }
   ],
   "source": [
    "DMatrix[2]"
   ]
  },
  {
   "cell_type": "code",
   "execution_count": 9,
   "metadata": {
    "collapsed": false
   },
   "outputs": [
    {
     "data": {
      "text/plain": [
       "2-element Array{Array{Float64,1},1}:\n",
       " [-1.0,-0.289898,0.689898]\n",
       " [-1.0,-0.289898,0.689898]"
      ]
     },
     "execution_count": 9,
     "metadata": {},
     "output_type": "execute_result"
    }
   ],
   "source": [
    "τ"
   ]
  },
  {
   "cell_type": "code",
   "execution_count": null,
   "metadata": {
    "collapsed": false
   },
   "outputs": [],
   "source": []
  },
  {
   "cell_type": "code",
   "execution_count": null,
   "metadata": {
    "collapsed": false
   },
   "outputs": [],
   "source": []
  },
  {
   "cell_type": "code",
   "execution_count": null,
   "metadata": {
    "collapsed": false
   },
   "outputs": [],
   "source": []
  },
  {
   "cell_type": "code",
   "execution_count": null,
   "metadata": {
    "collapsed": false
   },
   "outputs": [],
   "source": []
  },
  {
   "cell_type": "code",
   "execution_count": null,
   "metadata": {
    "collapsed": false
   },
   "outputs": [],
   "source": [
    "#################\n",
    "# post processing\n",
    "#################\n",
    "tF = zeros(Float64,Ni); yF =  zeros(Float64,Ni);\n",
    "fp=plot(0,leg=:false);\n",
    "plot!(t,y,label=string(γ),w=6)\n",
    "for int in 1:Ni\n",
    " # scatter!(t_data[1:end-1,int],P[1:end-1,int],markersize =10,markershape = :rect,label=string(\"collocation points for mesh interval \",int))\n",
    "  tF[int] = t_data[end,int];\n",
    "  #yF[int] = P[end,int];\n",
    "end\n",
    "scatter!(tF,yF,markersize = 10,markershape = :star8,label=string(\"end points\"))\n",
    "xlims!(t0,tf*1.1)\n",
    "\n",
    "dp=plot(0,leg=:false)\n",
    "plot!(t,dy,label=\"derivative\",w=6)\n",
    "for int in 1:Ni\n",
    "  scatter!(t_data[1:end-1,int],dζ[1:end-1,int],markersize =10,markershape = :rect,label=string(\"approximate derivative \",int))\n",
    "  tF[int] = t_data[end,int];\n",
    "  yF[int] = dζ[end,int];\n",
    "end\n",
    "scatter!(tF,yF,markersize = 10,markershape = :star8,label=string(\"end points\"))\n",
    "xlims!(t0,tf*1.1)\n",
    "\n",
    "ip=plot(0,leg=:false)\n",
    "plot!(t,∫y,label=@sprintf(\"integral = %0.3f\",∫y[end]),w=6)\n",
    "plot!(t_data,ζ,label=@sprintf(\"approx. integral = %0.3f\",approx_int),line=(4,:dash))\n",
    "\n",
    "plot(fp,ip,dp,layout=(3,1))"
   ]
  },
  {
   "cell_type": "code",
   "execution_count": null,
   "metadata": {
    "collapsed": false
   },
   "outputs": [],
   "source": []
  },
  {
   "cell_type": "code",
   "execution_count": null,
   "metadata": {
    "collapsed": false
   },
   "outputs": [],
   "source": []
  },
  {
   "cell_type": "code",
   "execution_count": null,
   "metadata": {
    "collapsed": false
   },
   "outputs": [],
   "source": []
  },
  {
   "cell_type": "code",
   "execution_count": null,
   "metadata": {
    "collapsed": false
   },
   "outputs": [],
   "source": []
  },
  {
   "cell_type": "code",
   "execution_count": null,
   "metadata": {
    "collapsed": true
   },
   "outputs": [],
   "source": []
  }
 ],
 "metadata": {
  "anaconda-cloud": {},
  "kernelspec": {
   "display_name": "Julia 0.5.0",
   "language": "julia",
   "name": "julia-0.5"
  },
  "language_info": {
   "file_extension": ".jl",
   "mimetype": "application/julia",
   "name": "julia",
   "version": "0.5.0"
  }
 },
 "nbformat": 4,
 "nbformat_minor": 1
}
