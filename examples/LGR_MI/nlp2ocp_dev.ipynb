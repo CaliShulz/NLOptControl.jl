{
 "cells": [
  {
   "cell_type": "markdown",
   "metadata": {},
   "source": [
    "initialize_NLP() was modified from dev version to allow for kwargs..."
   ]
  },
  {
   "cell_type": "code",
   "execution_count": 2,
   "metadata": {
    "collapsed": false
   },
   "outputs": [],
   "source": [
    "using NLOptControl\n",
    "using Plots\n",
    "using Polynomials\n",
    "using FastGaussQuadrature\n",
    "using Parameters"
   ]
  },
  {
   "cell_type": "code",
   "execution_count": 19,
   "metadata": {
    "collapsed": false
   },
   "outputs": [
    {
     "data": {
      "text/plain": [
       "16-element Array{Float64,1}:\n",
       " -0.3    \n",
       "  4.08031\n",
       "  7.01969\n",
       "  7.2    \n",
       "  7.2    \n",
       "  6.25454\n",
       "  1.84546\n",
       " -0.3    \n",
       "  0.0    \n",
       "  0.0    \n",
       "  0.0    \n",
       "  0.0    \n",
       "  0.0    \n",
       "  0.0    \n",
       "  0.0    \n",
       " 10.0    "
      ]
     },
     "execution_count": 19,
     "metadata": {},
     "output_type": "execute_result"
    }
   ],
   "source": [
    "# initialize basic problem definition\n",
    "ps, nlp = initialize_NLP(numStates=1,numControls=1,Ni=2,Nck=[3, 3]);\n",
    "\n",
    "####################################\n",
    "# perform analytical calcualtions -> for plots\n",
    "####################################\n",
    "@unpack t0, tf = ps\n",
    "t0 = Float64(0); tf = Float64(10);\n",
    "@pack ps = t0, tf\n",
    "t = Array(linspace(t0,tf,100));\n",
    "α₁ =  -0.3; α₂ = 3; α₃ = -8; α₄ =  7;\n",
    "\n",
    "γ = Poly([α₁,α₂,α₁]); #TODO check on that imported binding warning\n",
    "y = polyval(γ,t);\n",
    "\n",
    "# evaluate the integral\n",
    "∫γ = polyint(γ);\n",
    "Y = polyval(∫γ,t[end]) - polyval(∫γ,t[1]);\n",
    "C = Y - polyval(∫γ,t[end]); # constant of integration\n",
    "∫y = polyval(∫γ,t) + C;\n",
    "\n",
    "# evaluate the derivative\n",
    "dγ = polyder(γ);\n",
    "dy = polyval(dγ,t);\n",
    "\n",
    "##TEMP## -->to get fake optimization data\n",
    "@unpack Nck, Ni, t0, tf = ps\n",
    "taus_and_weights = [gaussradau(Nck[int]) for int in 1:Ni];\n",
    "τ = [taus_and_weights[int][1] for int in 1:Ni];\n",
    "ω = [taus_and_weights[int][2] for int in 1:Ni];\n",
    "di, tm, t_data, ωₛ=create_intervals(t0,tf,Ni,Nck,τ,ω);\n",
    "@pack ps = τ, ω\n",
    "\n",
    "\n",
    "@unpack decisionVector, lengthControlVector = nlp\n",
    "fake_control_data = zeros(lengthControlVector,);\n",
    "ts = [t_data[1]; t_data[2]]\n",
    "if Ni > 2 \n",
    "    error(\"fix ts\")\n",
    "end\n",
    "fake_state_data = polyval(γ,ts);\n",
    "decisionVector=[fake_state_data[:];fake_control_data;t0;tf]; # for now looking at no controls\n",
    "@pack  nlp = decisionVector\n",
    "\n",
    "##TEMP## -->to get fake optimization data"
   ]
  },
  {
   "cell_type": "code",
   "execution_count": 23,
   "metadata": {
    "collapsed": false
   },
   "outputs": [
    {
     "data": {
      "text/plain": [
       "NLOptControl.PS_data\n",
       "  Nck: [3,3]\n",
       "  Ni: 2\n",
       "  τ: Array{Float64,1}[[-1.0,-0.289898,0.689898],[-1.0,-0.289898,0.689898]]\n",
       "  ω: Array{Float64,1}[[0.222222,1.02497,0.752806],[0.222222,1.02497,0.752806]]\n",
       "  t0: 0.0\n",
       "  tf: 10.0\n",
       "  stateMatrix: Array{Float64,2}[\n",
       "[0.0; 0.0; 0.0; 0.0],\n",
       "\n",
       "[0.0; 0.0; 0.0; 0.0]]\n",
       "  controlMatrix: Array{Float64,2}[\n",
       "[0.0; 0.0; 0.0],\n",
       "\n",
       "[0.0; 0.0; 0.0]]"
      ]
     },
     "execution_count": 23,
     "metadata": {},
     "output_type": "execute_result"
    }
   ],
   "source": [
    "ps"
   ]
  },
  {
   "cell_type": "code",
   "execution_count": 24,
   "metadata": {
    "collapsed": false
   },
   "outputs": [
    {
     "data": {
      "text/plain": [
       "NLOptControl.NLP_data\n",
       "  numStates: 1\n",
       "  numStatePoints: [4,4]\n",
       "  lengthStateVector: 8\n",
       "  numControls: 1\n",
       "  numControlPoints: [3,3]\n",
       "  lengthControlVector: 6\n",
       "  lengthDecVector: 16\n",
       "  stateStartIdx: 1\n",
       "  stateStopIdx: 8\n",
       "  controlStartIdx: 9\n",
       "  controlStopIdx: 14\n",
       "  timeStartIdx: 15\n",
       "  timeStopIdx: 16\n",
       "  stateVector: [0.0,0.0,0.0,0.0,0.0,0.0,0.0,0.0]\n",
       "  controlVector: [0.0,0.0,0.0,0.0,0.0,0.0]\n",
       "  decisionVector: [-0.3,4.08031,7.01969,7.2,7.2,6.25454,1.84546,-0.3,0.0,0.0,0.0,0.0,0.0,0.0,0.0,10.0]"
      ]
     },
     "execution_count": 24,
     "metadata": {},
     "output_type": "execute_result"
    }
   ],
   "source": [
    "nlp"
   ]
  },
  {
   "cell_type": "code",
   "execution_count": 22,
   "metadata": {
    "collapsed": false
   },
   "outputs": [
    {
     "name": "stderr",
     "output_type": "stream",
     "text": [
      "WARNING: Method definition nlp2ocp(Array{Float64, 1}, NLOptControl.NLP_data, NLOptControl.PS_data) in module Main at In[21]:2 overwritten at In[22]:2.\n"
     ]
    },
    {
     "ename": "LoadError",
     "evalue": "MethodError: no method matching one(::Array{Int64,1})\nClosest candidates are:\n  one(!Matched::Type{Measures.Length{:mm,Float64}}) at /home/febbo/.julia/v0.5/Plots/src/layouts.jl:17\n  one(!Matched::Type{Measures.Length{:pct,Float64}}) at /home/febbo/.julia/v0.5/Plots/src/layouts.jl:35\n  one(!Matched::BitArray{2}) at bitarray.jl:413\n  ...",
     "output_type": "error",
     "traceback": [
      "MethodError: no method matching one(::Array{Int64,1})\nClosest candidates are:\n  one(!Matched::Type{Measures.Length{:mm,Float64}}) at /home/febbo/.julia/v0.5/Plots/src/layouts.jl:17\n  one(!Matched::Type{Measures.Length{:pct,Float64}}) at /home/febbo/.julia/v0.5/Plots/src/layouts.jl:35\n  one(!Matched::BitArray{2}) at bitarray.jl:413\n  ...",
      "",
      " in nlp2ocp(::Array{Float64,1}, ::NLOptControl.NLP_data, ::NLOptControl.PS_data) at ./In[22]:19"
     ]
    }
   ],
   "source": [
    "function nlp2ocp(decisionVector::Array{Float64,1},nlp::NLP_data,ps::PS_data)\n",
    "    @unpack t0, tf, stateMatrix, controlMatrix, Ni = ps\n",
    "    @unpack stateVector,stateStartIdx,stateStopIdx,numStates,numStatePoints = nlp \n",
    "    @unpack controlVector,controlStartIdx,controlStopIdx,numControls,numControlPoints = nlp \n",
    "    @unpack timeStartIdx,timeStopIdx = nlp \n",
    "    # @unpack_* macro will shadow input argument with the same name as a type-fieldname; see--> http://parametersjl.readthedocs.io/en/latest/manual/#parameters-manual\n",
    "    # this can be a HUGE headache!!\n",
    "    \n",
    "    # update parameters \n",
    "    stateVector = decisionVector[stateStartIdx:stateStopIdx]; \n",
    "    controlVector = decisionVector[controlStartIdx:controlStopIdx];\n",
    "    t0 = decisionVector[timeStartIdx];\n",
    "    tf = decisionVector[timeStopIdx];\n",
    "    \n",
    "    # break up problem to evaluate constraints\n",
    "    for state in 1:numStates\n",
    "        for int in 1:Ni # intervals\n",
    "            if int == 1\n",
    "                stateMatrix[:,1] = stateVector[state*numStatePoints:(state+1)*numStatePoints];\n",
    "            else\n",
    "                stateMatrix[:,int] = stateVector[state*int*numStatePoints:(state*int+1)*numStatePoints];\n",
    "            end\n",
    "        end\n",
    "    end\n",
    "    for control in 1:numControls\n",
    "        for int in 1:Ni # intervals\n",
    "            if int == 1 \n",
    "                controlMatrix[:,1] = controlVector[control:control*numControlPoints];\n",
    "            else\n",
    "                controlMatrix[:,int] = controlVector[control*int*numControlPoints:(control*int+1)*numControlPoints];\n",
    "            end\n",
    "        end\n",
    "    end\n",
    "\n",
    "    @pack ps = t0, tf, stateMatrix, controlMatrix \n",
    "    @pack nlp = stateVector, controlVector # TODO may not be necessary to update this or even have this...they could be local variables\n",
    "end\n",
    "\n",
    "nlp2ocp(decisionVector,nlp,ps);\n",
    "\n",
    "@unpack_PS_data ps\n",
    "@unpack_NLP_data nlp\n",
    "print(nlp,\"\\n\",\"\\n\")\n",
    "print(ps)"
   ]
  },
  {
   "cell_type": "code",
   "execution_count": null,
   "metadata": {
    "collapsed": false
   },
   "outputs": [],
   "source": [
    " A=[4,4,4]"
   ]
  },
  {
   "cell_type": "code",
   "execution_count": null,
   "metadata": {
    "collapsed": false
   },
   "outputs": [],
   "source": [
    "idx = cumsum(A)"
   ]
  },
  {
   "cell_type": "code",
   "execution_count": null,
   "metadata": {
    "collapsed": false
   },
   "outputs": [],
   "source": [
    "# defect constraints - > the states meet at the end and beginning of each mesh interval (2,3..,Ni)\n",
    "xd=lgr_diff(Nc,Ni,x,t_data)"
   ]
  },
  {
   "cell_type": "code",
   "execution_count": null,
   "metadata": {
    "collapsed": false
   },
   "outputs": [],
   "source": []
  },
  {
   "cell_type": "code",
   "execution_count": null,
   "metadata": {
    "collapsed": false
   },
   "outputs": [],
   "source": [
    "Ni"
   ]
  },
  {
   "cell_type": "code",
   "execution_count": null,
   "metadata": {
    "collapsed": true
   },
   "outputs": [],
   "source": []
  }
 ],
 "metadata": {
  "kernelspec": {
   "display_name": "Julia 0.5.0",
   "language": "julia",
   "name": "julia-0.5"
  },
  "language_info": {
   "file_extension": ".jl",
   "mimetype": "application/julia",
   "name": "julia",
   "version": "0.5.0"
  }
 },
 "nbformat": 4,
 "nbformat_minor": 1
}
