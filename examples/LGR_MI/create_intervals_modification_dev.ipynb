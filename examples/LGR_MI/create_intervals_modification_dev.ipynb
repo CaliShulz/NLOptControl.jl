{
 "cells": [
  {
   "cell_type": "markdown",
   "metadata": {},
   "source": [
    "initialize_NLP() was modified from dev version to allow for kwargs..."
   ]
  },
  {
   "cell_type": "code",
   "execution_count": 3,
   "metadata": {
    "collapsed": false
   },
   "outputs": [
    {
     "name": "stderr",
     "output_type": "stream",
     "text": [
      "WARNING: using NLOptControl.create_intervals in module Main conflicts with an existing identifier.\n"
     ]
    }
   ],
   "source": [
    "using NLOptControl\n",
    "using Plots\n",
    "using Polynomials\n",
    "using FastGaussQuadrature\n",
    "using Parameters"
   ]
  },
  {
   "cell_type": "code",
   "execution_count": 4,
   "metadata": {
    "collapsed": false
   },
   "outputs": [],
   "source": [
    "# initialize basic problem definition\n",
    "ps, nlp = initialize_NLP(numStates=1,numControls=1,Ni=2,Nck=[3, 3]);"
   ]
  },
  {
   "cell_type": "code",
   "execution_count": 3,
   "metadata": {
    "collapsed": false
   },
   "outputs": [
    {
     "data": {
      "text/plain": [
       "NLOptControl.NLP_data\n",
       "  numStates: 1\n",
       "  numStatePoints: [4,4]\n",
       "  lengthStateVector: 8\n",
       "  numControls: 1\n",
       "  numControlPoints: [3,3]\n",
       "  lengthControlVector: 6\n",
       "  lengthDecVector: 16\n",
       "  stateStartIdx: 1\n",
       "  stateStopIdx: 8\n",
       "  controlStartIdx: 9\n",
       "  controlStopIdx: 14\n",
       "  timeStartIdx: 15\n",
       "  timeStopIdx: 16\n",
       "  stateVector: [0.0,0.0,0.0,0.0,0.0,0.0,0.0,0.0]\n",
       "  controlVector: [0.0,0.0,0.0,0.0,0.0,0.0]\n",
       "  decisionVector: [0.0,0.0,0.0,0.0,0.0,0.0,0.0,0.0,0.0,0.0,0.0,0.0,0.0,0.0,0.0,0.0]"
      ]
     },
     "execution_count": 3,
     "metadata": {},
     "output_type": "execute_result"
    }
   ],
   "source": [
    "nlp"
   ]
  },
  {
   "cell_type": "code",
   "execution_count": 4,
   "metadata": {
    "collapsed": false
   },
   "outputs": [
    {
     "data": {
      "text/plain": [
       "NLOptControl.PS_data\n",
       "  Nck: [3,3]\n",
       "  Ni: 2\n",
       "  τ: Array{Float64,1}[[-1.0,-0.289898,0.689898],[-1.0,-0.289898,0.689898]]\n",
       "  ω: Array{Float64,1}[[0.222222,1.02497,0.752806],[0.222222,1.02497,0.752806]]\n",
       "  t0: 0.0\n",
       "  tf: 0.0\n",
       "  stateMatrix: Array{Float64,2}[\n",
       "[0.0; 0.0; 0.0; 0.0],\n",
       "\n",
       "[0.0; 0.0; 0.0; 0.0]]\n",
       "  controlMatrix: Array{Float64,2}[\n",
       "[0.0; 0.0; 0.0],\n",
       "\n",
       "[0.0; 0.0; 0.0]]"
      ]
     },
     "execution_count": 4,
     "metadata": {},
     "output_type": "execute_result"
    }
   ],
   "source": [
    "ps"
   ]
  },
  {
   "cell_type": "code",
   "execution_count": 5,
   "metadata": {
    "collapsed": true
   },
   "outputs": [],
   "source": [
    "# define problem\n",
    "α₁ =  -0.3; α₂ = 3; α₃ = -8; α₄ =  7;\n",
    "@unpack t0, tf = ps;\n",
    "t0 = 0.0;\n",
    "tf = 10.0;\n",
    "@pack ps = t0,tf;  \n",
    "t = Array(linspace(t0,tf,100));"
   ]
  },
  {
   "cell_type": "code",
   "execution_count": 9,
   "metadata": {
    "collapsed": false
   },
   "outputs": [
    {
     "name": "stderr",
     "output_type": "stream",
     "text": [
      "WARNING: Method definition create_intervals(Float64, Float64, Int64, Array{Int64, 1}, Array{Array{Float64, 1}, 1}, Array{Array{Float64, 1}, 1}) in module Main at In[6]:2 overwritten at In[9]:2.\n"
     ]
    },
    {
     "data": {
      "text/plain": [
       "create_intervals (generic function with 1 method)"
      ]
     },
     "execution_count": 9,
     "metadata": {},
     "output_type": "execute_result"
    }
   ],
   "source": [
    "function create_intervals(t0::Float64,tf::Float64,Ni::Int64,Nck::Array{Int64,1},τ::Array{Vector{Float64},1},ω::Array{Vector{Float64},1})\n",
    "  di = (tf - t0)/Ni; # interval size\n",
    "  # create mesh points\n",
    "  tm = zeros(Float64,Ni+1); tm[1] = t0;\n",
    "  for idx in 1:Ni\n",
    "    tm[idx+1] = tm[idx] + di;\n",
    "  end\n",
    "    # go through each mesh interval creating time intervals; [t(i-1),t(i)] --> [-1,1]\n",
    "    ts=[[scale_tau(τ[int],tm[int],tm[int+1]);di*int] for int in 1:Ni];\n",
    "    ωₛ=[scale_w(ω[int],tm[int],tm[int+1]) for int in 1:Ni];\n",
    "    return di, tm, ts, ωₛ\n",
    "end"
   ]
  },
  {
   "cell_type": "code",
   "execution_count": 10,
   "metadata": {
    "collapsed": false
   },
   "outputs": [
    {
     "name": "stdout",
     "output_type": "stream",
     "text": [
      "5.0\n",
      "[0.0,5.0,10.0]\n",
      "Array{Float64,1}[[0.0,1.77526,4.22474,5.0],[5.0,6.77526,9.22474,10.0]]\n",
      "Array{Float64,1}[[0.555556,2.56243,1.88202],[0.555556,2.56243,1.88202]]\n"
     ]
    }
   ],
   "source": [
    "@unpack Nck, Ni, t0, tf = ps\n",
    "taus_and_weights = [gaussradau(Nck[int]) for int in 1:Ni];\n",
    "τ = [taus_and_weights[int][1] for int in 1:Ni];\n",
    "ω = [taus_and_weights[int][2] for int in 1:Ni];\n",
    "di, tm, ts, ωₛ=create_intervals(t0,tf,Ni,Nck,τ,ω);\n",
    "print(di,\"\\n\")\n",
    "print(tm,\"\\n\")\n",
    "print(ts,\"\\n\")\n",
    "print(ωₛ,\"\\n\")"
   ]
  },
  {
   "cell_type": "code",
   "execution_count": null,
   "metadata": {
    "collapsed": true
   },
   "outputs": [],
   "source": []
  },
  {
   "cell_type": "code",
   "execution_count": null,
   "metadata": {
    "collapsed": false
   },
   "outputs": [],
   "source": []
  },
  {
   "cell_type": "code",
   "execution_count": null,
   "metadata": {
    "collapsed": false
   },
   "outputs": [],
   "source": []
  },
  {
   "cell_type": "code",
   "execution_count": null,
   "metadata": {
    "collapsed": false
   },
   "outputs": [],
   "source": []
  },
  {
   "cell_type": "code",
   "execution_count": null,
   "metadata": {
    "collapsed": false
   },
   "outputs": [],
   "source": []
  },
  {
   "cell_type": "code",
   "execution_count": null,
   "metadata": {
    "collapsed": false
   },
   "outputs": [],
   "source": []
  },
  {
   "cell_type": "code",
   "execution_count": null,
   "metadata": {
    "collapsed": false
   },
   "outputs": [],
   "source": []
  },
  {
   "cell_type": "code",
   "execution_count": null,
   "metadata": {
    "collapsed": true
   },
   "outputs": [],
   "source": []
  }
 ],
 "metadata": {
  "anaconda-cloud": {},
  "kernelspec": {
   "display_name": "Julia 0.5.0",
   "language": "julia",
   "name": "julia-0.5"
  },
  "language_info": {
   "file_extension": ".jl",
   "mimetype": "application/julia",
   "name": "julia",
   "version": "0.5.0"
  }
 },
 "nbformat": 4,
 "nbformat_minor": 1
}
