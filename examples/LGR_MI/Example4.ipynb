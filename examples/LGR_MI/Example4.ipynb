{
 "cells": [
  {
   "cell_type": "markdown",
   "metadata": {},
   "source": [
    "We use the functionality to initialize the problem \n"
   ]
  },
  {
   "cell_type": "code",
   "execution_count": 1,
   "metadata": {
    "collapsed": false
   },
   "outputs": [],
   "source": [
    "using NLOptControl"
   ]
  },
  {
   "cell_type": "code",
   "execution_count": 2,
   "metadata": {
    "collapsed": false
   },
   "outputs": [
    {
     "name": "stdout",
     "output_type": "stream",
     "text": [
      "lengthStateVector = 4\n",
      "lengthControlVector = 3\n",
      "stateStartIdx = 1\n",
      "stateStopIdx = 4\n",
      "controlStartIdx = 5\n",
      "controlStopIdx = 7\n",
      "timeStartIdx = 8\n",
      "timeStopIdx = 9\n"
     ]
    }
   ],
   "source": [
    "Nc = 3;\n",
    "Ni = 1;\n",
    "numStates = 1;\n",
    "numControls = 1;\n",
    "\n",
    "ps_d, nlp_d = initialize_NLP(Nc,Ni,numStates,numControls);\n"
   ]
  },
  {
   "cell_type": "code",
   "execution_count": 3,
   "metadata": {
    "collapsed": false
   },
   "outputs": [
    {
     "data": {
      "text/plain": [
       "NLOptControl.PS_data\n",
       "  Nc: 3\n",
       "  Ni: 1\n",
       "  τ: [-1.0,-0.289898,0.689898]\n",
       "  ω: [0.222222,1.02497,0.752806]\n",
       "  t0: 0.0\n",
       "  tf: 0.0"
      ]
     },
     "execution_count": 3,
     "metadata": {},
     "output_type": "execute_result"
    }
   ],
   "source": [
    "ps_d"
   ]
  },
  {
   "cell_type": "code",
   "execution_count": 4,
   "metadata": {
    "collapsed": false
   },
   "outputs": [
    {
     "data": {
      "text/plain": [
       "NLOptControl.NLP_data\n",
       "  numStates: 1\n",
       "  numStatePoints: 4\n",
       "  lengthStateVector: 4\n",
       "  numControls: 1\n",
       "  numControlPoints: 3\n",
       "  lengthControlVector: 3\n",
       "  lengthDecVector: 9\n",
       "  stateStartIdx: 1\n",
       "  stateStopIdx: 4\n",
       "  controlStartIdx: 5\n",
       "  controlStopIdx: 7\n",
       "  timeStartIdx: 8\n",
       "  timeStopIdx: 9\n",
       "  stateVector: [0.0,0.0,0.0,0.0]\n",
       "  controlVector: [0.0,0.0,0.0]\n",
       "  decisionVector: [0.0,0.0,0.0,0.0,0.0,0.0,0.0,0.0,0.0]"
      ]
     },
     "execution_count": 4,
     "metadata": {},
     "output_type": "execute_result"
    }
   ],
   "source": [
    "nlp_d"
   ]
  },
  {
   "cell_type": "code",
   "execution_count": 5,
   "metadata": {
    "collapsed": false
   },
   "outputs": [
    {
     "name": "stdout",
     "output_type": "stream",
     "text": [
      "lengthStateVector = 8\n",
      "lengthControlVector = 6\n",
      "stateStartIdx = 1\n",
      "stateStopIdx = 8\n",
      "controlStartIdx = 9\n",
      "controlStopIdx = 14\n",
      "timeStartIdx = 15\n",
      "timeStopIdx = 16\n"
     ]
    }
   ],
   "source": [
    "Nc = 3;\n",
    "Ni = 2;\n",
    "numStates = 1;\n",
    "numControls = 1;\n",
    "\n",
    "ps, nlp = initialize_NLP(Nc,Ni,numStates,numControls);"
   ]
  },
  {
   "cell_type": "code",
   "execution_count": 6,
   "metadata": {
    "collapsed": false
   },
   "outputs": [
    {
     "data": {
      "text/plain": [
       "NLOptControl.PS_data\n",
       "  Nc: 3\n",
       "  Ni: 2\n",
       "  τ: [-1.0,-0.289898,0.689898]\n",
       "  ω: [0.222222,1.02497,0.752806]\n",
       "  t0: 0.0\n",
       "  tf: 0.0"
      ]
     },
     "execution_count": 6,
     "metadata": {},
     "output_type": "execute_result"
    }
   ],
   "source": [
    "ps"
   ]
  },
  {
   "cell_type": "code",
   "execution_count": 7,
   "metadata": {
    "collapsed": false
   },
   "outputs": [
    {
     "data": {
      "text/plain": [
       "NLOptControl.NLP_data\n",
       "  numStates: 1\n",
       "  numStatePoints: 8\n",
       "  lengthStateVector: 8\n",
       "  numControls: 1\n",
       "  numControlPoints: 6\n",
       "  lengthControlVector: 6\n",
       "  lengthDecVector: 16\n",
       "  stateStartIdx: 1\n",
       "  stateStopIdx: 8\n",
       "  controlStartIdx: 9\n",
       "  controlStopIdx: 14\n",
       "  timeStartIdx: 15\n",
       "  timeStopIdx: 16\n",
       "  stateVector: [0.0,0.0,0.0,0.0,0.0,0.0,0.0,0.0]\n",
       "  controlVector: [0.0,0.0,0.0,0.0,0.0,0.0]\n",
       "  decisionVector: [0.0,0.0,0.0,0.0,0.0,0.0,0.0,0.0,0.0,0.0,0.0,0.0,0.0,0.0,0.0,0.0]"
      ]
     },
     "execution_count": 7,
     "metadata": {},
     "output_type": "execute_result"
    }
   ],
   "source": [
    "nlp"
   ]
  },
  {
   "cell_type": "markdown",
   "metadata": {},
   "source": [
    "Test passing extra arguments functionality"
   ]
  },
  {
   "cell_type": "code",
   "execution_count": 12,
   "metadata": {
    "collapsed": false
   },
   "outputs": [
    {
     "name": "stdout",
     "output_type": "stream",
     "text": [
      "lengthStateVector = 32\n",
      "lengthControlVector = 36\n",
      "stateStartIdx = 1\n",
      "stateStopIdx = 32\n",
      "controlStartIdx = 33\n",
      "controlStopIdx = 68\n",
      "timeStartIdx = 69\n",
      "timeStopIdx = 70\n"
     ]
    }
   ],
   "source": [
    "Nc = 3;\n",
    "Ni = 4;\n",
    "numStates = 2;\n",
    "numControls = 3;\n",
    "\n",
    "# calculate general properties\n",
    "numStatePoints = (Nc+1)*Ni; # number of states dvs (decisionVector) for each interval and each state\n",
    "numControlPoints = Nc*Ni; # number of control dvs for each interval and each control\n",
    "\n",
    "# calculate length of vectors\n",
    "lengthStateVector = numStatePoints*numStates;\n",
    "lengthControlVector = numControlPoints*numControls;\n",
    "lengthDecVector = lengthStateVector + lengthControlVector + 2; # + 2 is for t0 and tf\n",
    "\n",
    "stateVector = ones(lengthStateVector,);\n",
    "controlVector = ones(lengthControlVector,);\n",
    "decisionVector = ones(lengthDecVector,);\n",
    "\n",
    "t0 = 0.0;\n",
    "tf = 10.0;\n",
    "ps, nlp = initialize_NLP(Nc,Ni,numStates,numControls,stateVector,controlVector,decisionVector, t0, tf);"
   ]
  },
  {
   "cell_type": "code",
   "execution_count": 9,
   "metadata": {
    "collapsed": false
   },
   "outputs": [],
   "source": [
    "    numStatePoints = (Nc+1)*Ni; # number of states dvs (decisionVector) for each interval and each state\n",
    "    numControlPoints = Nc*Ni; # number of control dvs for each interval and each control\n",
    "\n",
    "    # calculate length of vectors\n",
    "    lengthStateVector = numStatePoints*numStates;\n",
    "    lengthControlVector = numControlPoints*numControls;\n",
    "    lengthDecVector = lengthStateVector + lengthControlVector + 2;"
   ]
  },
  {
   "cell_type": "code",
   "execution_count": 10,
   "metadata": {
    "collapsed": false
   },
   "outputs": [
    {
     "data": {
      "text/plain": [
       "36"
      ]
     },
     "execution_count": 10,
     "metadata": {},
     "output_type": "execute_result"
    }
   ],
   "source": [
    "lengthControlVector"
   ]
  },
  {
   "cell_type": "markdown",
   "metadata": {},
   "source": [
    "# "
   ]
  },
  {
   "cell_type": "code",
   "execution_count": 11,
   "metadata": {
    "collapsed": false
   },
   "outputs": [
    {
     "data": {
      "text/plain": [
       "32"
      ]
     },
     "execution_count": 11,
     "metadata": {},
     "output_type": "execute_result"
    }
   ],
   "source": [
    "lengthStateVector"
   ]
  },
  {
   "cell_type": "code",
   "execution_count": 14,
   "metadata": {
    "collapsed": false
   },
   "outputs": [
    {
     "data": {
      "text/plain": [
       "2×2 Array{Int64,2}:\n",
       " 2  3\n",
       " 3  4"
      ]
     },
     "execution_count": 14,
     "metadata": {},
     "output_type": "execute_result"
    }
   ],
   "source": [
    "A =[2 3; 3 4]"
   ]
  },
  {
   "cell_type": "code",
   "execution_count": 21,
   "metadata": {
    "collapsed": false
   },
   "outputs": [
    {
     "name": "stdout",
     "output_type": "stream",
     "text": [
      "FF"
     ]
    }
   ],
   "source": [
    "A =[2 3; 3 4]\n",
    "row , column = size(A)\n",
    "if (row!=2 || column!= 3)  print(\"FF\") end"
   ]
  },
  {
   "cell_type": "code",
   "execution_count": 20,
   "metadata": {
    "collapsed": false
   },
   "outputs": [
    {
     "data": {
      "text/plain": [
       "2"
      ]
     },
     "execution_count": 20,
     "metadata": {},
     "output_type": "execute_result"
    }
   ],
   "source": []
  },
  {
   "cell_type": "code",
   "execution_count": null,
   "metadata": {
    "collapsed": true
   },
   "outputs": [],
   "source": []
  },
  {
   "cell_type": "code",
   "execution_count": null,
   "metadata": {
    "collapsed": false
   },
   "outputs": [],
   "source": []
  },
  {
   "cell_type": "code",
   "execution_count": null,
   "metadata": {
    "collapsed": false
   },
   "outputs": [],
   "source": []
  },
  {
   "cell_type": "code",
   "execution_count": null,
   "metadata": {
    "collapsed": false
   },
   "outputs": [],
   "source": []
  },
  {
   "cell_type": "code",
   "execution_count": null,
   "metadata": {
    "collapsed": true
   },
   "outputs": [],
   "source": []
  }
 ],
 "metadata": {
  "anaconda-cloud": {},
  "kernelspec": {
   "display_name": "Julia 0.5.0",
   "language": "julia",
   "name": "julia-0.5"
  },
  "language_info": {
   "file_extension": ".jl",
   "mimetype": "application/julia",
   "name": "julia",
   "version": "0.5.0"
  }
 },
 "nbformat": 4,
 "nbformat_minor": 1
}
