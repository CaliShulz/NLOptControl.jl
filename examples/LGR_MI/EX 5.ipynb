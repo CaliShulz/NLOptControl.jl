{
 "cells": [
  {
   "cell_type": "markdown",
   "metadata": {},
   "source": [
    "Use and test functionality created in nlp2ocp_dev"
   ]
  },
  {
   "cell_type": "code",
   "execution_count": 1,
   "metadata": {
    "collapsed": true
   },
   "outputs": [],
   "source": [
    "using NLOptControl\n",
    "using Parameters\n",
    "using Plots\n",
    "using Polynomials"
   ]
  },
  {
   "cell_type": "code",
   "execution_count": 2,
   "metadata": {
    "collapsed": false
   },
   "outputs": [
    {
     "data": {
      "text/plain": [
       "100-element Array{Float64,1}:\n",
       "  3.0    \n",
       "  2.93939\n",
       "  2.87879\n",
       "  2.81818\n",
       "  2.75758\n",
       "  2.69697\n",
       "  2.63636\n",
       "  2.57576\n",
       "  2.51515\n",
       "  2.45455\n",
       "  2.39394\n",
       "  2.33333\n",
       "  2.27273\n",
       "  ⋮      \n",
       " -2.33333\n",
       " -2.39394\n",
       " -2.45455\n",
       " -2.51515\n",
       " -2.57576\n",
       " -2.63636\n",
       " -2.69697\n",
       " -2.75758\n",
       " -2.81818\n",
       " -2.87879\n",
       " -2.93939\n",
       " -3.0    "
      ]
     },
     "execution_count": 2,
     "metadata": {},
     "output_type": "execute_result"
    }
   ],
   "source": [
    "############\n",
    "# TEST DATA\n",
    "############\n",
    "t0 = Float64(0); tf = Float64(10);\n",
    "t = Array(linspace(t0,tf,100));\n",
    "α₁ =  -0.3; α₂ = 3; α₃ = -8; α₄ =  7;\n",
    "\n",
    "γ = Poly([α₁,α₂,α₁]); #TODO check on that imported binding warning\n",
    "y = polyval(γ,t);\n",
    "\n",
    "# evaluate the integral\n",
    "∫γ = polyint(γ);\n",
    "Y = polyval(∫γ,t[end]) - polyval(∫γ,t[1]);\n",
    "C = Y - polyval(∫γ,t[end]); # constant of integration\n",
    "∫y = polyval(∫γ,t) + C;\n",
    "\n",
    "# evaluate the derivative\n",
    "dγ = polyder(γ);\n",
    "dy = polyval(dγ,t);\n",
    "############\n",
    "# TEST DATA\n",
    "############"
   ]
  },
  {
   "cell_type": "code",
   "execution_count": 3,
   "metadata": {
    "collapsed": false
   },
   "outputs": [
    {
     "data": {
      "text/html": [
       "10.0"
      ],
      "text/plain": [
       "10.0"
      ]
     },
     "execution_count": 3,
     "metadata": {},
     "output_type": "execute_result"
    }
   ],
   "source": [
    "ps, nlp = initialize_NLP(numStates=2,numControls=2,Ni=2,Nck=[3, 3]);\n",
    "@pack ps = t0, tf;  # given in problem def."
   ]
  },
  {
   "cell_type": "code",
   "execution_count": 4,
   "metadata": {
    "collapsed": false
   },
   "outputs": [],
   "source": [
    "@unpack Nck, Ni, t0, tf, τ, ω = ps;\n",
    "di, tm, ts, ωₛ = create_intervals(t0,tf,Ni,Nck,τ,ω);\n",
    "@pack ps = τ, ω, ωₛ, ts;\n"
   ]
  },
  {
   "cell_type": "code",
   "execution_count": 5,
   "metadata": {
    "collapsed": false
   },
   "outputs": [],
   "source": [
    "generate_Fake_data(nlp,ps,γ);"
   ]
  },
  {
   "cell_type": "code",
   "execution_count": 6,
   "metadata": {
    "collapsed": false
   },
   "outputs": [],
   "source": [
    "nlp2ocp(nlp,ps);\n"
   ]
  },
  {
   "cell_type": "code",
   "execution_count": 7,
   "metadata": {
    "collapsed": false
   },
   "outputs": [
    {
     "name": "stdout",
     "output_type": "stream",
     "text": [
      "Using default Gaussian quaratureUsing default Gaussian quaratureUsing default Gaussian quaratureUsing default Gaussian quarature"
     ]
    }
   ],
   "source": [
    "ζ, approx_int_st = integrate_state(ps,nlp)"
   ]
  },
  {
   "cell_type": "code",
   "execution_count": 8,
   "metadata": {
    "collapsed": false
   },
   "outputs": [
    {
     "name": "stdout",
     "output_type": "stream",
     "text": [
      "Using the Legendre-Gauss-Radau integration matrix (LGRIM)Using the Legendre-Gauss-Radau integration matrix (LGRIM)Using the Legendre-Gauss-Radau integration matrix (LGRIM)Using the Legendre-Gauss-Radau integration matrix (LGRIM)"
     ]
    },
    {
     "data": {
      "text/plain": [
       "(Array{Float64,2}[\n",
       "[0.0 0.0 0.0; 0.0 0.0 0.0],\n",
       "\n",
       "[0.0 0.0 0.0; 0.0 0.0 0.0]],\n",
       "[0.0; 0.0])"
      ]
     },
     "execution_count": 8,
     "metadata": {},
     "output_type": "execute_result"
    }
   ],
   "source": [
    "ζ, approx_int_st = integrate_state(ps,nlp;(:mode=>:LGRIM))"
   ]
  },
  {
   "cell_type": "markdown",
   "metadata": {},
   "source": [
    "# Make sure that you calculate the IMatrix before you try and use it!"
   ]
  },
  {
   "cell_type": "code",
   "execution_count": 9,
   "metadata": {
    "collapsed": false
   },
   "outputs": [
    {
     "ename": "LoadError",
     "evalue": "type Tuple is immutable",
     "output_type": "error",
     "traceback": [
      "type Tuple is immutable",
      "",
      " in macro expansion at /home/febbo/.julia/v0.5/Parameters/src/Parameters.jl:541 [inlined]",
      " in LGR_matrices(::NLOptControl.PS_data, ::NLOptControl.NLP_data) at /home/febbo/.julia/v0.5/NLOptControl/src/LGR.jl:22"
     ]
    }
   ],
   "source": [
    "LGR_matrices(ps,nlp)"
   ]
  },
  {
   "cell_type": "code",
   "execution_count": 10,
   "metadata": {
    "collapsed": false
   },
   "outputs": [
    {
     "data": {
      "text/plain": [
       "NLOptControl.PS_data\n",
       "  Nck: [3,3]\n",
       "  Ni: 2\n",
       "  τ: Array{Float64,1}[[-1.0,-0.289898,0.689898],[-1.0,-0.289898,0.689898]]\n",
       "  ts: Array{Float64,1}[[0.0,1.77526,4.22474,5.0],[5.0,6.77526,9.22474,10.0]]\n",
       "  ω: Array{Float64,1}[[0.222222,1.02497,0.752806],[0.222222,1.02497,0.752806]]\n",
       "  ωₛ: Array{Float64,1}[[0.555556,2.56243,1.88202],[0.555556,2.56243,1.88202]]\n",
       "  t0: 0.0\n",
       "  tf: 10.0\n",
       "  DMatrix: Array{Float64,2}[\n",
       "[-1.0 1.50639 -1.10639 0.6; -0.210639 -0.155051 0.713568 -0.347878; 0.0506395 -0.233568 -0.644949 0.827878],\n",
       "\n",
       "[-1.0 1.50639 -1.10639 0.6; -0.210639 -0.155051 0.713568 -0.347878; 0.0506395 -0.233568 -0.644949 0.827878]]\n",
       "  IMatrix: Array{Float64,2}[\n",
       "[0.763299 1.10206 -0.0901063; 0.436701 2.89011 0.897938; 0.555556 2.56243 1.88202],\n",
       "\n",
       "[0.763299 1.10206 -0.0901063; 0.436701 2.89011 0.897938; 0.555556 2.56243 1.88202]]\n",
       "  stateMatrix: Array{Float64,2}[\n",
       "[-0.3 0.0; 4.08031 0.0; 7.01969 0.0; 7.2 0.0],\n",
       "\n",
       "[7.2 0.0; 6.25454 0.0; 1.84546 0.0; -0.3 0.0]]\n",
       "  controlMatrix: Array{Float64,2}[\n",
       "[0.0 0.0; 0.0 0.0; 0.0 0.0],\n",
       "\n",
       "[0.0 0.0; 0.0 0.0; 0.0 0.0]]"
      ]
     },
     "execution_count": 10,
     "metadata": {},
     "output_type": "execute_result"
    }
   ],
   "source": [
    "ps"
   ]
  },
  {
   "cell_type": "code",
   "execution_count": 11,
   "metadata": {
    "collapsed": false
   },
   "outputs": [
    {
     "name": "stdout",
     "output_type": "stream",
     "text": [
      "Using the Legendre-Gauss-Radau integration matrix (LGRIM)Using the Legendre-Gauss-Radau integration matrix (LGRIM)Using the Legendre-Gauss-Radau integration matrix (LGRIM)Using the Legendre-Gauss-Radau integration matrix (LGRIM)"
     ]
    }
   ],
   "source": [
    "ζ, approx_int_st = integrate_state(ps,nlp;(:mode=>:LGRIM))"
   ]
  },
  {
   "cell_type": "markdown",
   "metadata": {
    "collapsed": false
   },
   "source": [
    "# SAME FINAL RESULT AS OTHER ONE! --> there are differences in intermediate values though"
   ]
  },
  {
   "cell_type": "code",
   "execution_count": 13,
   "metadata": {
    "collapsed": false
   },
   "outputs": [
    {
     "data": {
      "text/plain": [
       "2-element Array{Array{Float64,2},1}:\n",
       " [3.0 1.93485 0.465153; 0.0 0.0 0.0]          \n",
       " [-2.22045e-15 -1.06515 -2.53485; 0.0 0.0 0.0]"
      ]
     },
     "execution_count": 13,
     "metadata": {},
     "output_type": "execute_result"
    }
   ],
   "source": [
    "dζ = differentiate_state(ps,nlp)"
   ]
  },
  {
   "cell_type": "code",
   "execution_count": null,
   "metadata": {
    "collapsed": false
   },
   "outputs": [],
   "source": []
  },
  {
   "cell_type": "code",
   "execution_count": 18,
   "metadata": {
    "collapsed": false
   },
   "outputs": [
    {
     "data": {
      "text/html": [
       "<img src=\"data:image/png;base64,iVBORw0KGgoAAAANSUhEUgAAAlgAAAGQCAYAAAByNR6YAAAABHNCSVQICAgIfAhkiAAAAAlwSFlzAAAPYQAAD2EBqD+naQAAIABJREFUeJzs3Xl4FGW6NvC7qjoQAwlbBAHZhBAjJGRhC7IIIiBLCIKKwGF3O3Kc0QOMy2FkGR3BwREBB/1AUMEoa1hllVUIS8IS1kBAQEQgsmUhJF1V3x8ZMgZCuivppN6uun/XxeVld7/Vb+VOJU+erqpX0nVdBxERERF5jGz2BIiIiIishgUWERERkYc5PL3BtLQ0rFu3DvXr18cDDzzg6c0TERERCeXWrVv4+eef0bVrVwQGBgIohQJr3bp1GDRokKc3S0RERCS0+fPnY+DAgQBKocCqX79+/puEhIR4evPkAX/+85/xySefmD0NKgIzEhvzER8zEp+VMjp27BgGDRqUXwMBpVBg3flYMCQkBJGRkZ7ePHlA5cqVmY3gmJHYmI/4mJH4rJjRH0+N8niBdcexY8cKfdzf3x9BQUGl9bbkhpycHLOnQC4wI7ExH/ExI/FZPaNSK7CKOg8rJSWFRZaJDhw4YPYUyAVmJDbm475z584hLS2tzN937969SEpKKvP3Jfd5c0aBgYGoW7duka8ptQLr066haFS1YoHHTl3NwOvrkpGenl5ab0tuCA4ONnsK5AIzEhvzcc+5c+cQEhKCrKwsU94/KirKlPcl93lrRn5+fjh27FiRRVapFViNqlZEaPWA0to8lcArr7xi9hTIBWYkNubjnrS0NGRlZfGiJ7KUOye0p6WlmVNgkbheeOEFs6dALjAjsTEfY3jRE9kR7+RORERE5GEssGxozpw5Zk+BXGBGYmM+nnH9to4jV4v/7/pt3exdILovfkRoQ0lJSRgxYoTZ06AiMCOxMZ+S+ek3Df/9k4pDV0u2HQlAaFXgX20VtKlR/H7Bgw8+iMTERJdXhf3RypUrsWXLFkydOrXY7/vVV18hOjoajRs39tg2SRymdLAWnlah6fzLwywzZ840ewrkAjMSG/Mpvg2/aOi4uuTFFQDoAA5dBZ5YpWLDL1qxtyNJkqHXq6qKXr16lbgQmjdvHo4fP57//57YJonDlAJr8gEdXX9QcS6DRRYRkV3ouo5392nILX4tVKhcDfi/fRp0N/9wX7FiBR577DGEh4fjL3/5S/7jp06dQs+ePdGqVSuEh4fjs88+y39OlmWMHz8eLVu2xDvvvIOvvvoKffr0AQB06dIFS5cuzX/t1q1b80/qj4uLQ+vWrREVFYWIiAisWrUKQN7HzPv27cMbb7yByMhIrF271u1tZmRk4KWXXkLr1q0RHh6OV155BU6nszhfOipFpp2DtfGCjtDFTsxLcf+gICIi73UjB9h7pXR+3u+5ouOGGzcGv3LlCoYPH45ly5bhwIEDaNSoEX7//XeoqooXXngBH3/8MXbv3o1du3bh888/R2JiYv5YHx8f7NmzB5MnTwbwn87XsGHDMHfu3PzXzZ07FyNHjgQAdOvWDQkJCUhMTER8fDxefPFF5ObmYsSIEWjevDn++c9/IikpCd26dXN7m//7v/+L9u3bIyEhAQcOHICqqpg2bVoJvnpUGkw9yf1mLjBsq4re61X8lsUii4iISldCQgKaNWuWf7PYESNGoFy5crh9+zaOHDmC/v37IyIiAm3atEFGRgaOHj2aP3bYsGGFbrNPnz7YvXs3Ll26hMzMTKxatSr/Vh6nT5/G008/jdDQUMTGxuLatWs4c+aMy3kWts0BAwYAAOLj4/HRRx8hIiICERER2LFjB06dOlXSLw15mBAnua88p6PJYif+9biC5xrywsbSFhMTgxUrVpg9DSoCMxIb8ymeSuWAFg9KpdLFavmghErlij9e13VUq1btvku3SJKEihUrFvqcr68vnn32WXz99dd48MEH8eSTT6JKlSoAgP79+2PKlCn5H/1Vq1YN2dnZLudT2DYrV66c//ySJUvQqFEjo7tJZUiYaubqbeD5H1X03+TE79nsZpWmUaNGmT0FcoEZiY35FI8kSXi/uQwfD//m8ZGB91vIbp2sHh0djUOHDiElJQUA8OWXXyInJwfly5dHQEAA5s2bl//a1NRUXL9+HQBcnsoydOhQzJ07F/PmzcPw4cPzH79+/Trq168PAJg/fz6uXbuW/1xAQABu3LhheJuxsbGYPHkyVFXNf4/U1FSX+05lq9QKrFNXM5B8+WaBf6euZrgc9/3pvG7WyrMePguS8nXp0sXsKZALzEhszKf4nnpYxpaeCsKq5t1moSQkAGFVgS09FXSu7d6vs8DAQHz55ZeIjY1FREQEUlNTUa1aNTgcDqxatQpLly5FeHg4mjZtipEjR+LWrVt57+WieGvRogUURcHp06cLfH9MmzYNffv2RVRUFA4ePIh69erlP/fSSy/h/fffzz/J3d1t/vOf/4Svry/Cw8PRrFkzdO7cGWfPnnVr/6nsSLqHzzBPSkpyvXjjpCNAjSCX2xraWMIn0QoqlSvpYUhERGXtzu+DxMTEQpfKuX5bx4XM4m+/dgWgcnn+fqCyVdj3dWGPldo5WH9c3DM9R8c/DqlYdQ6Ab0W3iisAmJeiY9MFJ77s4P5fJ0RE5B0ql5dQubzZsyAqHaVWtdxZ3DMyMhIdWkdh5UstET+yOarXd6+4uuN8JvDUGhWv/aQiI5fnZnlCfHy82VMgF5iR2JgPEblSpm2h3vVlHOnnQL8Gxlu6nx3V0GyJEzt+47lZJRUXF2f2FMgFZiQ25kNErpT5526BvhIWPqkgrpOCKgZbw6fTgfYrVYxOUJHtZDeruL7//nuzp0AuMCOxMR8icsWU+2BJkoT+DSV0qCnhxW0qVp93v1jSAUxN1rDmvIavnlDQ4kGem0VE5M1OnjyJ9PR0w+P8/f0RFGTstBOismLqjUZr+klY2VXBvBQdf9qlIj3X/bHHrgPRy1W8E67j/yJklFN4JQkRkbc5efIkGjduXOzxKSkpLLJISKa3fyRJwrBgGcl9HehUy+CK5jowab+GVsudSL7KjwyJiLzNnc7Vp11DseaFaLf/fdo1tMB4K7h48SI6dOjg0W2ePXsWn3/+uUe2NXPmzPsuF+RKz549cfLkyWK/d2H7UdJt3m3u3LkICwuDj48PPv300xJvz/QC6456/hI2dFcwo40MP4N9tQO/A1HLnPjwgAqnxkLLleIeIFR2mJHYmI/nNapaEaHVA9z+16hq4cvWiODOHdaNqlmzJrZu3erRuZw5cwazZs3y2PbcuVv+H+m6Dl3XsWrVqhJ1Ggvbj5Ju827NmzfHokWLMHDgQI9sT5gCCwBkScJrTRQcfMaBx2sYCzFXA97eq6HdShUp11lkFYV3oRYfMxIb8/FugwYNQsuWLREeHo5evXrh8uXLAPK6JFWqVMGYMWPQrFkzhIaGYtOmTW4/99ZbbyEqKgozZ85EZmYmRowYgdDQUISFhWHixIkAgOzsbISHh2PJkiUAgF27dqFBgwb4/fff87dzhyzL+OCDD9C6dWs88sgjWL58OT788EO0aNECwcHB2LZtG4C8gq5bt25o2bIlQkNDMWjQoPw70L/66qtISUlBZGQkYmNjAQCnTp1Cz5490apVK4SHh+Ozzz4r9OuUkZGB/v37IyQkBO3bt0dycnKB56dOnYrWrVujefPm6N69O86fPw8AmDBhAvr164du3bohNDQUFy9eRIMGDXDo0CHs3LkTYWFhBbbTsWNHrFy50vB+uLNNAFi/fj3atWuHFi1aoHXr1tiyZUuh+xsaGorg4GDDReT9CFVg3dGokoStPRV81EpGecXY2ITLOpotdWLaYRWaZ29Sbxl3VnkncTEjsTEf7zZt2jTs2bMHBw4cQNu2bfHee+/lP3fjxg00adIEBw8exOzZszFgwABkZma69VxoaCgSExPx+uuvY9KkScjJyUFycjISEhIQHx+PRYsWwdfXF4sWLcKbb76Jffv2YdCgQViwYAGqVasG4N4OUUBAABISEjB79mwMGjQItWvXxt69e/H+++9j9OjRAABFURAXF4c9e/YgOTkZAQEBmD59OgBg1qxZCA4ORlJSEuLj46FpGl544QV8/PHH2L17N3bt2oXPP/8ciYmJ93ydJk6cCF9fXxw7dgyrVq3KL+iAvFuVnDhxArt27cK+ffswYMAAvPrqq/nPJyQkYP78+Th8+DBq1aqV/3ibNm2Qk5OTv6j26dOnkZKSgh49ehjajz8qaptnzpzB+PHj8cMPP2Dv3r1YsGABBgwYgNxcAyd9F5OpJ7kXRZEljA5T0L2OjMFbVCSmuV8sZavAn3dpiP9Zx5ftFTQI4AnwRESUZ/78+Zg/fz6ys7Nx+/ZtBAYG5j/n4+ODIUOGAABatWqF2rVrY//+/ahTp06Rz5UrV67AR0sbN27Exx9/DADw8/PD4MGDsWHDBjz77LMICgrChx9+iOjoaEyaNAlt2rS571yfe+45AHkfX2VlZeH5558HALRs2RKnTp0CkPcx3NSpU7FmzRo4nU7cvHnzvts8ceIEjhw5gv79++cvYJ2RkYGjR4/es8zdpk2b8MknnwDIK/QGDBiA06dPA8i72e6+ffvyl4XRNK1Acdi9e/cCX9c/urOIdWRkJL7++msMHDgQsiwb2g93t7l27Vqkpqaiffv2+fvrcDhw7tw5NGzY0K1tF5ewBdYdj1WRsKu3gr8f0DApSYOR219tuagjbKkTU1spePFRyWNtPyIi8k4//fQTpk+fjt27d6NatWpYuXJlgQ7W3XRdv+/vjj8+5+fnV+T73r2NxMREVK9ePf9jtfuN8fX1BZDXpQKAcuXK5f+/0+kEACxYsABbtmzB9u3bUaFCBUyfPh2bN2++75yrVauW3+0x4o/7oOs63n77bYwcObLQ11aseP9z5IYMGYLw8HB89NFH+Prrr7F69WoAwLfffuv2fri7TV3X8dRTT2H+/Pnu7qbHCPkR4d18ZAl/jVSwO9aBplVcv/6PMnKBl3eoeHqtiguZ/MgQAHbs2GH2FMgFZiQ25uO9rl27hoCAAFSpUgU5OTn3XJmWm5uLb775BgCwZ88eXLx4EeHh4S6f0+86JaVz586YM2cOACAzMxPffPMNunbtCiDv5OwNGzbgyJEjSEhIwMKFC/PH/XE7d2/z7v+/4/r16wgMDESFChWQnp6OefPm5T8XEBCAGzdu5P9/cHAwAgICCrwmNTUV165du2e7nTt3xty5cwEAN2/eLLCCQWxsLGbNmpU/zul04sCBA4XO7241a9ZEixYt8MYbb6BGjRr56xZfu3bN7f1wd5tdu3bFxo0bC5w/tnfvXpdzvN/X2givKLDuiAyUsK+PA281kyEbbEat+0VH08VOfHNS88gXzptNmTLF7CmQC8xIbMzHe3Xr1g2NGzdGcHAwOnTogIiIiALPV6pUCYcPH0Z4eDhGjBiBuLg4VKhQweVzd3eoxo0bB4fDgdDQUERHRyM2NhZ9+/bF+fPn8dprr2HhwoWoXLkyFi1ahDFjxiA1NfWe7dy9zft10gYPHozMzEyEhISgR48eaN++ff5zYWFhaNKkCUJDQxEbGwtFUbBy5UosXboU4eHhaNq0KUaOHIns7Ox7tjtu3DhkZWUhJCQEPXv2RLt27fKfGzBgAIYOHYqOHTsiIiICERERRXab7p770KFD8cUXX2D48OHF2g93t9mwYUN8++23ePnllxEREYEmTZpg2rRphc7xq6++Qp06dbB48WJMmDABdevWxcGDB++7T65IuoerjaSkJERFRSExMTH/s9nSsOuShiFbVJy8aXxsn/oSZrVVUP0Be35kmJWV5bKdTeZiRmJjPu5x5/fBndeseSEaodUD3N528uWb6B63y6O/a86ePYvw8PBCuzlFPUf2Utj3dWGPeVUH64+ia8g40NeBPzU1vgvLftbRZLETS8/Yc+Fo/mIQHzMSG/OxrqLO1eV5vGSE1xZYAODnkPBJtIIfeyioZ/Cec2nZQN+NKgb+6MTVbHt/ZEhEREC9evVw9epVw88RFcarC6w7OtbKW2rnxUeN/3XxbaqO0CVO/HDent0sIiIi8jxLFFgA4F9OwhftHFjTTUFNg937X7OA7mtVvLjNiZs51u9mjRkzxuwpkAvMSGzMx/NOXc1A8uWbbv87dTXD7CkTFUn4+2AZ9XQdGYf7Snh9l4oFp4wVS7NP6NhwwYm5HRR0rGWZ2vMedevWNXsK5AIzEhvz8Rx/f38AwOvrkl28sujxRKKxZBVR1VfC/I4OLO6sINDX2NizGUCn1Sr+tFNFlpG7mnqR//mf/zF7CuQCMxIb8yEiVyzXwfqjvg1ktHtIwis7VCz72Vix9OkRDT+c1/DVEwqia1iyDiUiMl16ejoAIPjVSPjVcv9qpaxfM3DiX0n544lEY/nKofoDEpZ0VjC/o4LK5YyNPXkTaLtSxVt7VNxWrdnNIiISgV+tivBvUNntf0aKMW9x8eJFdOjQwaPbPHv27D13qy+umTNnYtiwYcUa27NnT5w8ebLY713YfpR0m3d79913ERISgoiICLRs2RLr168v0fYsX2ABefcuGdhIxuF+DnR72NiVhpoOTD6oofkyJ5IMLDgtsuPHj5s9BXKBGYmN+VBRVFUt1riaNWti69atHp3LmTNnMGvWLI9tz+i9wHRdh67rWLVqFYKCgor9voXtR0m3ebf27dvjwIED2L9/P2bPno3nnnsOt27dKvb2bFFg3VG7goQ13RR80U5BRR9jYw9fA1rFOzEhUUWu5t2F1tixY82eArnAjMTGfLzboEGD0LJlS4SHh6NXr164fPkygLwuSZUqVTBmzBg0a9YMoaGh2LRpk9vPvfXWW4iKisLMmTORmZmJESNGIDQ0FGFhYZg4cSIAIDs7G+Hh4ViyZAkAYNeuXWjQoAF+//33/O3cIcsyPvjgA7Ru3RqPPPIIli9fjg8//BAtWrRAcHAwtm3bBiCvoOvWrRtatmyJ0NBQDBo0KL8wePXVV5GSkoLIyMj8JWZOnTqFnj17olWrVggPD8dnn31W6NcpIyMD/fv3R0hICNq3b19gPT8AmDp1Klq3bo3mzZuje/fu+QtXT5gwAf369UO3bt0QGhqKixcvokGDBjh06BB27tyJsLCwAtvp2LEjVq5caXg/3NkmAKxfvx7t2rVDixYt0Lp1a2zZsqXQ/e3atSvKly8PAAgNDYWu67hy5Uqhr3WHrQosIK/6fvHRvPtmPVHTWCXu1IHxSRqil6s4ctV7i6wZM2aYPQVygRmJjfl4t2nTpmHPnj04cOAA2rZti/feey//uRs3bqBJkyY4ePAgZs+ejQEDBiAzM9Ot50JDQ5GYmIjXX38dkyZNQk5ODpKTk5GQkID4+HgsWrQIvr6+WLRoEd58803s27cPgwYNwoIFC1CtWjUA93aIAgICkJCQgNmzZ2PQoEGoXbs29u7di/fffx+jR48GACiKgri4OOzZswfJyckICAjA9OnTAQCzZs1CcHAwkpKSEB8fD03T8MILL+Djjz/G7t27sWvXLnz++edITEy85+s0ceJE+Pr64tixY1i1alV+QQcAcXFxOHHiBHbt2oV9+/ZhwIABePXVV/OfT0hIwPz583H48GHUqlUr//E2bdogJycHSUlJAIDTp08jJSUFPXr0MLQff1TUNs+cOYPx48fjhx9+wN69e7FgwQIMGDAAubm5RX6PfPnll2jYsGGJrhi29EnuRanvL2FTDwUzjmj4yx4N2QY6uolpOiKXOfG35jLeDJWhGF152mS8xFx8zEhszMe7zZ8/H/Pnz0d2djZu376NwMDA/Od8fHwwZMgQAECrVq1Qu3Zt7N+/H3Xq1CnyuXLlymHgwIH529m4cSM+/vhjAHlLKw0ePBgbNmzAs88+i6CgIHz44YeIjo7GpEmT0KZNm/vO9bnnngMANG/eHFlZWXj++ecBAC1btsSpU6cA5H0MN3XqVKxZswZOpxM3b9687zZPnDiBI0eOoH///rizFHFGRgaOHj2KqKioAq/dtGkTPvnkEwB5hd6AAQNw+vRpAEB8fDz27duXv+6epmkFisPu3bsX+Lr+0dChQzF37lxERkbi66+/xsCBAyHLsqH9cHeba9euRWpqKtq3b5+/vw6HA+fOnUPDhg0L3damTZswadIkbNy40a33vh/bFlgAIEsSXm+qoOvDMoZuVZFw2f2uVI4GjN2jIf6sjnkdFARV8q4ii4jIjn766SdMnz4du3fvRrVq1bBy5coCHay76bp+3/OO/vicq/Up795GYmIiqlevnv+x2v3G+Prm3WtIURQAQLly5fL/3+l0AgAWLFiALVu2YPv27ahQoQKmT5+OzZs333fO1apVy+/2GPHHfdB1HW+//TZGjhxZ6GsrVrz/RQhDhgxBeHg4PvroI3z99ddYvXo1AODbb791ez/c3aau63jqqacwf/58t7azdetWjBgxAqtWrUKjRo3cGnM/tvuIsDDBlSVs76Xg7y1k+Bj8iuy8pCN8qRMzj6jQdO/92JCIyA6uXbuGgIAAVKlSBTk5OfdcmZabm4tvvvkGALBnzx5cvHgR4eHhLp/T7/r537lzZ8yZMwcAkJmZiW+++QZdu3YFkHdy9oYNG3DkyBEkJCRg4cKF+eP+uJ27t3n3/99x/fp1BAYGokKFCkhPT8e8efPynwsICMCNGzfy/z84OBgBAQEFXpOamopr167ds93OnTtj7ty5AICbN28iLi4u/7nY2FjMmjUrf5zT6cSBAwcKnd/datasiRYtWuCNN95AjRo1EBISAiAvG3f3w91tdu3aFRs3bixw/tjevXsL3ca2bdswePBgLF++HE2bNnVrX4rCAuvfHLKEt8IVJPZxILyasbFZTmDUTg1d1qg4lyF+kTV58mSzp0AuMCOxMR/v1a1bNzRu3BjBwcHo0KEDIiIiCjxfqVIlHD58GOHh4RgxYgTi4uJQoUIFl8/d3aEaN24cHA4HQkNDER0djdjYWPTt2xfnz5/Ha6+9hoULF6Jy5cpYtGgRxowZg9TU1Hu2c/c279dJGzx4MDIzMxESEoIePXqgffv2+c+FhYWhSZMmCA0NRWxsLBRFwcqVK7F06VKEh4ejadOmGDlyJLKzs+/Z7rhx45CVlYWQkBD07NkT7dq1y39uwIABGDp0KDp27IiIiAhEREQU2W26e+5Dhw7FF198geHDhxdrP9zdZsOGDfHtt9/i5ZdfRkREBJo0aYJp06YVOseRI0ciJycHw4YNQ0REBCIjI3HkyJH77pMrkn6/kriYkpKSEBUVhcTExPzPZr1Njqrjb/s1fHBAg9HbX/n7AJ9EKxjWWDJ8OWtZee+99zBhwgSzp0FFYEZiYz7ucef3wZ3XRExqD/8Gld3edvqZ69g/bptHf9ecPXsW4eHhhXZzinqO7KWw7+vCHmMHqxDlFAkTmytI6K0gxP3jHQCQnguM2Kai1zoVF7PE7GbxF4P4mJHYmI91FfWHsah/NJOYWGAVofmDMpL6ODA6TIbRw2r1eR1NFjvxXap238/NiYhIHPXq1cPVq1cNP0dUGFtfRegOX4eEj1op6F1PwtCtKlJvuj/22m3ghR9VLD0j4bO2CgJ9+dcPEVFhsn7NKNXXE5U1FlhuavuQjIPPSPjLHg0zj2qGxi46o2Prb0580VZB7/rmNw3T0tLue38SEgMzEhvz8Rx/f38AwIl/Gb9twB/HE4mGBZYBFXwkzHhcQWx9CcO3qjif6f7Yy7eA2A0qBgdpmBatoHJ587pZw4cPx4oVK0x7f3KNGYmN+Rhz7NixIp9ftmxZ/h3RjbhzOX9x7ulEVFyuvp/vYIFVDJ1ry0juJ+GNXSrmphg7v+rrkzo2/erEl+0VdHnYnG7W+PHjTXlfch8zEhvzcU9gYCD8/PwwaNAgs6dC5FF+fn4uu9gssIqpUjkJX3Zw4Jn6Gl7cruI3AwtuX8gEuv6g4pUQHR+1klHRp2y7Wd56+ww7YUZiYz7uqVu3Lo4dO4a0tDSzp0LkUYGBgS6XzGKBVUI968k4XEPCqJ0qvks11s2adUzDul80zOugoH1N88/NIiLytLp163LtRrIl/lb3gGq+EuI6OfB9JwXVyhsbeyYdeGKVijd3qbjl5O0ciIiIrIAFlgc911DG4X4O9Kpr7CM/HcA/D2uIWOrEnsvGrlAsjjvrY5G4mJHYmI/4mJH4rJ4RCywPe8hPwvIuCuZ1UBDgY2zsiRtA9AoV7+5VcdvoGj0G8Iob8TEjsTEf8TEj8Vk9I65FWIrOZ+gYvk3FxgvGv8RhVYGvn3CgWTXenJSIiEhkXIuwjNWpKGH90wo+e1yGn8HLCQ5dBVrEO/H+fhVOjedmEREReRMWWKVMkiS8+piCQ30daFvDWDcqVwP+b5+GNitUHL/OIouIiMhbsMAqIw0DJGzpqWBqKxnlFWNj917REbHUiX8mq9C4cDQREZHw3Cqwbt++jT59+uDRRx9FREQEunbtitTU1NKem+UosoQ3wxTs7+NAiweNdbOyVeDNBA0dV6k4fbNkRVZMTEyJxlPpY0ZiYz7iY0bis3pGbp8Z9PLLL6Nbt24AgJkzZ2LkyJHYvHlzqU3MykKqSNgZo2DyQQ0TkjTkunNnhksngewMbDsLNEkE3mgqoW8DGZJUdKHm7++PoKCgAo+NGjWqBLOnssCMxMZ8xMeMxGf1jIp1FWFiYiKeffZZnD59+p7neBWhMQd+1zF4ixPJV4t40aWTwLgmxX6PlJSUe4osIiIi8ozCap9iLZUzbdo0xMbGenRydhVeTcLeWAcmJmn48KCGQi8YzM4AAHzaNRSNqlZ0e9unrmbg9XXJSE9P99BsiYiIyB2GC6wPPvgAqamp+OKLL0pjPrZUXpHwfgsFMfUkDNmi4sSNwl/XqGpFhFYPKNvJERERkWGGriL8xz/+gfj4eKxduxa+vr5FvrZ79+6IiYkp8C86Ohrx8fEFXrd+/fpCT3R77bXX7rmNflJSEmJiYu5Zmf29997D5MmTCzx27tw5xMTE4Pjx4wUenz59OsaMGVPgsayYfKc/AAAgAElEQVSsLMTExGDHjh0FHo+Li8OwYcPumdvzzz9fKvuxZuYEDDzzKf7c1LMXd65du7bAftyZe2nth1XyMHM/7vzX2/fjDqvtx92Pe+t+3M1K+3H3+T3euh9WyaOw/WjZsqVX7kdcXFx+XdOhQwc89NBDhZ5P5vY5WB9//DG+/fZbbNq0CZUqVbrv63gOlmds+VXDsK0qfs4AcHY/8H4rrHkh2lAHK/nyTXSP23VPFs8//zy+//77Upg1eQozEhvzER8zEp+VMir2ndwvXLiA0aNH48aNG+jYsSMiIiIQHR1dqpO1uydqyTjU14GXH/X8rcqs8g1tZcxIbMxHfMxIfFbPyK1zsGrXrg1Nc+deAuRJ/uUkzGqnoGm6jP8pwXbSc3lzUiIiorLEO7l7gTYPlSym5zeq2HSBBTIREVFZYYFlA5duAZ3XqBj1k4pMdrOIiIhKHQssG5l5VEOzpU50f/1vZk+FXCjsahcSB/MRHzMSn9UzYoFlM6k3gbWhYzF2t4psJ7tZourSpYvZU6AiMB/xMSPxWT0jFlg2pEPCR4c0RC1zIvEKiywRvfDCC2ZPgYrAfMTHjMRn9YxYYNnY0etAq+VOjE9UkVvoGj1ERERUHMVai5DMcepqhsdfr+rAhCQNK85q+PoJB5pWlYo7PSIiIvo3FlhewN/fHwDw+rrk4m3A1/UC0ft/B6KWOTExSsboMBmKzELLTDt27EDbtm3NngbdB/MRHzMSn9UzYoHlBYKCgpCSkoL09HS3x5xL1/HXRBXJWRWBGkFujcnRgLf2alh+Vse8DgoaV2aRZZYpU6ZY+gePt2M+4mNG4rN6Rm6vRegurkUoDlXTMTVZw7h9GnIM3mf0AQWY3FLGa01kyBILrbKWlZUFPz8/s6dB98F8xMeMxGeljIq9FiF5J0WWMLaZgsQ+DkQGGht7SwVe36Wh82oVP6fzBPiyZpUfOlbFfMTHjMRn9YxYYNlA06oSEno7MD5ShsNgM2rzRR2hS5yYfVyDh5udRERElsUCyyZ8ZAnvRSnYHetAkyrGxmbkAi9uV9FjnYpfM1lkERERucICy2YiAyU8tWccxobJMHpm1Q/ndTRd4sS3p9jNKm1jxowxewpUBOYjPmYkPqtnxALLhh6pUxuTWynYEaOgUYCxsdduAwM3q3h2k4ort1hklZa6deuaPQUqAvMRHzMSn9Uz4lWENpeZq+OtPRpmHDV4mSGAB32Bz9sq6NOAdToREdkXryKke1TwkTD9cQWbuiuo6/p+pAVcyQae2ajivzY7ce02u1lERER3sMAiAECn2jKS+zowItj4Pa/mn9LRdLETa88b74IRERFZEQssGzp+/HihjweUkzC7vQOruip46AFj2/w1C3h6rYqXt6tIz2E3q6TulxGJgfmIjxmJz+oZscCyobFjxxb5fI+6Mg73c+CFhsa7WV8c1xC2xIktv7KbVRKuMiJzMR/xMSPxWT0jFlg2NGPGDJevqeYr4dtODix6UkGgr7Ht/5wBdFyt4s+7VGQ52c0qDncyIvMwH/ExI/FZPSMWWDZk5NLYfo/IONzXgdh6xrtZ0w5riFjqRMIldrOMsvrly96O+YiPGYnP6hmxwCKXavhJWPqUgq+fUFCpnLGxKTeAx1eqeGevitsqu1lERGQPLLDILZIk4b+C8rpZXWob62ZpOvD3AxpaxDuxP41FFhERWR8LLBuaPHlyscc+XFHC2qcVzGoro4LD2Njkq0DLeCcmJanI1VhoFaUkGVHpYz7iY0bis3pGLLBsKCsrq0TjJUnCyyEKDvV1oP1DxrpZTh34a6KG6OUqjl5jkXU/Jc2IShfzER8zEp/VM+JSOVQimq7j08Ma3t6rIVs1Nra8AvytuYw3mspQZOMn0RMREYmAS+WQx8mShD+HKtj/jAMtHzRWJN1WgTG7NXRYpeLUDXaziIjIOlhgkUc8WlnCTzEK3m8uw8fgd9VPl3Q0W+rEZ0dVaJ5tqBIREZmCBZYNpaWllcp2HbKEdyIU7I11IKyqsbFZTuC1nzR0/UHFuQwWWaWVEXkG8xEfMxKf1TNigWVDw4cPL9XtN6smYW+sA++Gy1AMnlq18YKO0MVOzEvR4OHTA71KaWdEJcN8xMeMxGf1jFhg2dD48eNL/T3KKRL+1kLBzhgFj1Y2NvZmLjBsq4re61X8lmXPIqssMqLiYz7iY0bis3pGLLBsqCyv7mxZXUZSHwfeDJVh9DrBled0NFnsxPep9ltqh1fgio35iI8Zic/qGbHAolL3gEPC1NYKtvZU8Ii/sbFXbwP9f1Tx/CYn0rLt2c0iIiLvwwKLyky7mjIO9nXg1RDj33YLT+toutiJFWft180iIiLvwwLLhubMmWPae1f0kfBZWwXrnlbwcAVjYy/dAnqvVzFsqxM3cqzdzTIzI3KN+YiPGYnP6hmxwLKhpKQks6eALg/LSO7rwJAg43dwn5eS183a8It1u1kiZET3x3zEx4zEZ/WMuFQOmW75zxpe2qHi8i3jY//7MRmTW8qo6MOldoiIyBxcKoeE1Lu+jCP9HHi2gfEi6bOjGpotcWL7Ret2s4iIyPuwwCIhBPpKWNjZge86Kaha3tjY0+lAh1UqRieouOW09rlZRETkHVhgkVCebyjjcD8HetY11s3SAUxN1hC5zIm9V9jNIiIic7HAsqGYmBizp1Ckmn4SVnRR8GV7Bf4+xsYevw5EL1cxbp+KHNV7u1miZ2R3zEd8zEh8Vs+IBZYNjRo1yuwpuCRJEoYF53WznqxlrJul6sDf9mtotdyJ5KveWWR5Q0Z2xnzEx4zEZ/WMWGDZUJcuXcyegtvqVpSwvruCmY/L8HMYG3vgdyBqmRMfHlDh1Lyr0PKmjOyI+YiPGYnP6hmxwCLhyZKE/35MwcFnHHi8hrFuVq4GvL1XQ7uVKk5c964ii4iIvBcLLPIajSpJ2NpTwUetZJRXjI1NuKwjfKkT0w6r0Dx76zciIqJ7sMCyofj4eLOnUGyKLGF0mIKkPg5EBRrrZmWrwJ93aei0WsWZm2IXWd6ckR0wH/ExI/FZPSMWWDYUFxdn9hRK7LEqEnb1VjAhSobD4P1Jt17UEbbUiS+OafDwQgYeY4WMrIz5iI8Zic/qGXGpHPJ6SWk6hmxx4vA142O7PixhTnsFtStwqR0iIioeLpVDlhQZKGFfHwfeaiZDNlgnrfslb+Ho+SfF7WYREZH3YYFFllBekfD3lgp+6qWgcSVjY6/nAP+1RUXfjSou32KRRUREJccCiyyldQ0Z+59x4PUmxr+1l/2so8liJ5ac4VI7RERUMiywbGjYsGFmT6FU+TkkTGuj4MceCupVNDY2LRvot1HFwB+duJptXjfL6hl5O+YjPmYkPqtnxALLhqx+99w7OtaSkdzXgRcfNX4C+7epOpoucWLNOXO6WXbJyFsxH/ExI/FZPSNeRUi28MN5DSO3qfg1y/jYkcESprZWEFCOVxoSEdG9eBUh2dbTdfIWjh7UyHiRNPuEjrAlTmz+ledmERGRe1hgkW1UKS/hm44OLOms4EFfY2PPZgCdVqt4faeKLCevNCQioqKxwLKhHTt2mD0FUz3TIK+b1ae+8W7W9CMawpc4sfNS6Xaz7J6R6JiP+JiR+KyeEQssG5oyZYrZUzBd9QckLOms4JsnFFQuZ2zsyZtAu5Uq3tqj4rZaOt0sZiQ25iM+ZiQ+q2fEAsuGvvvuO7OnIARJkjAoKK+b1e1hY90sTQcmH9QQtcyJpDTPF1nMSGzMR3zMSHxWz4gFlg35+fmZPQWh1K4gYU03BV+0U1DRx9jYI9eAVvFOTEhUkat5rtBiRmJjPuJjRuKzekYssIiQ18168dG8+2Y9UdNYN8upA+OTNLRe7sSRqzwBnoiIWGARFVDfX8KmHgqmRcvwVYyNTUoDIpc58dFBFaoHu1lEROR9WGDZ0JgxY8yegtBkScLrTRUceMaB1tWNdbNyNGDsHg3tV6k4eaP4RRYzEhvzER8zEp/VM2KBZUN169Y1ewpeIbiyhO29FHzQQoaPwSNl5yUdzZY4MeOICq0YiyUwI7ExH/ExI/FZPSMulUPkhuSrOgZvceLA78bHdqol4cv2Cur5c6kdIiIr4lI5RMUUWlXC7t4O/DVShmKwTvrxVx2hS5z48oQGD/89Q0REgmKBReSmcoqECVEKEnorCKlsbGx6LjBim4qe61T8mskii4jI6lhg2dDx48fNnoJXa/6gjKQ+DowOk2H0Q78153U0XeJE3Kmiu1nMSGzMR3zMSHxWz4gFlg2NHTvW7Cl4PV+HhI9aKdjWS0HDAGNjr90GBmxW8dwmFVduFV5kMSOxMR/xMSPxWT0jFlg2NGPGDLOnYBltH5Jx8BkHXnvM+KG0+ExeNyv+53sXjmZGYmM+4mNG4rN6RiywbMjql8aWtQo+EmY8rmBDdwV1Khgbe/kW0GeDisGbnbh++z/dLGYkNuYjPmYkPqtnxAKLyEM615aR3M+BYY2N347hm1N53az1v9zbzSIiIu/DAovIgyqVk/BlBwdWdlHw0APGxl7IBLr+oOLVHSoycnmlIRGRN2OBZUOTJ082ewqW17OejMP9HOjf0Hg3a9YxDfXmpGHbRXazRMVjSHzMSHxWz4gFlg1lZWWZPQVbqOYrIa6TAwufVFCtvLGxV5XKeGKVijd3qbjlZDdLNDyGxMeMxGf1jLhUDlEZ+C1Lx8s7VKw4a/xwC64EfPWEglbV+fcQEZGIuFQOkUke8pMQ/5SCeR0UBPgYG3viBtBmhYp396rIUdnNIiLyBiywiMqIJEkY0jjv3Kynahs7N0vTgQ8OaGgR78TB31lkERGJzmH2BKjspaWlITAw0Oxp2FadihLWPa3g82MaRu/WkOl0c+Clkzh0NgPNDwIvPZpXrDlk14Wav78/goKCSjZpKoDHkPiYkfisnhELLBsaPnw4VqxYYfY0bE2SJLzymIKnHpYxbKuK7b+56EpdOgmMawIAcAL47N//3JWSksIiy4N4DImPGYnP6hmxwLKh8ePHmz0F+reGARI291Aw7bCGd/ZpuK3e54XZGQCAT7uGolHVim5v/9TVDLy+Lhnp6ekemC3dwWNIfMxIfFbPiAWWDfHqTrEosoQ3wxQ8XUfGkK0q9l65fzerUdWKCK1ucHVp8jgeQ+JjRuKzekY8yZ1IECFVJOyMUfC35jJ8eGQSEXk1/hgnEohDlvBuhIK9sQ6EVTV7NkREVFwssGxozpw5Zk+BXNgX/yX2xDrwTrgMNy4UpDLGY0h8zEh8Vs+IBZYNJSUlmT0FciEpKQnlFQnvt1CwM0ZBPffPa6cywGNIfMxIfFbPiAWWDc2cOdPsKZALf8yoVXUZ33ZSSrS9Db9w4WhP4jEkPmYkPqtnxAKLyAv4Okr2OeFbezS88KMTv2fzLvBERGWBBRaRTXyXqqPpYidWnWU3i4iotLHAIrKR324BvdarGLHViRs57GYREZUWFlg2FBMTY/YUyIXSzujLFB2hi53YdIHdrOLgMSQ+ZiQ+q2fEAsuGRo0aZfYUyIWyyOh8JtB5jYpRP6nIzGU3ywgeQ+JjRuKzekZcKseGunTpYvYUyIX7ZXTqaoah7bjz+plHNaz9RcNXHRQ8/hD/5nIHjyHxMSPxWT0jFlhEXsDf3x8A8Pq65OJtwLfoG2ml3gTarVQxOkzHxCi5xFctEhHZHQssIi8QFBSElJQUpKenu/X6K7d0TNqv4qffkFdc1QhyOUYH8NEhDavPafjqCQXNH2Q3i4iouFhg2VB8fDxiY2PNngYVobCMgoJcF0l/1KWNji9P6HgjQUV6rvvjjl4HWi9X8W6EjnfDZZRT2M26G48h8TEj8Vk9I/6JakNxcXFmT4Fc8ERGkiRhxKMykvs60LGmsSJJ1YGJSRpaL3ci+SpPgL8bjyHxMSPxWT0jSdd1j/70TEpKQlRUFBITExEZGenJTRNRMWm6js+Oahi7W8Mt1djYcjIwIUrG6DAZDq48TUR0j8JqH3awiGxAliSMaqLgYF8HoqsbK5JyNODtvRrarVSRcp3dLCIid7DAIrKRoEoStvdSMKWljHIGj/6EyzrClzrx6WEVmmcb30RElsMCi8hmFFnCmGYKkvo4EBlobOwtFfjTLg2dV6v4OZ1FFhHR/bDAsqFhw4aZPQVyoSwyalJVQkJvB8ZHyjB626vNF3WELnFi9nENHj6N0yvwGBIfMxKf1TNigWVDVr97rhWUVUY+soT3ohQk9HagSRVjYzNygRe3q+ixTsWvmfYqsngMiY8Zic/qGfEqQiICAGQ7dbyXqOGjQxqM/lCoUh6Y0UbBCw0lSBKvNCQie+FVhER0X74OCZNbKdgRo6BRgLGx124DAzereHaTiiu37NXNIiIqDO/kTkQFtKkh48AzEt7eq2H6Ec39gZdOYsnZDGzaBbwbLqNTbff+fvP39zd8l3oiItGxwLKhHTt2oG3btmZPg4pgdkYVfCR82kZBbD0Jw7apOJfhYsClk8C4JgCA6wDGGHy/lJQUryqyzM6HXGNG4rN6RiywbGjKlCmW/qa2AlEy6lRbRnJfCW8mqJhzooiP/rLzKrDgVyPhV6ui29vP+jUDJ/6V5PYi1qIQJR+6P2YkPqtn5HaBderUKQwZMgRpaWmoXLky5s2bh5CQkNKcG5WS7777zuwpkAsiZRRQTsLs9g70qa/hxe0qLmbd/7V+tSrCv0HlspucSUTKhwrHjMRn9YzcPsn95ZdfxiuvvIITJ05g7NixGDJkSGnOi0qRn5+f2VMgF0TMqEddGYf7OjCgIa8SFDEfKogZic/qGblVYF25cgWJiYkYOHAgAKBv3744f/48Tp8+XaqTIyKxVPWVsKCTA4ueVBDoa/ZsiIjE5VaBdf78edSsWROy/J+X161bF+fOnSu1iRGRuPo9ktfNiq3HbhYRUWF4HywbGjPG6DVeVNa8IaMafhKWPqXg6ycUVPQxezZlyxvysTtmJD6rZ+RWgVWnTh1cvHgRmvafe+KcO3cOdevWve+Y7t27IyYmpsC/6OhoxMfHF3jd+vXrERMTc8/41157DXPmzCnwWFJSEmJiYpCWllbg8ffeew+TJ08u8Ni5c+cQExOD48ePF3h8+vTp94SalZWFmJgY7Nixo8DjcXFxha6V9Pzzz3v1ftzJzdv34w4r7sedjETfj+HDh+O/gmQsfFK5Z45GHL/2nysURczjjjt53P2zT5Q87HJ8uLMfFy5csMR+WCWPwvZj7dq1XrkfcXFx+XVNhw4d8NBDD2HUqFH3vN7tpXI6deqEIUOGYMiQIVi8eDGmTJmCPXv23PM6LpVDZD93jvuISe0NXUWYfuY69o/bBuX/duOvfaLwdrgMH5kfOxKRdynRUjmzZs3C559/juDgYEyZMgVz584ttYkSkb2oOvBeoobo5SqOXuNSO0Tk/dy+D1bjxo2xc+fO0pwLEdlcYpqOyGVO/K25jDeaylDYzSIiL8WT3G3o7s+xSTx2zui2CozZraHDKhWnbojZzbJzPt6CGYnP6hmxwLKhsWPHmj0FcoEZAT9d0tFsqROfHVWhuXeqaJlhPuJjRuKzekZci9CGZsyYYfYUyAVvzSjrV1erQht7fZYTeO0nDct+1jGnvYK6FcX4yNBb87ETZiQ+q2fEAsuGirq9BonB2zLy9/cHAJz4V1LxNuBb9ALRGy/oCF3sxLQ2CoYESZAkcwstb8vHjpiR+KyeEQssIiqxoKAgpKSkID093a3XH7mm4a/7NPycjrziqkaQyzE3c4FhW1UsPSPhi3YKHvITo5tFRFQYFlhE5BFBQa6LpDsiAfTroGPcPg0fJ2swcobVynM6mix24rPHFTzfkKeREpGY+NPJhu6+Sy6Jxw4ZPeCQ8I/WCrb2VPCIv7GxV28D/X9U8fwmJ9Kyy/4EeDvk4+2YkfisnhELLBvKysoyewrkgp0yaldTxsG+DrwaYvzH0cLTOpoudmLFWc31iz3ITvl4K2YkPqtn5PZSOe7iUjlEVFwbftEwfJuKXzKNjx0SJOGTaAWVy/PcLCIqWyVaKoeIqLQ99bCM5L4ODAkyXiR9dVJH6BIn1v9Stt0sIqLCsMAiIqFULi9h3hMOxD+loPoDxsb+kgl0/UHFf+9QkZEr1s1JicheWGDZUFpamtlTIBeYEdC7vowj/Rx4toHxbta/jmlotsSJ7RdLp5vFfMTHjMRn9YxYYNnQ8OHDzZ4CucCM8gT6SljY2YG4Tgqqljc29nQ60GGVitEJKm45PdvNYj7iY0bis3pGLLBsaPz48WZPgVxgRgX1byjjcD8HetY11s3SAUxN1hC5zIm9VzzXzWI+4mNG4rN6RiywbIhXd4qPGd2rpp+EFV0UfNlegb+PsbHHrwPRy1WM26ciRy15N4v5iI8Zic/qGbHAIiKvIUkShgXndbM61zbWzVJ14G/7NbSMd+LQ7zwBnohKFwssIvI6dStKWPe0gpmPy/AzuODXwatA83gn/n5AhVNjoUVEpYMFlg3NmTPH7CmQC8zINVmS8N+PKTj4jAOP1zDWzcrVgHf2anh8hYrj140XWcxHfMxIfFbPiAWWDSUlJZk9BXKBGbmvUSUJW3sq+KiVjPKKsbF7ruiIWOrEJ8kqNAOLWjAf8TEj8Vk9Iy6VQ0SWcfSajiFbVOxLM/5jrUNNCXPbK2gQwKV2iMgYLpVDRJb2WBUJO3srmBglw2GwTtp6MW+pnS+OafDw351EZEMssIjIUnxkCeMiFeyJdSC0qrGxmU7g5R0qnl6r4pcMFllEVHwssIjIkiICJeyNdeDtcBmywW7Wul90NF3ixDcn2c0iouJhgWVDMTExZk+BXGBGnlFekfBBCwU/9VLQuJKxsTdygMFbVDyzQcWlrIJFFvMRHzMSn9UzYoFlQ6NGjTJ7CuQCM/Ks1jVk7H/GgT81Nf4jL/5sXjdryZn/LLXDfMTHjMRn9YxYYNlQly5dzJ4CucCMPM/PIeGTaAU/9lBQr6KxsWnZQL+NKgb+6MTVbJ35eAFmJD6rZ8QCi4hspWMtGcl9HXjxUeO3Y/g2Na+bteac5xaOJiJrYoFFRLbjX07CF+0cWNNNQS0/Y2MvZgE91ql4cZsTN3N4AjwRFY4Flg3Fx8ebPQVygRmVjafr5C0cPaiR8W7W7BN598368QK7WSLiMSQ+q2fEAsuG4uLizJ4CucCMyk6V8hK+6ejAks4KHvQ1NvZcBvDkGhWv71SRmctulkh4DInP6hmxwLKh77//3uwpkAvMqOw90yCvm/VMfePdrOlHNIQvdWLnJXazRMFjSHxWz4gFFhHRv1V/QMLizgrmd1RQuZyxsaduAu1WqvjLbhXZTnaziOyOBRYR0R9IkoSBjfK6WU/XMdbN0nRgyiENzeOdSCrGgtNEZB0ssIiIClG7goTVXRXMbqegoo+xsUeuAa3inZiQqCJXY6FFZEcssGxo2LBhZk+BXGBGYpAkCSMezbtvVseaxrpZTh0Yn6Sh9XInDl9lkVXWeAyJz+oZscCyIavfPdcKmJFY6vtL2NhDwafRMh5QjI1NSgOiljkx5aAKld2sMsNjSHxWz0jSPbxUfFJSEqKiopCYmIjIyEhPbpqIyHQp13UM2aoi4bLxH53R1SV89YSCoErGr1QkInEVVvuwg0VEZEDjyhJ29FLwYQsZ5Qz+BN11WUezJU5MP6xC8+zftkQkGBZYREQGKbKEv4Qr2NfHgYhqxsbeUoHXd2novFrF2XQWWURWxQLLhnbs2GH2FMgFZiS2O/mEVpWQ0NuBv0bKUAx+6rf5Yt5SO3OOa/DwmRoEHkPewOoZscCyoSlTppg9BXKBGYntj/mUUyRMiFKQ0FtBSGVj20nPBUZuV9FznYpfM1lkeRKPIfFZPSMWWDb03XffmT0FcoEZia2wfJo/KCOpjwOjw2QYPYV9zXkdTZc4EXeK3SxP4TEkPqtnxALLhvz8/MyeArnAjMR2v3x8HRI+aqVgWy8FDQOMbfPabWDAZhXPbVJx5RaLrJLiMSQ+q2fEAouIyMPaPiTj4DMOvPaY8R+xi8/kdbPif+bC0UTejAUWEVEpqOAjYcbjCjZ2V1CngrGxl28BfTaoGLzZieu32c0i8kYssGxozJgxZk+BXGBGYjOSz5O1ZST3c2B4Y+M3F/3mVF43a915drOM4jEkPqtnxALLhurWrWv2FMgFZiQ2o/lUKidhTgcHVnZR8NADxt7rQibQba2KV7arSM9hN8tdPIbEZ/WMuFQOEVEZ+j1bx6idKr5LNf6jt4E/MLeDgg41+bcxkUi4VA4Rkcmq+UqI6+TAwicVVCtvbOyZdOCJVSre2KXilpPdLCKRscAiIjLBs4/IONLPgZh6xs/N+uSwhoilTuy+zHOziETFAsuGjh8/bvYUyAVmJDZP5VPDT0L8Uwq+6qAgwMfY2BM3gDYrVLy7V8Vtld2su/EYEp/VM3KYPQEqe2PHjsWKFSvMngYVgRmJzZP5SJKEwY0ldKwlYcQ2FRsuuF8sab+dxAc/Z2DhFmBilILgyu51w/z9/REUFFTMGXsHHkPis3pGLLBsaMaMGWZPgVxgRmIrjXzqVJSw7mkFnx/TMHq3hkyniwGXTgLjmgAATgEYYPD9UlJSLF1k8RgSn9UzYoFlQ1a/NNYKmJHYSisfSZLwymMKnnpYxrCtKrb/VkQ3KzsDABD8aiT8alV0+z2yfs3AiX8lIT09vaTTFRqPIfFZPSMWWEREgmkYIGFzDwXTDmt4Z5+G2+r9X+tXqyL8G1Quu8kRkVt4kjsRkYAUWcKbYQr293GgxYPGrzQkInOxwLKhyZMnmz0FcoEZia0s8wmpImFnjIK/NZfhw5/YbuMxJD6rZ8TD1YaysrLMngK5wIzEVtb5OGQJ70Yo2BPrQFjVMn1rr8VjSHxWz4gFlg1NmDDB7CmQC8xIbGblE15Nwp5YB94JlyHxU8Mi8aMiiJYAABrqSURBVBgSn9UzYoFFRORFyisS3m+hYG6Hkv34TrvFm5MSlSYWWEREXii0asl+fD+3ScWi01xqh6i0sMCyobS0NLOnQC4wI7FZIZ8bOXlFVv9NTvyebb1ulhUysjqrZ8QCy4aGDx9u9hTIBWYkNivl8/1pHU0XO7HyrLW6WVbKyKqsnhELLBsaP3682VMgF5iR2KyWz2+3gJj1KoZvdeJGjjW6WVbLyIqsnhELLBuKjIw0ewrkAjMSm1XzmZuiI3SxExsveH83y6oZWYnVM+JSOUREXizr1wyPvv58JvDUGhWvPaZjcksZFXx4Pwii4mCBRUTkhfz9/QEAJ/6VVLwN+Ba9QPTMoxrW/qLhqw4KHn+IH3YQGcUCy4bmzJmDESNGmD0NKgIzEpsI+QQFBSElJQXp6ekuX6vrOtb/ouPvBzWk5yCvuKoR5HJc6k2g3UoVo8N0TIyS4evwnm6WCBlR0ayeEQssG0pKSrL0N7UVMCOxiZJPUJDrIumOqChgSGcdL21Xsfq8+yey6wA+OqRh9TkNXz2hoPmD3tHNEiUjuj+rZyTpuu7RS0aSkpIQFRWFxMREy5/ARkTkbXRdx5cndLyRoCI919hYRQLeCZfxfxEyyine080iKm2F1T7e8acIERF5hCRJGPGojOS+DnSqZaxIUnVg0n4NrZY7kXzVGrdzICotLLCIiGyonr+EDd0VzGgjw8/gySIHfgeiljnx4QEVqsZCi6gwLLCIiGxKliS81kTBgWccaFPDWDcrVwPe3quh7UoVKddZZBHdjQWWDcXExJg9BXKBGYnNavkEVZKwraeCj1rJKGfwt0LCZR3hS5349LAKzbOn9JaI1TKyIqtnxALLhkaNGmX2FMgFZiQ2K+ajyBJGhylI6uNAVKCxbtYtFfjTLg1Prlbxc7oYRZYVM7Iaq2fEAsuGunTpYvYUyAVmJDYr59OkqoRdvRVMiJJh9LZXWy7qCF3ixP87rsHDF6gbZuWMrMLqGbHAIiKiAnxkCX+NVLA71oEmVYyNzcgFXtquovtaFRcyxehmEZmBBRYRERUqMlBCYh8H/tJMhmywm7X2Fx1NFzsx/6T53SwiM7DAsqH4+Hizp0AuMCOx2Smf8oqED1sq2NFLQVCAsbHXc4D/2qKi70YVl2+VbZFlp4y8ldUzYoFlQ3FxcWZPgVxgRmKzYz7RNWQc6OvA602M/9pY9rOOJoudWHpGK4WZFc6OGXkbq2fEpXKIiMiQzb9qGLZVxdkM42MHNpIwvY2CKuW51A5ZB5fKISKiEutYS8ahvg68+KjxImnBqbxzs344X3bdLCIzsMAiIiLDAspJ+KKdA6u7KqjpZ2zsr1lA97UqXtruRHoOT4Ana2KBRURExda9rozDfR0Y0NB4N+v/HdcRtsSJLb+ym0XWwwLLhoYNG2b2FMgFZiQ25lNQVV8JCzo5sLizgkBfY2N/zgA6rlbxp50qspye62YxI/FZPSMWWDZk9bvnWgEzEhvzKVzfBjKO9HMgtp7xbtanRzSEL3Fi1yXPdLOYkfisnhGvIiQiIo/SdR0LTukYtVPFjRxjY2UJGBMmY0KUjPIKrzQk78CrCImIqNRJkoRBQXnnZnV92FiRpOnA5IMami9zIimNJ8CT92KBRUREpeLhihJ+6Kbg87YKKjiMjT18DWgV78TEJBW5Ggst8j4ssGxox44dZk+BXGBGYmM+7pMkCS+F5N03q/1DxrpZTh14L1FD9HIVR68ZK7KYkfisnhELLBuaMmWK2VMgF5iR2JiPcY8ESNjcU8E/W8vwVYyNTUzTEbnMiX8cUqG62c1iRuKzekYssGzou+++M3sK5AIzEhvzKR5ZkvDnUAUHnnGgVXVj3azbKjBmt4YOq1ScuuG6yGJG4rN6RiywbMjPz+Btl6nMMSOxMZ+SCa4sYUcvBR+0kOFj8LfQT5d0NFvqxMwjKrQiLoJnRuKzekYssIiIqMw5ZAlvhyvYF+tAs6rGxmY5gVE7NXRZo+JcBk+AJzGxwCIiItOEVZOwJ9aBcREyjN72atOvOkIXOzEvRYOHb+lIVGIssGxozJgxZk+BXGBGYmM+nlVOkTCxuYJdvRWEVDY29mYuMGyrit7rVfyW9Z8iixmJz+oZscCyobp165o9BXKBGYmN+ZSOFg/KSOzjwP+GyjB6D/eV53Q0WezE96l5S+0wI/FZPSMulUNERMLZflHD0K0qTqcbH/vcIxJmPq4g0JdL7VDZ4FI5RETkFdrVlHGwrwOvhhj/NbXwtI6mi51YcdYzC0cTFQcLLCIiElJFHwmftVWw/mkFD1cwNvbSLaD3ehVDtzhx/TZPgKeyxwLLho4fP272FMgFZiQ25lO2nnpYRnJfB4Y2Nv6R31cndYQucWL9L+xmicbqxxELLBsaO3as2VMgF5iR2JhP2atcXsLcDg4s76KgxgPGxv6SCXT9QcWrO1Rk5LKbJQqrH0cssGxoxowZZk+BXGBGYmM+5ompJ+NwPweee8R4N2vWMQ3Nljix/SK7WSKw+nHEAsuGrH5prBUwI7ExH3MF+kr4/kkHvuukoGp5Y2NPpwMdVqkYnaDilpPdLDNZ/ThigUVERF7p+YYyjvRzoFddY90sHcDUZA3/v727j6qi3tcA/szM5sUXtFB8IxAq1MJUQBNCJV9Rq51EXu+xLDWvcE5anXNTO63V1c5NS5fXe0xdnly+XN/CupqYS8PMjh5RzJeN7xKKgF40BTXfQHDP7PuH5VE0NiMD82Pm+azVH+61Z/Z39zCLh9+ePRO91o09xVzNotrBgkVERPVWq4YS1g1QsCRBQRMffdvm/AzErVPxwV4VFSpXs8hYLFg2NH36dLNHIC+YkdiYj1gkScLIdrfOzeoXrG81S/UAH2VreDrdjQMXWLLqktWPIxYsGyotLTV7BPKCGYmN+YgppLGETYMUzIuX4aNV6Nr2wEWgW7ob07JVuDUWrbpg9eOIt8ohIiLLOXHZg1HbVGSe0/8r7ukgCUufVdDhId5qh6qHt8ohIiJbeLyphK3PK5jZXYafom/b3cUeRH3lxl8PqdCMXYMgG6myYJWXlyMpKQkdOnRAVFQUEhMTkZeXV1ezERERPTBFlvDvnRS4khzo2lzfatQNFfjjLg19NqjIv8KSRfp5XcFKSUlBTk4OsrOz4XQ6MWbMmLqYi2pRSUmJ2SOQF8xIbMxHfHdm9OTDEna+qOAvMTIcOj/123b21q12FhzTYPAZNbZn9eOoyoLl5+eHgQMH3v53bGwsCgsLa30oql2jR482ewTyghmJjfmIr3JGPrKED6IV7B7iwFOB+vZ13Q2kZKoYlKGi6DpLllGsfhzpOgdr9uzZGDJkSG3NQnVkypQpZo9AXjAjsTEf8f1WRlHNJewZ4sCfu8iQda5mbfo/DzqudmPFca5mGcHqx1G1C9a0adOQl5eHadOm1eY8VAf47U7xMSOxMR/xVZWRnyJhWjcFO15Q0K6pvv3+XAGM2Koi+TsV58tYsmrC6sfRPQVr+fLliIqKQnR0NJYuXQoAmDlzJtLT05GRkQF/f/9q7Xjw4MFwOp13/RcXF4f09PS7nvftt9/C6XTes/2bb76JRYsW3fWYy+WC0+m853PbyZMn33PBslOnTsHpdCInJ+eux+fMmYMJEybc9VhpaSmcTicyMzPvejwtLQ2jRo26Z7Zhw4bxffB98H3wffB91PP3EdtSRvLRTxB/w3XPPrxZW+BB5Go3VuaUmf4+AGvkUV/eR1pa2u1ek5CQgFatWmHcuHH3PN/rdbBmzZqFzz//HFu2bEHTpt6rPq+DRURE9c3WMxpGbVNRcE3/tr97TMLcZxQE+vO6WXal+zpYRUVFePfdd3H58mX07t0bUVFRiIuLq5NhqfZU/kuCxMOMxMZ8xKc3o2fbyDiY7MDYDvovD5mW50HHNW5sPMUbR+th9eOoyp+k4OBgaJqG48ePw+VyITs7G1lZWXU1G9USl0v/cjjVLWYkNuYjvgfJKMBXwmc9FXwzUEFwI33bni0FntukYsw/3LhSwXOzqsPqxxFvlUNERFTJpXIP3tqpYsUJ/b8iQxsDS3op6BPMm6XYBW+VQ0REVA0P+0lY3tuBr/opCKred7tuO3UN6LtRxfgdKq7f5GqWXbFgERER/YakcBlHXnbgpTD9J7DPPaqhy1du7DzHc7PsiAWLiIioCkENJKzup2BlbwUP+erb9sQVoOd6FZN+UHHDzdUsO2HBsqH7Xd+DxMKMxMZ8xGd0RpIkYfjjt1azBoXoW83SPMCMgxq6pruxr5gl61dWP45YsGzofhdEI7EwI7ExH/HVVkZtGknYkKhgYU8FjX30bXvkEhC7zo0p+1Tc1Fi0rH4csWDZ0IABA8wegbxgRmJjPuKrzYwkScIbHWQcSnagd2t9q1luD/ChS0PsOjcOX7R3ybL6ccSCRURE9ADCAiR895yCT+NkNFD0besqAWLWujHjgAqVq1mWxIJFRET0gGRJwviOCva/5EBsC32rWRUaMGm3hp7rVRy/zJJlNSxYNlT5xpYkHmYkNuYjvrrOqN1DEjJfUPBJNxm+On+zZp33oPMaN+YcVqEZe+1voVn9OGLBsqG0tDSzRyAvmJHYmI/4zMhIkSVM6qJgb5IDUc30bVumAm9laei3QUXhVXuULKsfR7xVDhERkcEqVA+m7tcwNVuDqvO3bIAP8N+xCka3lyBJ+i9wSnWPt8ohIiKqA76KhA9jFPzwogNPPqRv26s3gTHbVTy/ScWZ6/ZYzbIiFiwiIqJaEhMkYV+SAxM7ydC7FrXxtAcd17jx+QkNBn/YRHWABYuIiKgW+TskTO+uYPsLCh5vom/bS+XAK39XMXSLiuIylqz6hAXLhkaNGmX2COQFMxIb8xGfiBnFt5Kx/yUHxj2p/1fvmnwPIle7kV5gnRtHi5iRkViwbMjqV8+1AmYkNuYjPlEzauQjYU68gu8GKwhppG/b4htA0mYVr/3djUvl9X81S9SMjMJvERIREZngcoUHf8pSsThX/6/h4EbAop4KEkO4TiICfouQiIhIEE19JSxKcGD9AAWtGujbtug6MDBDRcp2FVcr6v9qlhU5zB6AiIjIzp5vK+NwSwnjdqpYlaejLJ07jgWF17B+O/BhjIyYoOqtmQQEBCAiIuIBp6XqYsGyoczMTPTo0cPsMagKzEhszEd89S2jZv4S0vo48FKYht9nqrhQ7mWDc8eBDyIBAGcBjNX5erm5uaaXrPqWkV4sWDY0Y8YMS/9QWwEzEhvzEV99zWjoozJ6tZIwNlPF14VVrGbduAYAaP/7aDRs07ja+y89cw0/znfh6tWrNR21xuprRtXFgmVDq1atMnsE8oIZiY35iK8+Z9SyoYT0/gqWHffgrZ0qrtz87ec2bNMYAeE6LxUviPqcUXXwJHcbatiwodkjkBfMSGzMR3z1PSNJkvB6OxmHX3agf7A170dY3zPyhgWLiIhIUCGNJWwapOBvPWQ04mdO9QoLFhERkcAkSULKEwoOJjvQs5U1V7OsiAXLhiZMmGD2COQFMxIb8xGfFTN6tImErc8rmBUrw0cxe5qas2JGd2LBsqHQ0FCzRyAvmJHYmI/4rJqRLEn441MK0nrXrGGdvmb+xUmtmtGvWLBsaPz48WaPQF4wI7ExH/FZPaPwJjX7qPBfv1cx/6gKg++Wp4vVM2LBIiIispkbbuAPOzQkfqMKsZplRSxYRERENrW5yIOOq91YmquZupplRSxYNpSTk2P2COQFMxIb8xEfM6q+KzeBkdtUDNms4qfSuitZVs+IBcuGJk6caPYI5AUzEhvzER8z0u/rwlurWf97UquT17N6RrxsmQ3NnTvX7BHIC2YkNuYjPrtkVHrmmqHPv1AO/MsWFcPyNcyLV9DMv/auu2X1jFiwbMjqX421AmYkNuYjPqtnFBAQAAD4cb7rwXbgX/UNor846cG2s24s6Knghba182GX1TNiwSIiIqpnIiIikJubi6tXr1br+Tt/0vCXbA3FZbhVrlpGeN3mpzLA+a2Kke00/DVOQVNfXkVeDxYsIiKieigiwntJ+lU0gFf7evB2loplx/WdyP4/uR5sKXJjcYKCfsE8dbu6+H/KhqZPn272COQFMxIb8xEfM7rXQ34Slj7rwNr+Clo00Lft6etA/40q/pCp4tpNY75paPWMWLBsqLS01OwRyAtmJDbmIz5m9NuGhMk4nOxAcrj+j/zmH9PQ5Ss3Mn+q+TcNrZ6R5DH4ymIulwsxMTHYt28foqOjjdw1ERERGcTj8WBVngdv7lRxqVzfthKAPz0l46OuMvwdPDfrft2HK1hEREQ2JEkSfvf4rdWs50L0lSQPgP86pCF6rRt7i+vmuln1DQsWERGRjbVpJGF9ooJFvRQE+Ojb9tjPQOw6Ff+xV0WFylvt3IkFy4ZKSkrMHoG8YEZiYz7iY0b6SJKE0e1lHEp2oE8bfatZqgf4z2wN3de5cehi9UuW1TNiwbKh0aNHmz0CecGMxMZ8xMeMHkzbAAmbByuY84yMBoq+bfdfAGLWuvHJfhWq5r1oWT0jFiwbmjJlitkjkBfMSGzMR3zM6MHJkoRxkQoOJDvwTEt9q1k3NeDPezT0WK8i9+eqS5bVM2LBsiF+u1N8zEhszEd8zKjmIppK+MfzCmY8LcNXZ1vYdd6DLl+58elhFdpvXKzA6hmxYBEREdF9KbKECZ0VuJIciG6ub9syFXg7S0PfDSoKrtrvBHgWLCIiIqpSZKCEXS86MCVaht7LXm0968FTa9xYmKPB4EtvCo0Fy4YWLVpk9gjkBTMSG/MRHzMyno8sYXKMgh+GOBD5sL5tr90E/m27iuc2qSi6fqtkWT0jFiwbcrlcZo9AXjAjsTEf8TGj2hPdXMK+JAcmdZYh61zN+ua0Bx1Xu7HiuIZ9Fs+It8ohIiKiB7LznIaRW1Ucv6J/26QwCX/roaBFg/p/qx3eKoeIiIgM80xLGdkvOTA+Un+dWFvgQeRqN7LOWfNWOyxYRERE9MAa+Uj49BkFWwYraNtY37YlN4DBGSqOXrLeye8sWERERFRjfYJlHEx24I32+j7y+7kCmHfUeqtYLFg25HQ6zR6BvGBGYmM+4mNG5mjiK2FhLwc2JCpo3bD6220pYsEiCxg3bpzZI5AXzEhszEd8zMhcg0NlHE52YPhj1VvNssKJ7pWxYNnQgAEDzB6BvGBGYmM+4mNG5gv0l7CyjwOr+ylo7l/1c59tzYJFREREVG3J4TKOvOxAUtj9S1Tkw8D7XaxXR6z3joiIiEgoLRpIWNNPQXp/BQOCJTTxAcIDgPc6y8hyOuCv9/479QALlg2lp6ebPQJ5wYzExnzEx4zEI0kSXgyTsWmwA5dH+mCW/wZ8/LSCAF/rlSuABcuWpk+fbvYI5AUzEhvzER8zEp/VM2LBsqGgoCCzRyAvmJHYmI/4mJH4rJ4RCxYRERGRwViwiIiIiAzGgkVERERkMIfROywrKwMAHDt2zOhdk0F2794Nl8tl9hhUBWYkNuYjPmYkPitl9Gvn+bUDAYDk8XgMvYX1ypUr8eqrrxq5SyIiIiLhrVixAq+88gqAWihYJSUl2LRpE8LCwtCgQQMjd01EREQknLKyMhQUFCAxMRHNmzcHUAsFi4iIiMjueJI7ERERkcFYsIiIiIgMZmjBOnHiBOLj49G+fXt0796d3yQUTHl5OZKSktChQwdERUUhMTEReXl5Zo9F97FkyRLIsoyvv/7a7FGokoqKCowfPx7t2rVD586d8dprr5k9Et1h48aNiImJQVRUFDp16oRly5aZPZLtvf322wgPD4csyzh48ODtx4uLizFo0CC0a9cOnTp1wvbt202c0niGFqyUlBSkpqbixx9/xMSJE/H6668buXsyQEpKCnJycpCdnQ2n04kxY8aYPRJVUlhYiIULFyIuLs7sUeg+Jk2aBFmWkZubiwMHDmDmzJlmj0R3GDFiBJYtW4bs7GysX78eKSkpuH79utlj2drQoUOxY8cOhIWF3fX4e++9h7i4OOTm5mLx4sUYPnw4VFU1Z8haYFjBKi4uxr59+25/PTE5ORmnT5/GyZMnjXoJqiE/Pz8MHDjw9r9jY2NRWFho4kRUmcfjwZgxYzB37lz4+vqaPQ5VUlpaisWLF2Pq1Km3H2vRooWJE1Flsizj0qVLAIDLly+jefPm8PPzM3kqe+vRowfatGmDyt+p+/LLL5GamgoA6Nq1K4KDg7Ft2zYzRqwVhhWs06dPo3Xr1pDlf+4yNDQUp06dMuolyGCzZ8/GkCFDzB6D7jBr1iz07NkTUVFRZo9C95GXl4fAwEBMnToV3bp1Q0JCAr7//nuzx6I7rFq1CklJSQgLC0OvXr2wdOlSOByGX1ObaujixYtwu913/YHStm1bS3UG/tTZ1LRp05CXl4cFCxaYPQr94siRI1izZo3lzkOwErfbjcLCQnTs2BEff/wx9u/fj/79++Po0aMICgoyezzbU1UVH330EdLT0xEfH4+9e/fC6XTi8OHDCAwMNHs8shnDVrBCQkJw9uxZaJp2+7FTp04hNDTUqJcgg8ycORPp6enIyMiAv7+/2ePQL7Zv347CwkJEREQgPDwcu3btwtixY/HZZ5+ZPRr9IjQ0FIqiYPjw4QCALl26IDw8HIcOHTJ5MgKA/fv34+zZs4iPjwdw62OnRx55BNnZ2SZPRpUFBgbC4XDg/Pnztx8rKCiwVGcwrGAFBQUhOjoay5cvBwCsXr0aISEhePTRR416CTLArFmzsGrVKmzevBkBAQFmj0N3SE1NRVFREU6ePIn8/HzExsZiwYIFSElJMXs0+kWzZs3Qt29fZGRkAADy8/NRUFCAJ554wuTJCPjnH/o5OTkAbn2z/eTJk2jfvr3Jk9H9DB06FPPnzwcA7NmzB2fOnEFCQoLJUxnH0Cu55+bmYuTIkbhw4QKaNm2KJUuWIDIy0qjdUw0VFRUhJCQEjz32GAICAuDxeODv74+srCyzR6P76NOnD9555x04nU6zR6E75Ofn44033kBJSQkURcHkyZN5LqNAvvjiC0ydOhWKokDTNLz//vsYNmyY2WPZWmpqKjZs2IBz586hWbNmCAgIQG5uLs6fP48RI0YgPz8ffn5+mDdvHnr16mX2uIbhrXKIiIiIDMYruRMREREZjAWLiIiIyGAsWEREREQGY8EiIiIiMhgLFhEREZHB/h+OoonDtZeoEQAAAABJRU5ErkJggg==\" />"
      ]
     },
     "execution_count": 18,
     "metadata": {},
     "output_type": "execute_result"
    }
   ],
   "source": [
    "dp=plot(0,leg=:false)\n",
    "plot!(t,dy,label=\"derivative\",w=6)\n",
    "for st in 1:1\n",
    "    for int in 1:Ni\n",
    "        scatter!(ts[int][1:end-1],dζ[int][st,1:Nck[int]],markersize =10,markershape = :rect,label=string(\"approximate derivative \",int))\n",
    "    end\n",
    "end\n",
    "xlims!(t0,tf*1.1)"
   ]
  },
  {
   "cell_type": "markdown",
   "metadata": {},
   "source": [
    "Which matches the actual!!"
   ]
  }
 ],
 "metadata": {
  "anaconda-cloud": {},
  "kernelspec": {
   "display_name": "Julia 0.5.0",
   "language": "julia",
   "name": "julia-0.5"
  },
  "language_info": {
   "file_extension": ".jl",
   "mimetype": "application/julia",
   "name": "julia",
   "version": "0.5.0"
  }
 },
 "nbformat": 4,
 "nbformat_minor": 1
}
